{
 "cells": [
  {
   "cell_type": "markdown",
   "id": "b6af52bb",
   "metadata": {},
   "source": [
    "Вариант 26."
   ]
  },
  {
   "cell_type": "markdown",
   "id": "24180841",
   "metadata": {},
   "source": [
    "Задание 6. Реализовать функцию для вычисления дерева решений."
   ]
  },
  {
   "cell_type": "code",
   "execution_count": 1,
   "id": "acfbdab2",
   "metadata": {},
   "outputs": [],
   "source": [
    "s = {\n",
    "    1979:\n",
    "    {\n",
    "        'ZIMPL':\n",
    "        {\n",
    "            1969: 0,\n",
    "            1980: 1,\n",
    "            1957: 2\n",
    "        },\n",
    "        'METAL':\n",
    "        {\n",
    "            1969: 3,\n",
    "            1980: 4,\n",
    "            1957: 5\n",
    "        },\n",
    "        'PLSQL':\n",
    "        {\n",
    "            1969: 6,\n",
    "            1980: 7,\n",
    "            1957: 8\n",
    "        }\n",
    "    },\n",
    "    1980:\n",
    "    {\n",
    "        1969:\n",
    "        {\n",
    "            'ZIMPL': 9,\n",
    "            'METAL': 10,\n",
    "            'PLSQL': 11\n",
    "        },\n",
    "        1980: 12,\n",
    "        1957: 13\n",
    "    }\n",
    "}\n",
    "\n",
    "\n",
    "def main(path):\n",
    "    s1 = s[path[1]]\n",
    "    if path[1] == 1979:\n",
    "        s2 = s1[path[2]]\n",
    "        direction = 1\n",
    "    elif path[1] == 1980:\n",
    "        s2 = s1[path[0]]\n",
    "        direction = 0\n",
    "    if isinstance(s2, int):\n",
    "        return s2\n",
    "    if direction == 1:\n",
    "        return s2[path[0]]\n",
    "    else:\n",
    "        return s2[path[2]]\n"
   ]
  },
  {
   "cell_type": "code",
   "execution_count": 2,
   "id": "ccc1fd4b",
   "metadata": {},
   "outputs": [
    {
     "name": "stdout",
     "output_type": "stream",
     "text": [
      "4\n",
      "12\n"
     ]
    }
   ],
   "source": [
    "print(main([1980, 1979, 'METAL', 1995]))\n",
    "print(main([1980, 1980, 'ZIMPL', 2015]))"
   ]
  },
  {
   "cell_type": "markdown",
   "id": "0f78dc9f",
   "metadata": {},
   "source": [
    "Задание 7. Реализовать функцию для преобразования битовых полей."
   ]
  },
  {
   "cell_type": "code",
   "execution_count": 3,
   "id": "226a2ffe",
   "metadata": {},
   "outputs": [],
   "source": [
    "def main(hex_number):\n",
    "    str_bin_number = str(bin(hex_number)[2:]).rjust(32, '0')\n",
    "    return int(str_bin_number[1:5] + str_bin_number[0]\n",
    "                   + str_bin_number[5:], 2)"
   ]
  },
  {
   "cell_type": "code",
   "execution_count": 4,
   "id": "dd8a0957",
   "metadata": {
    "scrolled": true
   },
   "outputs": [
    {
     "name": "stdout",
     "output_type": "stream",
     "text": [
      "3017742014\n",
      "302353381\n"
     ]
    }
   ],
   "source": [
    "print(main(0x5bdf16be))\n",
    "print(main(0x0a058be5))"
   ]
  },
  {
   "cell_type": "markdown",
   "id": "802127f9",
   "metadata": {},
   "source": [
    "Задание 8. Реализовать функцию для разбора строки, содержащей данные в текстовом формате. Изучить детали формата по приведенным ниже примерам. Результат вернуть в виде словаря."
   ]
  },
  {
   "cell_type": "code",
   "execution_count": 5,
   "id": "bd68a267",
   "metadata": {},
   "outputs": [],
   "source": [
    "def main(s: str):\n",
    "    res = {}\n",
    "    s = s.replace(\" \", \"\")\n",
    "    s = s.replace(\"\\n\", \"\")\n",
    "    s = s.replace(\"do\", \"\")\n",
    "    s = s.replace(\"od\", \"\")\n",
    "    s = s.replace(\"<sect>decllist(@'\", \"\")\n",
    "    s = s.replace(\"</sect>\", \"\")\n",
    "    s = s.replace(\"==>q(\", \"'\")\n",
    "    s = s.replace(\"')'\", \")\")\n",
    "    counter = 0\n",
    "    for el in s.split(\")\"):\n",
    "        if counter == 2:\n",
    "            res[key] = value\n",
    "            counter = 0\n",
    "        if '@' in el:\n",
    "            value = list(map(str, el.split(\"'@'\")))\n",
    "            counter += 1\n",
    "        else:\n",
    "            key = el\n",
    "            counter += 1\n",
    "    return res\n"
   ]
  },
  {
   "cell_type": "code",
   "execution_count": 6,
   "id": "72c8312d",
   "metadata": {},
   "outputs": [
    {
     "name": "stdout",
     "output_type": "stream",
     "text": [
      "{'sore_173': ['atqu_858', 'riisle', 'titia_359'], 'inesis': ['ries_346', 'xequ', 'onindi']}\n"
     ]
    }
   ],
   "source": [
    "print(main(\"do <sect>decl list(@'atqu_858' @'riisle' @'titia_359' ) ==>q(sore_173) </sect> <sect> decl list(@'ries_346' @'xequ'@'onindi')==>q(inesis) </sect> od\"))"
   ]
  }
 ],
 "metadata": {
  "kernelspec": {
   "display_name": "Python 3",
   "language": "python",
   "name": "python3"
  },
  "language_info": {
   "codemirror_mode": {
    "name": "ipython",
    "version": 3
   },
   "file_extension": ".py",
   "mimetype": "text/x-python",
   "name": "python",
   "nbconvert_exporter": "python",
   "pygments_lexer": "ipython3",
   "version": "3.8.8"
  }
 },
 "nbformat": 4,
 "nbformat_minor": 5
}
