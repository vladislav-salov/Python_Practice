{
 "cells": [
  {
   "cell_type": "code",
   "execution_count": 2,
   "id": "0aef4e5c",
   "metadata": {},
   "outputs": [
    {
     "name": "stdout",
     "output_type": "stream",
     "text": [
      "The Zen of Python, by Tim Peters\n",
      "\n",
      "Beautiful is better than ugly.\n",
      "Explicit is better than implicit.\n",
      "Simple is better than complex.\n",
      "Complex is better than complicated.\n",
      "Flat is better than nested.\n",
      "Sparse is better than dense.\n",
      "Readability counts.\n",
      "Special cases aren't special enough to break the rules.\n",
      "Although practicality beats purity.\n",
      "Errors should never pass silently.\n",
      "Unless explicitly silenced.\n",
      "In the face of ambiguity, refuse the temptation to guess.\n",
      "There should be one-- and preferably only one --obvious way to do it.\n",
      "Although that way may not be obvious at first unless you're Dutch.\n",
      "Now is better than never.\n",
      "Although never is often better than *right* now.\n",
      "If the implementation is hard to explain, it's a bad idea.\n",
      "If the implementation is easy to explain, it may be a good idea.\n",
      "Namespaces are one honking great idea -- let's do more of those!\n"
     ]
    }
   ],
   "source": [
    "import this"
   ]
  },
  {
   "cell_type": "code",
   "execution_count": 7,
   "id": "b67e96c8",
   "metadata": {},
   "outputs": [
    {
     "name": "stdout",
     "output_type": "stream",
     "text": [
      "4\n",
      "48\n"
     ]
    }
   ],
   "source": [
    "x = int(input())\n",
    "a = x + x\n",
    "b = x + a\n",
    "c = b + b\n",
    "print(c + c)"
   ]
  },
  {
   "cell_type": "code",
   "execution_count": 9,
   "id": "5c828c23",
   "metadata": {},
   "outputs": [
    {
     "name": "stdout",
     "output_type": "stream",
     "text": [
      "4\n",
      "64\n"
     ]
    }
   ],
   "source": [
    "x = int(input())\n",
    "a = x + x\n",
    "b = a + a\n",
    "c = b + b\n",
    "print(c + c)"
   ]
  },
  {
   "cell_type": "code",
   "execution_count": 14,
   "id": "fb7bd5a5",
   "metadata": {},
   "outputs": [
    {
     "name": "stdout",
     "output_type": "stream",
     "text": [
      "1\n",
      "15\n"
     ]
    }
   ],
   "source": [
    "x = int(input())\n",
    "a = x + x\n",
    "b = a + a\n",
    "c = b + b\n",
    "d = x - c\n",
    "print(c - d)"
   ]
  },
  {
   "cell_type": "code",
   "execution_count": 24,
   "id": "e10559f1",
   "metadata": {},
   "outputs": [
    {
     "name": "stdout",
     "output_type": "stream",
     "text": [
      "1\n",
      "29\n"
     ]
    }
   ],
   "source": [
    "x = int(input())\n",
    "a = x + x\n",
    "b = a + a\n",
    "c = b + b\n",
    "d = c - x\n",
    "e = d + d\n",
    "f = e + e\n",
    "g = f + x\n",
    "print(g)"
   ]
  },
  {
   "cell_type": "raw",
   "id": "08ae29a7",
   "metadata": {},
   "source": []
  },
  {
   "cell_type": "code",
   "execution_count": 42,
   "id": "31e9d148",
   "metadata": {},
   "outputs": [
    {
     "name": "stdout",
     "output_type": "stream",
     "text": [
      "2 4\n"
     ]
    },
    {
     "data": {
      "text/plain": [
       "16"
      ]
     },
     "execution_count": 42,
     "metadata": {},
     "output_type": "execute_result"
    }
   ],
   "source": [
    "def pow_of(a, n):\n",
    "    x = a\n",
    "    for i in range(n - 1):\n",
    "        x *= a\n",
    "    return x\n",
    "\n",
    "a, n = map(int, input().split())\n",
    "pow_of(a, n)"
   ]
  },
  {
   "cell_type": "code",
   "execution_count": 27,
   "id": "a2786699",
   "metadata": {},
   "outputs": [
    {
     "name": "stdout",
     "output_type": "stream",
     "text": [
      "2 12\n",
      "x = 2\n",
      "y = 12\n",
      "result = 0\n",
      "b += b\n",
      "result += b\n",
      "b += b\n",
      "result = 24\n"
     ]
    }
   ],
   "source": [
    "def multiply(a, b):\n",
    "    s = 0\n",
    "    print(\"result = 0\")\n",
    "    while a:\n",
    "        if a % 2 != 0:\n",
    "            print(\"result += b\")\n",
    "            s += b\n",
    "        print(\"b += b\")\n",
    "        a //= 2\n",
    "        b *= 2\n",
    "    print(\"result = \" + str(s))\n",
    "\n",
    "x, y = map(int,input().split())\n",
    "print(\"x =\", x)\n",
    "print(\"y =\", y)\n",
    "multiply(x, y)"
   ]
  }
 ],
 "metadata": {
  "kernelspec": {
   "display_name": "Python 3",
   "language": "python",
   "name": "python3"
  },
  "language_info": {
   "codemirror_mode": {
    "name": "ipython",
    "version": 3
   },
   "file_extension": ".py",
   "mimetype": "text/x-python",
   "name": "python",
   "nbconvert_exporter": "python",
   "pygments_lexer": "ipython3",
   "version": "3.8.8"
  }
 },
 "nbformat": 4,
 "nbformat_minor": 5
}
