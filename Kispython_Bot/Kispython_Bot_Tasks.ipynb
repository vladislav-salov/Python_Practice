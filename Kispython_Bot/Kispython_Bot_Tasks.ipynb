{
 "cells": [
  {
   "cell_type": "markdown",
   "id": "24180841",
   "metadata": {},
   "source": [
    "<h2 align=\"center\">Решения заданий с сайта kispython.ru.</h2>"
   ]
  },
  {
   "cell_type": "markdown",
   "id": "8a9fa49f",
   "metadata": {},
   "source": [
    "<h3 align=\"center\">Задание 1 (вариант 26, ИНБО-01-20).</h3>\n",
    "\n",
    "![_IMAGE_NOT_FOUND_](./images/1_26.jpg)"
   ]
  },
  {
   "cell_type": "code",
   "execution_count": 1,
   "id": "acfbdab2",
   "metadata": {},
   "outputs": [],
   "source": [
    "def main(y, z, x):\n",
    "    return ((y ** 3 - z ** 2 - 89) ** 5 - (1 - 52 * x ** 2) ** 6) /\\\n",
    "           (71 * (42 * z ** 3 + x + y ** 2) ** 3 + z ** 5) + \\\n",
    "           (88 * abs(y - z ** 2 - x ** 3) ** 6) ** 0.5\n"
   ]
  },
  {
   "cell_type": "code",
   "execution_count": 2,
   "id": "ccc1fd4b",
   "metadata": {
    "scrolled": true
   },
   "outputs": [
    {
     "name": "stdout",
     "output_type": "stream",
     "text": [
      "-5.99e+05\n",
      "-8.50e+04\n"
     ]
    }
   ],
   "source": [
    "print('%.2e' % main(0.26, 0.51, 0.92))\n",
    "print('%.2e' % main(-0.96, 0.61, -0.48))"
   ]
  },
  {
   "cell_type": "markdown",
   "id": "0f78dc9f",
   "metadata": {},
   "source": [
    "<h3 align=\"center\">Задание 2 (вариант 26, ИНБО-01-20).</h3>\n",
    "\n",
    "![_IMAGE_NOT_FOUND_](./images/2_26.jpg)"
   ]
  },
  {
   "cell_type": "code",
   "execution_count": 3,
   "id": "226a2ffe",
   "metadata": {},
   "outputs": [],
   "source": [
    "import math\n",
    "\n",
    "\n",
    "def main(x):\n",
    "    if x < 91:\n",
    "        return (x ** 3 + x ** 2 + 42 * x) ** 5 - 43 *\\\n",
    "               (41 * x ** 3 + x ** 2 + 50) - x ** 6 / 87\n",
    "    if 91 <= x < 155:\n",
    "        return 24 * math.sin(x ** 2 + 97 + x ** 3) ** 6\\\n",
    "               + math.atan(x ** 2) ** 4\n",
    "    if x >= 155:\n",
    "        return x ** 7 + 87 * math.atan(1 + x ** 3 + x) ** 5\\\n",
    "               + (52 * x ** 2 - 35 - 70 * x) ** 6\n"
   ]
  },
  {
   "cell_type": "code",
   "execution_count": 4,
   "id": "dd8a0957",
   "metadata": {},
   "outputs": [
    {
     "name": "stdout",
     "output_type": "stream",
     "text": [
      "8.56e+00\n",
      "4.90e+36\n"
     ]
    }
   ],
   "source": [
    "print('%.2e' % main(135))\n",
    "print('%.2e' % main(159))"
   ]
  },
  {
   "cell_type": "markdown",
   "id": "802127f9",
   "metadata": {},
   "source": [
    "<h3 align=\"center\">Задание 3 (вариант 26, ИНБО-01-20).</h3>\n",
    "\n",
    "![_IMAGE_NOT_FOUND_](./images/3_26.jpg)"
   ]
  },
  {
   "cell_type": "code",
   "execution_count": 5,
   "id": "bd68a267",
   "metadata": {},
   "outputs": [],
   "source": [
    "def main(a, m, b):\n",
    "    result = 0\n",
    "    for i in range(1, b + 1):\n",
    "        s = 0\n",
    "        for j in range(1, m + 1):\n",
    "            p = 1\n",
    "            for c in range(1, a + 1):\n",
    "                p *= c ** 14 + (j ** 2 - 11 * c ** 3 - 79 * i) ** 6 + \\\n",
    "                     j ** 3 / 28\n",
    "            s += p\n",
    "        result += s\n",
    "    return result\n"
   ]
  },
  {
   "cell_type": "code",
   "execution_count": 6,
   "id": "2207feae",
   "metadata": {},
   "outputs": [
    {
     "name": "stdout",
     "output_type": "stream",
     "text": [
      "9.19e+105\n",
      "1.51e+46\n"
     ]
    }
   ],
   "source": [
    "print('%.2e' % main(6, 8, 4))\n",
    "print('%.2e' % main(3, 3, 3))"
   ]
  },
  {
   "cell_type": "markdown",
   "id": "72e60518",
   "metadata": {},
   "source": [
    "<h3 align=\"center\">Задание 4 (вариант 26, ИНБО-01-20).</h3>\n",
    "\n",
    "![_IMAGE_NOT_FOUND_](./images/4_26.jpg)"
   ]
  },
  {
   "cell_type": "code",
   "execution_count": 7,
   "id": "7700963a",
   "metadata": {},
   "outputs": [],
   "source": [
    "import math\n",
    "\n",
    "\n",
    "def main(n):\n",
    "    if n == 0:\n",
    "        return 0.58\n",
    "    if n == 1:\n",
    "        return -0.16\n",
    "    if n >= 2:\n",
    "        return math.atan(1 + main(n - 2) ** 2 + 22 * main(n - 1) ** 3) ** 2\n"
   ]
  },
  {
   "cell_type": "code",
   "execution_count": 8,
   "id": "649e6d72",
   "metadata": {},
   "outputs": [
    {
     "name": "stdout",
     "output_type": "stream",
     "text": [
      "2.46e+00\n",
      "2.46e+00\n"
     ]
    }
   ],
   "source": [
    "print('%.2e' % main(8))\n",
    "print('%.2e' % main(6))"
   ]
  },
  {
   "cell_type": "markdown",
   "id": "25470006",
   "metadata": {},
   "source": [
    "<h3 align=\"center\">Задание 5 (вариант 26, ИНБО-01-20).</h3>\n",
    "\n",
    "![_IMAGE_NOT_FOUND_](./images/5_26.jpg)"
   ]
  },
  {
   "cell_type": "code",
   "execution_count": 9,
   "id": "2a229263",
   "metadata": {},
   "outputs": [],
   "source": [
    "def main(y, z, x):\n",
    "    n = len(y)\n",
    "    result = 0\n",
    "    for i in range(1, n + 1):\n",
    "        result += 51 * 71 * (42 * z[n - i] ** 3 + x[n - i] + y[i - 1] ** 2) \\\n",
    "                  ** 3\n",
    "    return result\n"
   ]
  },
  {
   "cell_type": "code",
   "execution_count": 10,
   "id": "53e134b3",
   "metadata": {},
   "outputs": [
    {
     "name": "stdout",
     "output_type": "stream",
     "text": [
      "1.31e+08\n",
      "4.58e+07\n"
     ]
    }
   ],
   "source": [
    "print('%.2e' % main([0.9, 0.6, 0.24],\n",
    "                    [-0.33, 0.92, 0.07],\n",
    "                    [-0.6, -0.03, -0.75]))\n",
    "print('%.2e' % main([-0.21, 0.95, -0.44],\n",
    "                    [0.47, 0.64, 0.81],\n",
    "                    [0.31, 0.67, -0.43]))"
   ]
  },
  {
   "cell_type": "markdown",
   "id": "ff8cd393",
   "metadata": {},
   "source": [
    "<h3 align=\"center\">Задание 6 (вариант 26, ИНБО-01-20).</h3>\n",
    "\n",
    "![_IMAGE_NOT_FOUND_](./images/6_26.jpg)"
   ]
  },
  {
   "cell_type": "code",
   "execution_count": 11,
   "id": "b8620f3d",
   "metadata": {},
   "outputs": [],
   "source": [
    "s = {\n",
    "    1979:\n",
    "    {\n",
    "        'ZIMPL':\n",
    "        {\n",
    "            1969: 0,\n",
    "            1980: 1,\n",
    "            1957: 2\n",
    "        },\n",
    "        'METAL':\n",
    "        {\n",
    "            1969: 3,\n",
    "            1980: 4,\n",
    "            1957: 5\n",
    "        },\n",
    "        'PLSQL':\n",
    "        {\n",
    "            1969: 6,\n",
    "            1980: 7,\n",
    "            1957: 8\n",
    "        }\n",
    "    },\n",
    "    1980:\n",
    "    {\n",
    "        1969:\n",
    "        {\n",
    "            'ZIMPL': 9,\n",
    "            'METAL': 10,\n",
    "            'PLSQL': 11\n",
    "        },\n",
    "        1980: 12,\n",
    "        1957: 13\n",
    "    }\n",
    "}\n",
    "\n",
    "\n",
    "def main(path):\n",
    "    s1 = s[path[1]]\n",
    "    if path[1] == 1979:\n",
    "        s2 = s1[path[2]]\n",
    "        direction = 1\n",
    "    elif path[1] == 1980:\n",
    "        s2 = s1[path[0]]\n",
    "        direction = 0\n",
    "    if isinstance(s2, int):\n",
    "        return s2\n",
    "    if direction == 1:\n",
    "        return s2[path[0]]\n",
    "    else:\n",
    "        return s2[path[2]]\n"
   ]
  },
  {
   "cell_type": "code",
   "execution_count": 12,
   "id": "52e29a53",
   "metadata": {},
   "outputs": [
    {
     "name": "stdout",
     "output_type": "stream",
     "text": [
      "4\n",
      "12\n"
     ]
    }
   ],
   "source": [
    "print(main([1980, 1979, 'METAL', 1995]))\n",
    "print(main([1980, 1980, 'ZIMPL', 2015]))"
   ]
  },
  {
   "cell_type": "markdown",
   "id": "4f041522",
   "metadata": {},
   "source": [
    "<h3 align=\"center\">Задание 7 (вариант 26, ИНБО-01-20).</h3>\n",
    "\n",
    "![_IMAGE_NOT_FOUND_](./images/7_26.jpg)"
   ]
  },
  {
   "cell_type": "code",
   "execution_count": 13,
   "id": "3de63f1a",
   "metadata": {},
   "outputs": [],
   "source": [
    "def main(hex_number):\n",
    "    str_bin_number = str(bin(hex_number)[2:]).rjust(32, '0')\n",
    "    return int(str_bin_number[1:5] + str_bin_number[0]\n",
    "                   + str_bin_number[5:], 2)\n"
   ]
  },
  {
   "cell_type": "code",
   "execution_count": 14,
   "id": "d66768a4",
   "metadata": {},
   "outputs": [
    {
     "name": "stdout",
     "output_type": "stream",
     "text": [
      "3017742014\n",
      "302353381\n"
     ]
    }
   ],
   "source": [
    "print(main(0x5bdf16be))\n",
    "print(main(0x0a058be5))"
   ]
  },
  {
   "cell_type": "markdown",
   "id": "b7088585",
   "metadata": {},
   "source": [
    "<h3 align=\"center\">Задание 8 (вариант 26, ИНБО-01-20).</h3>\n",
    "\n",
    "![_IMAGE_NOT_FOUND_](./images/8_26.jpg)"
   ]
  },
  {
   "cell_type": "code",
   "execution_count": 15,
   "id": "74401209",
   "metadata": {},
   "outputs": [],
   "source": [
    "def main(s: str):\n",
    "    res = {}\n",
    "    s = s.replace(\" \", \"\")\n",
    "    s = s.replace(\"\\n\", \"\")\n",
    "    s = s.replace(\"do\", \"\")\n",
    "    s = s.replace(\"od\", \"\")\n",
    "    s = s.replace(\"<sect>decllist(@'\", \"\")\n",
    "    s = s.replace(\"</sect>\", \"\")\n",
    "    s = s.replace(\"==>q(\", \"'\")\n",
    "    s = s.replace(\"')'\", \")\")\n",
    "    counter = 0\n",
    "    for el in s.split(\")\"):\n",
    "        if counter == 2:\n",
    "            res[key] = value\n",
    "            counter = 0\n",
    "        if '@' in el:\n",
    "            value = list(map(str, el.split(\"'@'\")))\n",
    "            counter += 1\n",
    "        else:\n",
    "            key = el\n",
    "            counter += 1\n",
    "    return res\n"
   ]
  },
  {
   "cell_type": "code",
   "execution_count": 16,
   "id": "bead9703",
   "metadata": {},
   "outputs": [
    {
     "name": "stdout",
     "output_type": "stream",
     "text": [
      "{'sore_173': ['atqu_858', 'riisle', 'titia_359'], 'inesis': ['ries_346', 'xequ', 'onindi']}\n"
     ]
    }
   ],
   "source": [
    "print(main(\"do <sect>decl list(@'atqu_858' @'riisle' @'titia_359' ) ==>q(sore_173) </sect> <sect> decl list(@'ries_346' @'xequ'@'onindi')==>q(inesis) </sect> od\"))"
   ]
  },
  {
   "cell_type": "markdown",
   "id": "c4ae4a25",
   "metadata": {},
   "source": [
    "<h3 align=\"center\">Задание 9 (вариант 26, ИНБО-01-20).</h3>\n",
    "\n",
    "![_IMAGE_NOT_FOUND_](./images/9_26.jpg)"
   ]
  },
  {
   "cell_type": "code",
   "execution_count": 17,
   "id": "b6670841",
   "metadata": {},
   "outputs": [],
   "source": [
    "class Miles_FSM():\n",
    "\n",
    "    def __init__(self):\n",
    "        self.state = \"A\"\n",
    "\n",
    "    def stop(self):\n",
    "        if self.state == \"A\":\n",
    "            self.state = \"B\"\n",
    "            return 0\n",
    "        elif self.state == \"E\":\n",
    "            self.state = \"A\"\n",
    "            return 6\n",
    "        elif self.state == \"F\":\n",
    "            self.state = \"G\"\n",
    "            return 7\n",
    "        elif self.state == \"G\":\n",
    "            self.state = \"H\"\n",
    "            return 9\n",
    "        elif self.state == \"H\":\n",
    "            self.state = \"F\"\n",
    "            return 10\n",
    "        else:\n",
    "            raise KeyError\n",
    "\n",
    "    def run(self):\n",
    "        if self.state == \"B\":\n",
    "            self.state = \"C\"\n",
    "            return 1\n",
    "        elif self.state == \"C\":\n",
    "            self.state = \"D\"\n",
    "            return 2\n",
    "        elif self.state == \"D\":\n",
    "            self.state = \"E\"\n",
    "            return 3\n",
    "        elif self.state == \"E\":\n",
    "            self.state = \"F\"\n",
    "            return 5\n",
    "        elif self.state == \"F\":\n",
    "            self.state = \"A\"\n",
    "            return 8\n",
    "        else:\n",
    "            raise KeyError\n",
    "\n",
    "    def race(self):\n",
    "        if self.state == \"D\":\n",
    "            self.state = \"H\"\n",
    "            return 4\n",
    "        elif self.state == \"H\":\n",
    "            self.state = \"A\"\n",
    "            return 11\n",
    "        else:\n",
    "            raise KeyError\n",
    "\n",
    "\n",
    "def main():\n",
    "    obj = Miles_FSM()\n",
    "    return obj\n"
   ]
  },
  {
   "cell_type": "markdown",
   "id": "ac10ae67",
   "metadata": {},
   "source": [
    "o = main()\n",
    "print(o.stop())  # 0\n",
    "print(o.run())  # 1\n",
    "print(o.run())  # 2\n",
    "print(o.run())  # 3\n",
    "print(o.run())  # 5\n",
    "print(o.race())  # KeyError\n",
    "print(o.stop())  # 7\n",
    "print(o.stop())  # 9\n",
    "print(o.race())  # 11\n",
    "print(o.stop())  # 0\n",
    "print(o.run())  # 1\n",
    "print(o.race())  # KeyError\n",
    "print(o.run())  # 2\n",
    "print(o.race())  # 4\n",
    "print(o.stop())  # 10\n",
    "print(o.run())  # 8\n",
    "print(o.run())  # KeyError\n",
    "print(o.stop())  # 0"
   ]
  },
  {
   "cell_type": "markdown",
   "id": "a5a3e4b1",
   "metadata": {},
   "source": [
    "<h3 align=\"center\">Задание 10 (вариант 5, ИНБО-01-20).</h3>\n",
    "\n",
    "![_IMAGE_NOT_FOUND_](./images/10_5.jpg)"
   ]
  },
  {
   "cell_type": "code",
   "execution_count": 18,
   "id": "5983a18d",
   "metadata": {},
   "outputs": [],
   "source": [
    "def change_list(any_list):\n",
    "    any_list[1] = any_list[1][any_list[1].index(')') + 2:any_list[1].index('-') + 3]\\\n",
    "                  + '-' + any_list[1][any_list[1].index('-') + 3:]\n",
    "    any_list[2] = any_list[2][any_list[2].index(']') + 1:]\n",
    "    if any_list[0] == 'Выполнено':\n",
    "        any_list[0] = '1'\n",
    "    else:\n",
    "        any_list[0] = '0'\n",
    "    return any_list\n",
    "\n",
    "\n",
    "def main(old_list):\n",
    "    list_without_repetitions = []\n",
    "    for el in old_list:\n",
    "        if el not in list_without_repetitions:\n",
    "            list_without_repetitions.append(el)\n",
    "    for i in range(len(list_without_repetitions)):\n",
    "        list_without_repetitions[i][0] = None\n",
    "        list_without_repetitions[i] = list(filter(None, list_without_repetitions[i]))\n",
    "    list_without_repetitions = list(filter(None, list_without_repetitions))\n",
    "    for i in range(len(list_without_repetitions)):\n",
    "        list_without_repetitions[i] = change_list(list_without_repetitions[i])\n",
    "    new_list = [[each_list[0] for each_list in list_without_repetitions],\n",
    "                [each_list[1] for each_list in list_without_repetitions],\n",
    "                [each_list[2] for each_list in list_without_repetitions]]\n",
    "    return new_list\n"
   ]
  },
  {
   "cell_type": "code",
   "execution_count": 19,
   "id": "dcbd703d",
   "metadata": {},
   "outputs": [
    {
     "name": "stdout",
     "output_type": "stream",
     "text": [
      "[['1', '0', '0', '0'], ['318-26-28', '235-74-78', '455-65-08', '423-55-96'], ['gmail.com', 'yahoo.com', 'rambler.ru', 'mail.ru']]\n"
     ]
    }
   ],
   "source": [
    "print(main([['Выполнено', 'Выполнено', '(569) 318-2628', 'kotarman82[at]gmail.com'],\n",
    "            ['Не выполнено', 'Не выполнено', '(107) 235-7478', 'cenizan43[at]yahoo.com'],\n",
    "            ['Не выполнено', 'Не выполнено', '(111) 455-6508', 'daniil43[at]rambler.ru'],\n",
    "            ['Не выполнено', 'Не выполнено', '(227) 423-5596', 'robert70[at]mail.ru'],\n",
    "            [None, None, None, None],\n",
    "            ['Не выполнено', 'Не выполнено', '(111) 455-6508', 'daniil43[at]rambler.ru'],\n",
    "            ['Не выполнено', 'Не выполнено', '(111) 455-6508', 'daniil43[at]rambler.ru']]))"
   ]
  },
  {
   "cell_type": "markdown",
   "id": "ce47199c",
   "metadata": {},
   "source": [
    "<h3 align=\"center\">Задание 10 (вариант 26, ИНБО-01-20).</h3>\n",
    "\n",
    "![_IMAGE_NOT_FOUND_](./images/10_26.jpg)"
   ]
  },
  {
   "cell_type": "code",
   "execution_count": 20,
   "id": "1e5ab876",
   "metadata": {},
   "outputs": [],
   "source": [
    "def change(s):\n",
    "    s = list(filter(None, s))\n",
    "    for i in range(len(s)):\n",
    "        if ']' in s[i]:\n",
    "            s[0] = s[i][s[i].index(']') + 1:s[i].index('#')]\n",
    "        if '#' in s[i]:\n",
    "            s[i] = str(round(float(s[i][s[i].index('#') + 1:]), 1))\n",
    "        elif 'да' == s[i]:\n",
    "            s[i] = 'true'\n",
    "        elif 'нет' == s[i]:\n",
    "            s[i] = 'false'\n",
    "        else:\n",
    "            s[i] = s[i].replace('.', '-')\n",
    "    return s\n",
    "\n",
    "\n",
    "def new_lists(s):\n",
    "    ns1 = []\n",
    "    ns2 = []\n",
    "    ns3 = []\n",
    "    ns4 = []\n",
    "    for s_list in s:\n",
    "        ns1.append(s_list[1])\n",
    "        ns2.append(s_list[2])\n",
    "        ns3.append(s_list[3])\n",
    "        ns4.append(s_list[0])\n",
    "    ns = [ns1, ns2, ns3, ns4]\n",
    "    return ns\n",
    "\n",
    "\n",
    "def main(s):\n",
    "    for i in range(len(s)):\n",
    "        s[i] = change(s[i])\n",
    "    s = list(filter(None, s))\n",
    "    return new_lists(s)\n"
   ]
  },
  {
   "cell_type": "code",
   "execution_count": 21,
   "id": "a1af9bb7",
   "metadata": {},
   "outputs": [
    {
     "name": "stdout",
     "output_type": "stream",
     "text": [
      "[['true', 'true', 'false', 'true'], ['0.1', '0.1', '0.6', '0.5'], ['06-02-00', '06-02-00', '06-04-00', '16-04-03'], ['mail.ru', 'mail.ru', 'rambler.ru', 'yahoo.com']]\n"
     ]
    }
   ],
   "source": [
    "print(main([[None, None, None, None, None, None], ['да', None, None, 'да', 'nuzatli23[at]mail.ru#0.05', '06.02.00'], ['да', None, None, 'да', 'nuzatli23[at]mail.ru#0.05', '06.02.00'], ['нет', None, None, 'нет', 'sogisic66[at]rambler.ru#0.60', '06.04.00'], [None, None, None, None, None, None], ['да', None, None, 'да', 'gusunuk64[at]yahoo.com#0.46', '16.04.03']]))"
   ]
  },
  {
   "cell_type": "markdown",
   "id": "2dac85b8",
   "metadata": {},
   "source": [
    "<h3 align=\"center\">Задание 10 (вариант 3, ИНБО-05-20).</h3>\n",
    "\n",
    "![_IMAGE_NOT_FOUND_](./images/10_3_5.jpg)"
   ]
  },
  {
   "cell_type": "code",
   "execution_count": 22,
   "id": "611c7c0d",
   "metadata": {},
   "outputs": [],
   "source": [
    "from datetime import datetime\n",
    "\n",
    "\n",
    "def change(s):\n",
    "    s = list(filter(None, s))\n",
    "    for i in range(len(s)):\n",
    "        if '(' in s[i]:\n",
    "            s[i] = s[i][s[i].index('(') + 1:s[i].index(')')] +\\\n",
    "                   s[i][s[i].index(')') + 1:]\n",
    "        elif '.' in s[i]:\n",
    "            s[i] = s[i][s[i].index('.') + 2:] + ' ' + s[i][0] + '.' +\\\n",
    "                   s[i][s[i].index('.') - 1] + '.'\n",
    "        elif '1' == s[i]:\n",
    "            s[i] = 'true'\n",
    "        elif '0' == s[i]:\n",
    "            s[i] = 'false'\n",
    "        elif '/' in s[i]:\n",
    "            s[i] = s[i].replace('/', '.')\n",
    "            a = s[i][s[i].index('.') + 1:][s[i].index('.') + 1:]\n",
    "            b = '.' + s[i][s[i].index('.') + 1:][:s[i].index('.') + 1]\n",
    "            c = s[i][:s[i].index('.')]\n",
    "            s[i] = a + b + c\n",
    "    return s\n",
    "\n",
    "\n",
    "def main(s):\n",
    "    for i in range(len(s)):\n",
    "        s[i] = change(s[i])\n",
    "    s = list(filter(None, s))\n",
    "    s = sorted(s, key=lambda s_list: datetime.strptime(s_list[0].split(\n",
    "    )[-1], '%Y.%m.%d'))\n",
    "    return s\n"
   ]
  },
  {
   "cell_type": "code",
   "execution_count": 23,
   "id": "3c1647cc",
   "metadata": {},
   "outputs": [
    {
     "name": "stdout",
     "output_type": "stream",
     "text": [
      "[['1999.06.24', 'true', '111 266-8133', 'Нагешберг Е.Р.'], ['2001.03.15', 'true', '566 664-3367', 'Цумко Л.О.'], ['2004.04.14', 'true', '224 037-0191', 'Ралко Р.З.']]\n"
     ]
    }
   ],
   "source": [
    "print(main([['14/04/2004', '1', '(224) 037-0191', 'Ростислав З. Ралко'], [None, None, None, None], ['15/03/2001', '1', '(566) 664-3367', 'Леонид О. Цумко'], [None, None, None, None], ['24/06/1999', '1', '(111) 266-8133', 'Егор Р. Нагешберг']]))"
   ]
  },
  {
   "cell_type": "markdown",
   "id": "25ebdd21",
   "metadata": {},
   "source": [
    "<h3 align=\"center\">Задание 11 (вариант 26, ИНБО-01-20).</h3>\n",
    "\n",
    "![_IMAGE_NOT_FOUND_](./images/11_26.jpg)"
   ]
  },
  {
   "cell_type": "code",
   "execution_count": 24,
   "id": "5d9c1b39",
   "metadata": {},
   "outputs": [],
   "source": [
    "# Огромное спасибо Васе (https://github.com/BasilYes) за универсальный и наглядный подход к решению!\n",
    "\n",
    "\n",
    "import struct\n",
    "\n",
    "\n",
    "def uint32uint16uint32(x, start):\n",
    "    size = struct.unpack(\"> I\", x[start: start + 4])[0]\n",
    "    add = struct.unpack(\"> H\", x[start + 4: start + 6])[0]\n",
    "    a = struct.unpack(\"> \" + \"I\" * size, x[add: add + 4 * size])\n",
    "    return list(a)\n",
    "\n",
    "\n",
    "def uint16uint32uint32(x, start):\n",
    "    size = struct.unpack(\"> H\", x[start: start + 2])[0]\n",
    "    add = struct.unpack(\"> I\", x[start + 2: start + 6])[0]\n",
    "    a = struct.unpack(\"> \" + \"I\" * size, x[add: add + 4 * size])\n",
    "    return list(a)\n",
    "\n",
    "\n",
    "def D(x, start):\n",
    "    return {\n",
    "        'D1': struct.unpack(\"> Q\", x[start:start + 8])[0],\n",
    "        'D2': uint32uint16uint32(x, start + 8),\n",
    "        'D3': struct.unpack(\"> d\", x[start + 14:start + 22])[0],\n",
    "        'D4': struct.unpack(\"> H\", x[start + 22:start + 24])[0],\n",
    "        'D5': struct.unpack(\"> I\", x[start + 24:start + 28])[0],\n",
    "        'D6': struct.unpack(\"> b\", x[start + 28:start + 29])[0],\n",
    "    }\n",
    "\n",
    "\n",
    "def C(x, start):\n",
    "    return {\n",
    "        'C1': [D(x, start), D(x, start + 29)],\n",
    "        'C2': uint16uint32uint32(x, start + 58),\n",
    "        'C3': struct.unpack(\"> q\", x[start + 64:start + 72])[0]\n",
    "    }\n",
    "\n",
    "\n",
    "def addressC(x, start):\n",
    "    return struct.unpack(\"> I\", x[start:start+4])[0]\n",
    "\n",
    "\n",
    "def B(x, start):\n",
    "    return {\n",
    "        'B1': C(x, addressC(x, start)),\n",
    "        'B2': struct.unpack(\"> b\", x[start + 4:start + 5])[0],\n",
    "        'B3': struct.unpack(\"> I\", x[start + 5:start + 9])[0],\n",
    "        'B4': struct.unpack(\"> d\", x[start + 9:start + 17])[0],\n",
    "        'B5': [struct.unpack(\"> H\", x[start + 17:start + 19])[0],\n",
    "               struct.unpack(\"> H\", x[start + 19:start + 21])[0],\n",
    "               struct.unpack(\"> H\", x[start + 21:start + 23])[0],\n",
    "               struct.unpack(\"> H\", x[start + 23:start + 25])[0]],\n",
    "        'B6': struct.unpack(\"> d\", x[start + 25:start + 33])[0]\n",
    "    }\n",
    "\n",
    "\n",
    "def A(x, start):\n",
    "    return {\n",
    "        'A1': B(x, start),\n",
    "        'A2': struct.unpack(\"> H\", x[start + 33:start + 35])[0],\n",
    "        'A3': struct.unpack(\"> I\", x[start + 35:start + 39])[0],\n",
    "        'A4': struct.unpack(\"> H\", x[start + 39:start + 41])[0],\n",
    "    }\n",
    "\n",
    "\n",
    "def main(x):\n",
    "    return A(x, 5)\n"
   ]
  },
  {
   "cell_type": "code",
   "execution_count": 25,
   "id": "6a08f02d",
   "metadata": {},
   "outputs": [
    {
     "name": "stdout",
     "output_type": "stream",
     "text": [
      "{'A1': {'B1': {'C1': [{'D1': 13863853154724240449, 'D2': [2080304007, 4178325182, 1194098137, 3153328883, 3885108577], 'D3': 0.31352651510376495, 'D4': 37076, 'D5': 761885465, 'D6': -123}, {'D1': 7732177816324070977, 'D2': [2924179799, 2689807822, 258983547, 1468099150], 'D3': 0.19333895360444142, 'D4': 35198, 'D5': 278445354, 'D6': 35}], 'C2': [3796894214, 2640333581, 3505873941], 'C3': 8379811748641707192}, 'B2': 99, 'B3': 2575445670, 'B4': 0.21996768567216574, 'B5': [45175, 30652, 15452, 48596], 'B6': 0.7808629321949319}, 'A2': 62417, 'A3': 1221049856, 'A4': 10275}\n"
     ]
    }
   ],
   "source": [
    "print(main(b\"\\xcbNMEY\\x00\\x00\\x00^c\\x99\\x82.\\xa6?\\xcc'\\xe6\\xb0\\x11\\xc2\\xe0\\xb0ww\\xbc<\\\\\"\n",
    " b'\\xbd\\xd4?\\xe8\\xfc\\xd4B\\x8d\\xf2\\xe0\\xf3\\xd1H\\xc7\\xbe\\x00(#{\\xfe'\n",
    " b'\\xeb\\x87\\xf9\\x0c.\\xbeG,}\\xd9\\xbb\\xf3\\xfa\\xf3\\xe7\\x92\\ra\\xaeKqW\\xa0S'\n",
    " b'5\\xce\\x0fo\\xc6{W\\x81jN\\xe2P\\x02\\x06\\x9d`K\\r\\xd0\\xf7d\\x15\\xc0fL\\xfd\\x89\\x84'\n",
    " b'\\\\A\\x00\\x00\\x00\\x05\\x00.?\\xd4\\x10\\xd1\\x843+X\\x90\\xd4-is\\x19\\x85kN6\\xc1\\xd2'\n",
    " b'&\\xdeA\\x00\\x00\\x00\\x04\\x00B?\\xc8\\xbfT\\xb1c\\x10`\\x89~\\x10\\x98\\xbd*#'\n",
    " b'\\x00\\x03\\x00\\x00\\x00RtK\\x12c\"o\\x14\\xb8'))"
   ]
  }
 ],
 "metadata": {
  "kernelspec": {
   "display_name": "Python 3",
   "language": "python",
   "name": "python3"
  },
  "language_info": {
   "codemirror_mode": {
    "name": "ipython",
    "version": 3
   },
   "file_extension": ".py",
   "mimetype": "text/x-python",
   "name": "python",
   "nbconvert_exporter": "python",
   "pygments_lexer": "ipython3",
   "version": "3.8.8"
  }
 },
 "nbformat": 4,
 "nbformat_minor": 5
}
