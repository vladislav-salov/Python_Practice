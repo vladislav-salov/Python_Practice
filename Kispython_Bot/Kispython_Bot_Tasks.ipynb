{
 "cells": [
  {
   "cell_type": "markdown",
   "id": "24180841",
   "metadata": {},
   "source": [
    "<h2 align=\"center\">Решения заданий с сайта kispython.ru.</h2>"
   ]
  },
  {
   "cell_type": "markdown",
   "id": "8a9fa49f",
   "metadata": {},
   "source": [
    "<h3 align=\"center\">Задание 1 (вариант 26, ИНБО-01-20).</h3>\n",
    "\n",
    "![_IMAGE_NOT_FOUND_](./images/1_26.jpg)"
   ]
  },
  {
   "cell_type": "code",
   "execution_count": 1,
   "id": "acfbdab2",
   "metadata": {},
   "outputs": [],
   "source": [
    "def main(y, z, x):\n",
    "    return ((y ** 3 - z ** 2 - 89) ** 5 - (1 - 52 * x ** 2) ** 6) /\\\n",
    "           (71 * (42 * z ** 3 + x + y ** 2) ** 3 + z ** 5) + \\\n",
    "           (88 * abs(y - z ** 2 - x ** 3) ** 6) ** 0.5\n"
   ]
  },
  {
   "cell_type": "code",
   "execution_count": 2,
   "id": "ccc1fd4b",
   "metadata": {
    "scrolled": true
   },
   "outputs": [
    {
     "name": "stdout",
     "output_type": "stream",
     "text": [
      "-5.99e+05\n",
      "-8.50e+04\n"
     ]
    }
   ],
   "source": [
    "print('%.2e' % main(0.26, 0.51, 0.92))\n",
    "print('%.2e' % main(-0.96, 0.61, -0.48))"
   ]
  },
  {
   "cell_type": "markdown",
   "id": "61a3e347",
   "metadata": {},
   "source": [
    "<h3 align=\"center\">Задание 1 (вариант 3, ИКБО-16-20).</h3>\n",
    "\n",
    "![_IMAGE_NOT_FOUND_](./images/1_3_ikbo16.jpg)"
   ]
  },
  {
   "cell_type": "code",
   "execution_count": 3,
   "id": "f28726d7",
   "metadata": {},
   "outputs": [],
   "source": [
    "from math import log\n",
    "\n",
    "\n",
    "def main(z, x, y):\n",
    "    a = 68 * log(38 + 39 * y ** 3, 2) ** 5\n",
    "    b = -81 * (z * z + x + x ** 3 / 78) ** 7\n",
    "    c = (z + 64 * x * x + x ** 3) ** 2\n",
    "    d = (z * z / 68 + y / 15 + 7) ** 4\n",
    "    e = abs(x) ** 3 / 47 - 56 * (y ** 3 - 91 * z * z - 1 / 4) ** 7\n",
    "    return ((a + b) / (c + d)) ** (0.5) + e\n"
   ]
  },
  {
   "cell_type": "code",
   "execution_count": 4,
   "id": "3dc6dbcc",
   "metadata": {},
   "outputs": [
    {
     "name": "stdout",
     "output_type": "stream",
     "text": [
      "2.71e+08\n",
      "1.96e+05\n",
      "1.07e+01\n",
      "2.20e+05\n",
      "1.04e+05\n"
     ]
    }
   ],
   "source": [
    "print('%.2e' % main(0.32, 0.55, 0.82))\n",
    "print('%.2e' % main(-0.2, 0.73, 0.88))\n",
    "print('%.2e' % main(0.04, -0.18, 0.14))\n",
    "print('%.2e' % main(-0.16, -0.94, -0.88))\n",
    "print('%.2e' % main(0.17, -0.17, -0.37))"
   ]
  },
  {
   "cell_type": "markdown",
   "id": "0f78dc9f",
   "metadata": {},
   "source": [
    "<h3 align=\"center\">Задание 2 (вариант 26, ИНБО-01-20).</h3>\n",
    "\n",
    "![_IMAGE_NOT_FOUND_](./images/2_26.jpg)"
   ]
  },
  {
   "cell_type": "code",
   "execution_count": 5,
   "id": "226a2ffe",
   "metadata": {},
   "outputs": [],
   "source": [
    "import math\n",
    "\n",
    "\n",
    "def main(x):\n",
    "    if x < 91:\n",
    "        return (x ** 3 + x ** 2 + 42 * x) ** 5 - 43 *\\\n",
    "               (41 * x ** 3 + x ** 2 + 50) - x ** 6 / 87\n",
    "    if 91 <= x < 155:\n",
    "        return 24 * math.sin(x ** 2 + 97 + x ** 3) ** 6\\\n",
    "               + math.atan(x ** 2) ** 4\n",
    "    if x >= 155:\n",
    "        return x ** 7 + 87 * math.atan(1 + x ** 3 + x) ** 5\\\n",
    "               + (52 * x ** 2 - 35 - 70 * x) ** 6\n"
   ]
  },
  {
   "cell_type": "code",
   "execution_count": 6,
   "id": "dd8a0957",
   "metadata": {},
   "outputs": [
    {
     "name": "stdout",
     "output_type": "stream",
     "text": [
      "8.56e+00\n",
      "4.90e+36\n"
     ]
    }
   ],
   "source": [
    "print('%.2e' % main(135))\n",
    "print('%.2e' % main(159))"
   ]
  },
  {
   "cell_type": "markdown",
   "id": "1cfc4cf7",
   "metadata": {},
   "source": [
    "<h3 align=\"center\">Задание 2 (вариант 3, ИКБО-16-20).</h3>\n",
    "\n",
    "![_IMAGE_NOT_FOUND_](./images/2_3_ikbo16.jpg)"
   ]
  },
  {
   "cell_type": "code",
   "execution_count": 7,
   "id": "98a158da",
   "metadata": {},
   "outputs": [],
   "source": [
    "from math import atan\n",
    "\n",
    "\n",
    "def main(y):\n",
    "    if y >= 208:\n",
    "        return 8 * (y * y + 83 * y + y ** 3) ** 7 + 5\n",
    "    if y >= 192:\n",
    "        return y * y - 1 - y\n",
    "    if y >= 117:\n",
    "        return (66 * y ** 3) ** 5 - y ** 3\n",
    "    if y >= 104:\n",
    "        return (60 * y ** 3 + 43 * y) ** 2 + (y ** 3 + 23 * y * y) ** 4\n",
    "    else:\n",
    "        return 12 * atan(45 * y ** 3) ** 4 + 79 * (53 * y) ** 2\n",
    "    "
   ]
  },
  {
   "cell_type": "code",
   "execution_count": 8,
   "id": "0655a707",
   "metadata": {},
   "outputs": [
    {
     "name": "stdout",
     "output_type": "stream",
     "text": [
      "1.50e+08\n",
      "1.04e+51\n",
      "1.42e+09\n",
      "2.19e+40\n",
      "1.90e+43\n"
     ]
    }
   ],
   "source": [
    "print('%.2e' % main(26))\n",
    "print('%.2e' % main(243))\n",
    "print('%.2e' % main(80))\n",
    "print('%.2e' % main(121))\n",
    "print('%.2e' % main(190))"
   ]
  },
  {
   "cell_type": "markdown",
   "id": "802127f9",
   "metadata": {},
   "source": [
    "<h3 align=\"center\">Задание 3 (вариант 26, ИНБО-01-20).</h3>\n",
    "\n",
    "![_IMAGE_NOT_FOUND_](./images/3_26.jpg)"
   ]
  },
  {
   "cell_type": "code",
   "execution_count": 9,
   "id": "bd68a267",
   "metadata": {},
   "outputs": [],
   "source": [
    "def main(a, m, b):\n",
    "    result = 0\n",
    "    for i in range(1, b + 1):\n",
    "        s = 0\n",
    "        for j in range(1, m + 1):\n",
    "            p = 1\n",
    "            for c in range(1, a + 1):\n",
    "                p *= c ** 14 + (j ** 2 - 11 * c ** 3 - 79 * i) ** 6 + \\\n",
    "                     j ** 3 / 28\n",
    "            s += p\n",
    "        result += s\n",
    "    return result\n"
   ]
  },
  {
   "cell_type": "code",
   "execution_count": 10,
   "id": "2207feae",
   "metadata": {},
   "outputs": [
    {
     "name": "stdout",
     "output_type": "stream",
     "text": [
      "9.19e+105\n",
      "1.51e+46\n"
     ]
    }
   ],
   "source": [
    "print('%.2e' % main(6, 8, 4))\n",
    "print('%.2e' % main(3, 3, 3))"
   ]
  },
  {
   "cell_type": "markdown",
   "id": "28b38fcc",
   "metadata": {},
   "source": [
    "<h3 align=\"center\">Задание 3 (вариант 3, ИКБО-16-20).</h3>\n",
    "\n",
    "![_IMAGE_NOT_FOUND_](./images/3_3_ikbo16.jpg)"
   ]
  },
  {
   "cell_type": "code",
   "execution_count": 11,
   "id": "02ef600b",
   "metadata": {},
   "outputs": [],
   "source": [
    "from math import log\n",
    "\n",
    "\n",
    "def main(n, m, b):\n",
    "    s = 0\n",
    "    for k in range(1, b + 1):\n",
    "        for c in range(1, m + 1):\n",
    "            for j in range(1, n + 1):\n",
    "                s += 16 * log(j, 2) ** 6 - \\\n",
    "                     c ** 5 - (k ** 3 - k * k - 1) ** 4\n",
    "    return s\n"
   ]
  },
  {
   "cell_type": "code",
   "execution_count": 12,
   "id": "d5d1e897",
   "metadata": {},
   "outputs": [
    {
     "name": "stdout",
     "output_type": "stream",
     "text": [
      "-1.02e+12\n",
      "-2.08e+08\n",
      "-6.97e+07\n",
      "-2.83e+09\n",
      "-2.98e+07\n"
     ]
    }
   ],
   "source": [
    "print('%.2e' % main(3, 7, 8))\n",
    "print('%.2e' % main(7, 6, 4))\n",
    "print('%.2e' % main(2, 7, 4))\n",
    "print('%.2e' % main(7, 4, 5))\n",
    "print('%.2e' % main(3, 2, 4))"
   ]
  },
  {
   "cell_type": "markdown",
   "id": "72e60518",
   "metadata": {},
   "source": [
    "<h3 align=\"center\">Задание 4 (вариант 26, ИНБО-01-20).</h3>\n",
    "\n",
    "![_IMAGE_NOT_FOUND_](./images/4_26.jpg)"
   ]
  },
  {
   "cell_type": "code",
   "execution_count": 13,
   "id": "7700963a",
   "metadata": {},
   "outputs": [],
   "source": [
    "import math\n",
    "\n",
    "\n",
    "def main(n):\n",
    "    if n == 0:\n",
    "        return 0.58\n",
    "    if n == 1:\n",
    "        return -0.16\n",
    "    if n >= 2:\n",
    "        return math.atan(1 + main(n - 2) ** 2 + 22 * main(n - 1) ** 3) ** 2\n"
   ]
  },
  {
   "cell_type": "code",
   "execution_count": 14,
   "id": "649e6d72",
   "metadata": {},
   "outputs": [
    {
     "name": "stdout",
     "output_type": "stream",
     "text": [
      "2.46e+00\n",
      "2.46e+00\n"
     ]
    }
   ],
   "source": [
    "print('%.2e' % main(8))\n",
    "print('%.2e' % main(6))"
   ]
  },
  {
   "cell_type": "markdown",
   "id": "55329575",
   "metadata": {},
   "source": [
    "<h3 align=\"center\">Задание 4 (вариант 3, ИКБО-16-20).</h3>\n",
    "\n",
    "![_IMAGE_NOT_FOUND_](./images/4_3_ikbo16.jpg)"
   ]
  },
  {
   "cell_type": "code",
   "execution_count": 15,
   "id": "ebc2088a",
   "metadata": {},
   "outputs": [],
   "source": [
    "def main(n):\n",
    "    if n == 0:\n",
    "        return -0.97\n",
    "    if n == 1:\n",
    "        return -0.40\n",
    "    else:\n",
    "        return main(n - 1) ** 3 + abs(main(n - 2)) ** 2\n"
   ]
  },
  {
   "cell_type": "code",
   "execution_count": 16,
   "id": "f74d4720",
   "metadata": {},
   "outputs": [
    {
     "name": "stdout",
     "output_type": "stream",
     "text": [
      "1.19e+41\n",
      "4.92e+13\n",
      "3.15e+00\n",
      "8.77e-01\n",
      "8.34e-01\n"
     ]
    }
   ],
   "source": [
    "print('%.2e' % main(9))\n",
    "print('%.2e' % main(8))\n",
    "print('%.2e' % main(5))\n",
    "print('%.2e' % main(2))\n",
    "print('%.2e' % main(3))"
   ]
  },
  {
   "cell_type": "markdown",
   "id": "25470006",
   "metadata": {},
   "source": [
    "<h3 align=\"center\">Задание 5 (вариант 26, ИНБО-01-20).</h3>\n",
    "\n",
    "![_IMAGE_NOT_FOUND_](./images/5_26.jpg)"
   ]
  },
  {
   "cell_type": "code",
   "execution_count": 17,
   "id": "2a229263",
   "metadata": {},
   "outputs": [],
   "source": [
    "def main(y, z, x):\n",
    "    n = len(y)\n",
    "    result = 0\n",
    "    for i in range(1, n + 1):\n",
    "        result += 51 * 71 * (42 * z[n - i] ** 3 + x[n - i] + y[i - 1] ** 2) \\\n",
    "                  ** 3\n",
    "    return result\n"
   ]
  },
  {
   "cell_type": "code",
   "execution_count": 18,
   "id": "53e134b3",
   "metadata": {},
   "outputs": [
    {
     "name": "stdout",
     "output_type": "stream",
     "text": [
      "1.31e+08\n",
      "4.58e+07\n"
     ]
    }
   ],
   "source": [
    "print('%.2e' % main([0.9, 0.6, 0.24],\n",
    "                    [-0.33, 0.92, 0.07],\n",
    "                    [-0.6, -0.03, -0.75]))\n",
    "print('%.2e' % main([-0.21, 0.95, -0.44],\n",
    "                    [0.47, 0.64, 0.81],\n",
    "                    [0.31, 0.67, -0.43]))"
   ]
  },
  {
   "cell_type": "markdown",
   "id": "198a18d5",
   "metadata": {},
   "source": [
    "<h3 align=\"center\">Задание 5 (вариант 3, ИКБО-16-20).</h3>\n",
    "\n",
    "![_IMAGE_NOT_FOUND_](./images/5_3_ikbo16.jpg)"
   ]
  },
  {
   "cell_type": "code",
   "execution_count": 19,
   "id": "1d438e75",
   "metadata": {},
   "outputs": [],
   "source": [
    "from math import ceil\n",
    "\n",
    "\n",
    "def main(z, x, y):\n",
    "    n = len(z)\n",
    "    s = 0\n",
    "    for i in range(1, n + 1):\n",
    "        s += (y[ceil(i / 3) - 1] - z[n - ceil(i / 4)] ** 3 -\n",
    "              29 * x[i - 1] ** 2) ** 4 / 31\n",
    "    return 94 * s\n"
   ]
  },
  {
   "cell_type": "code",
   "execution_count": 20,
   "id": "c2bc5835",
   "metadata": {},
   "outputs": [
    {
     "name": "stdout",
     "output_type": "stream",
     "text": [
      "7.96e+05\n",
      "3.16e+06\n"
     ]
    }
   ],
   "source": [
    "print('%.2e' % main([-0.52, 0.1, 0.02, -0.06, 0.73],\n",
    "                    [-0.85, -0.71, 0.59, 0.54, -0.46],\n",
    "                    [0.26, 0.18, -0.87, -0.65, 0.04]))\n",
    "print('%.2e' % main([0.45, 0.66, -0.3, -0.18, 0.8],\n",
    "                    [0.78, -1.0, -0.67, -0.38, -0.07],\n",
    "                    [-0.97, 0.41, 1.0, 0.69, -0.03]))"
   ]
  },
  {
   "cell_type": "markdown",
   "id": "ff8cd393",
   "metadata": {},
   "source": [
    "<h3 align=\"center\">Задание 6 (вариант 26, ИНБО-01-20).</h3>\n",
    "\n",
    "![_IMAGE_NOT_FOUND_](./images/6_26.jpg)"
   ]
  },
  {
   "cell_type": "code",
   "execution_count": 21,
   "id": "b8620f3d",
   "metadata": {},
   "outputs": [],
   "source": [
    "s = {\n",
    "    1979:\n",
    "    {\n",
    "        'ZIMPL':\n",
    "        {\n",
    "            1969: 0,\n",
    "            1980: 1,\n",
    "            1957: 2\n",
    "        },\n",
    "        'METAL':\n",
    "        {\n",
    "            1969: 3,\n",
    "            1980: 4,\n",
    "            1957: 5\n",
    "        },\n",
    "        'PLSQL':\n",
    "        {\n",
    "            1969: 6,\n",
    "            1980: 7,\n",
    "            1957: 8\n",
    "        }\n",
    "    },\n",
    "    1980:\n",
    "    {\n",
    "        1969:\n",
    "        {\n",
    "            'ZIMPL': 9,\n",
    "            'METAL': 10,\n",
    "            'PLSQL': 11\n",
    "        },\n",
    "        1980: 12,\n",
    "        1957: 13\n",
    "    }\n",
    "}\n",
    "\n",
    "\n",
    "def main(path):\n",
    "    s1 = s[path[1]]\n",
    "    if path[1] == 1979:\n",
    "        s2 = s1[path[2]]\n",
    "        direction = 1\n",
    "    elif path[1] == 1980:\n",
    "        s2 = s1[path[0]]\n",
    "        direction = 0\n",
    "    if isinstance(s2, int):\n",
    "        return s2\n",
    "    if direction == 1:\n",
    "        return s2[path[0]]\n",
    "    else:\n",
    "        return s2[path[2]]\n"
   ]
  },
  {
   "cell_type": "code",
   "execution_count": 22,
   "id": "52e29a53",
   "metadata": {},
   "outputs": [
    {
     "name": "stdout",
     "output_type": "stream",
     "text": [
      "4\n",
      "12\n"
     ]
    }
   ],
   "source": [
    "print(main([1980, 1979, 'METAL', 1995]))\n",
    "print(main([1980, 1980, 'ZIMPL', 2015]))"
   ]
  },
  {
   "cell_type": "markdown",
   "id": "2bb1e237",
   "metadata": {},
   "source": [
    "<h3 align=\"center\">Задание 6 (вариант 3, ИКБО-16-20).</h3>\n",
    "\n",
    "![_IMAGE_NOT_FOUND_](./images/6_3_ikbo16.jpg)"
   ]
  },
  {
   "cell_type": "code",
   "execution_count": 23,
   "id": "4bc25659",
   "metadata": {},
   "outputs": [],
   "source": [
    "s = {\n",
    "    2016:\n",
    "    {\n",
    "        2005:\n",
    "        {\n",
    "            'ALLOY': 0,\n",
    "            'XBASE': 1\n",
    "        },\n",
    "        2017: 2,\n",
    "        1994:\n",
    "        {\n",
    "            'GLYPH':\n",
    "            {\n",
    "                'ALLOY': 3,\n",
    "                'XBASE': 4,\n",
    "                'RHTML': 5\n",
    "            },\n",
    "            'IOKE':\n",
    "            {\n",
    "                'RHTML': 7\n",
    "            },\n",
    "            'OX': 6\n",
    "        }\n",
    "    },\n",
    "    1984:\n",
    "    {\n",
    "        'GLYPH':\n",
    "        {\n",
    "            'RHTML': 7\n",
    "        },\n",
    "        'IOKE': 8,\n",
    "        'OX':\n",
    "        {\n",
    "            2005: 9,\n",
    "            2017: 10,\n",
    "            1994: 11\n",
    "        }\n",
    "    },\n",
    "    1959: 12\n",
    "}\n",
    "\n",
    "\n",
    "def main(path):\n",
    "    s1 = s[path[0]]\n",
    "    if isinstance(s1, int):\n",
    "        return s1\n",
    "    if path[0] == 2016:\n",
    "        s1 = s1[path[4]]\n",
    "        if isinstance(s1, int):\n",
    "            return s1\n",
    "        if path[4] == 2005:\n",
    "            return s1[path[3]]\n",
    "        else:\n",
    "            s1 = s1[path[2]]\n",
    "            if isinstance(s1, int):\n",
    "                return s1\n",
    "            if path[2] == 'IOKE':\n",
    "                return 5\n",
    "            else:\n",
    "                return s1[path[3]]\n",
    "    else:\n",
    "        s1 = s1[path[2]]\n",
    "        if isinstance(s1, int):\n",
    "            return s1\n",
    "        if path[2] == 'GLYPH':\n",
    "            return 7\n",
    "        else:\n",
    "            return s1[path[4]]\n"
   ]
  },
  {
   "cell_type": "code",
   "execution_count": 24,
   "id": "13261921",
   "metadata": {},
   "outputs": [
    {
     "name": "stdout",
     "output_type": "stream",
     "text": [
      "2\n",
      "1\n",
      "7\n",
      "0\n",
      "12\n"
     ]
    }
   ],
   "source": [
    "print(main([2016, 'RHTML', 'OX', 'XBASE', 2017]))\n",
    "print(main([2016, 'RHTML', 'OX', 'XBASE', 2005]))\n",
    "print(main([1984, 'RHTML', 'GLYPH', 'XBASE', 2017]))\n",
    "print(main([2016, 'RHTML', 'IOKE', 'ALLOY', 2005]))\n",
    "print(main([1959, 'RHTML', 'IOKE', 'XBASE', 2017]))"
   ]
  },
  {
   "cell_type": "markdown",
   "id": "4f041522",
   "metadata": {},
   "source": [
    "<h3 align=\"center\">Задание 7 (вариант 26, ИНБО-01-20).</h3>\n",
    "\n",
    "![_IMAGE_NOT_FOUND_](./images/7_26.jpg)"
   ]
  },
  {
   "cell_type": "code",
   "execution_count": 25,
   "id": "3de63f1a",
   "metadata": {},
   "outputs": [],
   "source": [
    "def main(hex_number):\n",
    "    str_bin_number = str(bin(hex_number)[2:]).rjust(32, '0')\n",
    "    return int(str_bin_number[1:5] + str_bin_number[0]\n",
    "                   + str_bin_number[5:], 2)\n"
   ]
  },
  {
   "cell_type": "code",
   "execution_count": 26,
   "id": "d66768a4",
   "metadata": {},
   "outputs": [
    {
     "name": "stdout",
     "output_type": "stream",
     "text": [
      "3017742014\n",
      "302353381\n"
     ]
    }
   ],
   "source": [
    "print(main(0x5bdf16be))\n",
    "print(main(0x0a058be5))"
   ]
  },
  {
   "cell_type": "markdown",
   "id": "6f80a1ae",
   "metadata": {},
   "source": [
    "<h3 align=\"center\">Задание 7 (вариант 3, ИКБО-16-20).</h3>\n",
    "\n",
    "![_IMAGE_NOT_FOUND_](./images/7_3_ikbo16.jpg)"
   ]
  },
  {
   "cell_type": "code",
   "execution_count": 27,
   "id": "195de1dc",
   "metadata": {},
   "outputs": [],
   "source": [
    "def main(hex_number):\n",
    "    str_bin_number = str(bin(hex_number)[2:]).rjust(32, '0')\n",
    "    f = str_bin_number[0]\n",
    "    e = str_bin_number[1]\n",
    "    d = str_bin_number[2]\n",
    "    c = str_bin_number[3:10]\n",
    "    b = str_bin_number[10:24]\n",
    "    a = str_bin_number[24:]\n",
    "    return int(b + d + e + f + c + a, 2)\n"
   ]
  },
  {
   "cell_type": "code",
   "execution_count": 28,
   "id": "369af4d2",
   "metadata": {},
   "outputs": [
    {
     "name": "stdout",
     "output_type": "stream",
     "text": [
      "257356087\n",
      "1414554043\n",
      "2453631788\n",
      "1237353990\n",
      "4127144498\n"
     ]
    }
   ],
   "source": [
    "print(main(0xbc43d537))\n",
    "print(main(0x185514bb))\n",
    "print(main(0x7ce48f2c))\n",
    "print(main(0x81927006))\n",
    "print(main(0x6ebd7f32))"
   ]
  },
  {
   "cell_type": "markdown",
   "id": "b7088585",
   "metadata": {},
   "source": [
    "<h3 align=\"center\">Задание 8 (вариант 26, ИНБО-01-20).</h3>\n",
    "\n",
    "![_IMAGE_NOT_FOUND_](./images/8_26.jpg)"
   ]
  },
  {
   "cell_type": "code",
   "execution_count": 29,
   "id": "74401209",
   "metadata": {},
   "outputs": [],
   "source": [
    "def main(s: str):\n",
    "    res = {}\n",
    "    s = s.replace(\" \", \"\")\n",
    "    s = s.replace(\"\\n\", \"\")\n",
    "    s = s.replace(\"do\", \"\")\n",
    "    s = s.replace(\"od\", \"\")\n",
    "    s = s.replace(\"<sect>decllist(@'\", \"\")\n",
    "    s = s.replace(\"</sect>\", \"\")\n",
    "    s = s.replace(\"==>q(\", \"'\")\n",
    "    s = s.replace(\"')'\", \")\")\n",
    "    counter = 0\n",
    "    for el in s.split(\")\"):\n",
    "        if counter == 2:\n",
    "            res[key] = value\n",
    "            counter = 0\n",
    "        if '@' in el:\n",
    "            value = list(map(str, el.split(\"'@'\")))\n",
    "            counter += 1\n",
    "        else:\n",
    "            key = el\n",
    "            counter += 1\n",
    "    return res\n"
   ]
  },
  {
   "cell_type": "code",
   "execution_count": 30,
   "id": "bead9703",
   "metadata": {},
   "outputs": [
    {
     "name": "stdout",
     "output_type": "stream",
     "text": [
      "{'sore_173': ['atqu_858', 'riisle', 'titia_359'], 'inesis': ['ries_346', 'xequ', 'onindi']}\n"
     ]
    }
   ],
   "source": [
    "print(main(\"do <sect>decl list(@'atqu_858' @'riisle' @'titia_359' ) ==>q(sore_173) </sect> <sect> decl list(@'ries_346' @'xequ'@'onindi')==>q(inesis) </sect> od\"))"
   ]
  },
  {
   "cell_type": "markdown",
   "id": "c27bda44",
   "metadata": {},
   "source": [
    "<h3 align=\"center\">Задание 8 (вариант 3, ИКБО-16-20).</h3>\n",
    "\n",
    "![_IMAGE_NOT_FOUND_](./images/8_3_ikbo16.jpg)"
   ]
  },
  {
   "cell_type": "code",
   "execution_count": 31,
   "id": "c304e97b",
   "metadata": {},
   "outputs": [],
   "source": [
    "def main(s: str):\n",
    "    res = {}\n",
    "    s = s.replace(\"\\n\", \" \")\n",
    "    s = s.replace(\"val q(\", \"\")\n",
    "    s = s.replace(\"done\", \"\")\n",
    "    s = s[2:]\n",
    "    s = s.replace(\"val q\", \"\")\n",
    "    s = s.replace(\".\", \"@\")\n",
    "    s = s.replace(\"(\", \"\")\n",
    "    s = s.replace(\")\", \"\")\n",
    "    s = s.replace(\"[\", \"\")\n",
    "    s = s.replace(\"]\", \"\")\n",
    "    s = s.replace(\"::=\", \"@\")\n",
    "    s = s.split(\"@\")\n",
    "    a = []\n",
    "    for el in s:\n",
    "        a.append(el.split())\n",
    "    a = list(filter(None, a))\n",
    "    counter = 0\n",
    "    key = value = \"\"\n",
    "    for mas in a:\n",
    "        if counter == 2:\n",
    "            counter = 0\n",
    "            res[key] = value\n",
    "        if len(mas) == 1:\n",
    "            key = mas[0]\n",
    "            counter += 1\n",
    "        else:\n",
    "            value = mas\n",
    "            counter += 1\n",
    "    res[key] = value\n",
    "    return res\n"
   ]
  },
  {
   "cell_type": "code",
   "execution_count": 32,
   "id": "6c50d840",
   "metadata": {},
   "outputs": [
    {
     "name": "stdout",
     "output_type": "stream",
     "text": [
      "{'ange_861': ['esbe_770', 'ison'], 'zara_170': ['ora', 'gexege_344', 'ceanat'], 'isti': ['arso', 'inzati_971', 'letees_51', 'soqu'], 'inante': ['isla', 'inen', 'usonma_798', 'erti']}\n"
     ]
    }
   ],
   "source": [
    "print(main('do[[ val q(ange_861) ::= [ esbe_770 ison ]. ]][[ val q(zara_170)::=[\\nora gexege_344 ceanat ]. ]][[val q(isti) ::= [ arso inzati_971\\nletees_51 soqu ].]] [[val q(inante) ::= [ isla inen usonma_798\\nerti].]] done'))"
   ]
  },
  {
   "cell_type": "markdown",
   "id": "c4ae4a25",
   "metadata": {},
   "source": [
    "<h3 align=\"center\">Задание 9 (вариант 26, ИНБО-01-20).</h3>\n",
    "\n",
    "![_IMAGE_NOT_FOUND_](./images/9_26.jpg)"
   ]
  },
  {
   "cell_type": "code",
   "execution_count": 33,
   "id": "b6670841",
   "metadata": {},
   "outputs": [],
   "source": [
    "class Miles_FSM():\n",
    "\n",
    "    def __init__(self):\n",
    "        self.state = \"A\"\n",
    "\n",
    "    def stop(self):\n",
    "        if self.state == \"A\":\n",
    "            self.state = \"B\"\n",
    "            return 0\n",
    "        elif self.state == \"E\":\n",
    "            self.state = \"A\"\n",
    "            return 6\n",
    "        elif self.state == \"F\":\n",
    "            self.state = \"G\"\n",
    "            return 7\n",
    "        elif self.state == \"G\":\n",
    "            self.state = \"H\"\n",
    "            return 9\n",
    "        elif self.state == \"H\":\n",
    "            self.state = \"F\"\n",
    "            return 10\n",
    "        else:\n",
    "            raise KeyError\n",
    "\n",
    "    def run(self):\n",
    "        if self.state == \"B\":\n",
    "            self.state = \"C\"\n",
    "            return 1\n",
    "        elif self.state == \"C\":\n",
    "            self.state = \"D\"\n",
    "            return 2\n",
    "        elif self.state == \"D\":\n",
    "            self.state = \"E\"\n",
    "            return 3\n",
    "        elif self.state == \"E\":\n",
    "            self.state = \"F\"\n",
    "            return 5\n",
    "        elif self.state == \"F\":\n",
    "            self.state = \"A\"\n",
    "            return 8\n",
    "        else:\n",
    "            raise KeyError\n",
    "\n",
    "    def race(self):\n",
    "        if self.state == \"D\":\n",
    "            self.state = \"H\"\n",
    "            return 4\n",
    "        elif self.state == \"H\":\n",
    "            self.state = \"A\"\n",
    "            return 11\n",
    "        else:\n",
    "            raise KeyError\n",
    "\n",
    "\n",
    "def main():\n",
    "    obj = Miles_FSM()\n",
    "    return obj\n"
   ]
  },
  {
   "cell_type": "code",
   "execution_count": 34,
   "id": "ebcf9094",
   "metadata": {},
   "outputs": [
    {
     "name": "stdout",
     "output_type": "stream",
     "text": [
      "0\n",
      "1\n",
      "2\n",
      "3\n",
      "5\n"
     ]
    },
    {
     "ename": "KeyError",
     "evalue": "",
     "output_type": "error",
     "traceback": [
      "\u001b[1;31m---------------------------------------------------------------------------\u001b[0m",
      "\u001b[1;31mKeyError\u001b[0m                                  Traceback (most recent call last)",
      "\u001b[1;32m<ipython-input-34-a33e54f4a0a1>\u001b[0m in \u001b[0;36m<module>\u001b[1;34m\u001b[0m\n\u001b[0;32m      5\u001b[0m \u001b[0mprint\u001b[0m\u001b[1;33m(\u001b[0m\u001b[0mo\u001b[0m\u001b[1;33m.\u001b[0m\u001b[0mrun\u001b[0m\u001b[1;33m(\u001b[0m\u001b[1;33m)\u001b[0m\u001b[1;33m)\u001b[0m  \u001b[1;31m# 3\u001b[0m\u001b[1;33m\u001b[0m\u001b[1;33m\u001b[0m\u001b[0m\n\u001b[0;32m      6\u001b[0m \u001b[0mprint\u001b[0m\u001b[1;33m(\u001b[0m\u001b[0mo\u001b[0m\u001b[1;33m.\u001b[0m\u001b[0mrun\u001b[0m\u001b[1;33m(\u001b[0m\u001b[1;33m)\u001b[0m\u001b[1;33m)\u001b[0m  \u001b[1;31m# 5\u001b[0m\u001b[1;33m\u001b[0m\u001b[1;33m\u001b[0m\u001b[0m\n\u001b[1;32m----> 7\u001b[1;33m \u001b[0mprint\u001b[0m\u001b[1;33m(\u001b[0m\u001b[0mo\u001b[0m\u001b[1;33m.\u001b[0m\u001b[0mrace\u001b[0m\u001b[1;33m(\u001b[0m\u001b[1;33m)\u001b[0m\u001b[1;33m)\u001b[0m  \u001b[1;31m# KeyError\u001b[0m\u001b[1;33m\u001b[0m\u001b[1;33m\u001b[0m\u001b[0m\n\u001b[0m\u001b[0;32m      8\u001b[0m \u001b[0mprint\u001b[0m\u001b[1;33m(\u001b[0m\u001b[0mo\u001b[0m\u001b[1;33m.\u001b[0m\u001b[0mstop\u001b[0m\u001b[1;33m(\u001b[0m\u001b[1;33m)\u001b[0m\u001b[1;33m)\u001b[0m  \u001b[1;31m# 7\u001b[0m\u001b[1;33m\u001b[0m\u001b[1;33m\u001b[0m\u001b[0m\n\u001b[0;32m      9\u001b[0m \u001b[0mprint\u001b[0m\u001b[1;33m(\u001b[0m\u001b[0mo\u001b[0m\u001b[1;33m.\u001b[0m\u001b[0mstop\u001b[0m\u001b[1;33m(\u001b[0m\u001b[1;33m)\u001b[0m\u001b[1;33m)\u001b[0m  \u001b[1;31m# 9\u001b[0m\u001b[1;33m\u001b[0m\u001b[1;33m\u001b[0m\u001b[0m\n",
      "\u001b[1;32m<ipython-input-33-8a6588d15ff6>\u001b[0m in \u001b[0;36mrace\u001b[1;34m(self)\u001b[0m\n\u001b[0;32m     50\u001b[0m             \u001b[1;32mreturn\u001b[0m \u001b[1;36m11\u001b[0m\u001b[1;33m\u001b[0m\u001b[1;33m\u001b[0m\u001b[0m\n\u001b[0;32m     51\u001b[0m         \u001b[1;32melse\u001b[0m\u001b[1;33m:\u001b[0m\u001b[1;33m\u001b[0m\u001b[1;33m\u001b[0m\u001b[0m\n\u001b[1;32m---> 52\u001b[1;33m             \u001b[1;32mraise\u001b[0m \u001b[0mKeyError\u001b[0m\u001b[1;33m\u001b[0m\u001b[1;33m\u001b[0m\u001b[0m\n\u001b[0m\u001b[0;32m     53\u001b[0m \u001b[1;33m\u001b[0m\u001b[0m\n\u001b[0;32m     54\u001b[0m \u001b[1;33m\u001b[0m\u001b[0m\n",
      "\u001b[1;31mKeyError\u001b[0m: "
     ]
    }
   ],
   "source": [
    "o = main()\n",
    "print(o.stop())  # 0\n",
    "print(o.run())  # 1\n",
    "print(o.run())  # 2\n",
    "print(o.run())  # 3\n",
    "print(o.run())  # 5\n",
    "print(o.race())  # KeyError\n",
    "print(o.stop())  # 7\n",
    "print(o.stop())  # 9\n",
    "print(o.race())  # 11\n",
    "print(o.stop())  # 0\n",
    "print(o.run())  # 1\n",
    "print(o.race())  # KeyError\n",
    "print(o.run())  # 2\n",
    "print(o.race())  # 4\n",
    "print(o.stop())  # 10\n",
    "print(o.run())  # 8\n",
    "print(o.run())  # KeyError\n",
    "print(o.stop())  # 0"
   ]
  },
  {
   "cell_type": "markdown",
   "id": "da23da93",
   "metadata": {},
   "source": [
    "<h3 align=\"center\">Задание 9 (вариант 3, ИКБО-16-20).</h3>\n",
    "\n",
    "![_IMAGE_NOT_FOUND_](./images/9_3_ikbo16.jpg)"
   ]
  },
  {
   "cell_type": "code",
   "execution_count": 35,
   "id": "b12aa850",
   "metadata": {},
   "outputs": [],
   "source": [
    "class Miles_FSM():\n",
    "\n",
    "    def __init__(self):\n",
    "        self.state = \"A\"\n",
    "\n",
    "    def apply(self):\n",
    "        if self.state == \"A\":\n",
    "            self.state = \"B\"\n",
    "            return 0\n",
    "        elif self.state == \"C\":\n",
    "            return 6\n",
    "        elif self.state == \"B\":\n",
    "            self.state = \"H\"\n",
    "            return 2\n",
    "        else:\n",
    "            raise KeyError\n",
    "\n",
    "    def group(self):\n",
    "        if self.state == \"G\":\n",
    "            self.state = \"H\"\n",
    "            return 10\n",
    "        elif self.state == \"B\":\n",
    "            self.state = \"D\"\n",
    "            return 4\n",
    "        else:\n",
    "            raise KeyError\n",
    "\n",
    "    def wreck(self):\n",
    "        if self.state == \"B\":\n",
    "            return 3\n",
    "        elif self.state == \"C\":\n",
    "            self.state = \"D\"\n",
    "            return 5\n",
    "        elif self.state == \"F\":\n",
    "            self.state = \"G\"\n",
    "            return 9\n",
    "        elif self.state == \"G\":\n",
    "            return 11\n",
    "        else:\n",
    "            raise KeyError\n",
    "\n",
    "    def forge(self):\n",
    "        if self.state == \"B\":\n",
    "            self.state = \"C\"\n",
    "            return 1\n",
    "        elif self.state == \"D\":\n",
    "            self.state = \"E\"\n",
    "            return 7\n",
    "        elif self.state == \"E\":\n",
    "            self.state = \"F\"\n",
    "            return 8\n",
    "        else:\n",
    "            raise KeyError\n",
    "\n",
    "\n",
    "def main():\n",
    "    obj = Miles_FSM()\n",
    "    return obj\n"
   ]
  },
  {
   "cell_type": "code",
   "execution_count": 36,
   "id": "1147c251",
   "metadata": {},
   "outputs": [
    {
     "ename": "KeyError",
     "evalue": "",
     "output_type": "error",
     "traceback": [
      "\u001b[1;31m---------------------------------------------------------------------------\u001b[0m",
      "\u001b[1;31mKeyError\u001b[0m                                  Traceback (most recent call last)",
      "\u001b[1;32m<ipython-input-36-25d7124d4fec>\u001b[0m in \u001b[0;36m<module>\u001b[1;34m\u001b[0m\n\u001b[0;32m      3\u001b[0m \u001b[0mo\u001b[0m\u001b[1;33m.\u001b[0m\u001b[0mwreck\u001b[0m\u001b[1;33m(\u001b[0m\u001b[1;33m)\u001b[0m  \u001b[1;31m# 3\u001b[0m\u001b[1;33m\u001b[0m\u001b[1;33m\u001b[0m\u001b[0m\n\u001b[0;32m      4\u001b[0m \u001b[0mo\u001b[0m\u001b[1;33m.\u001b[0m\u001b[0mforge\u001b[0m\u001b[1;33m(\u001b[0m\u001b[1;33m)\u001b[0m  \u001b[1;31m# 1\u001b[0m\u001b[1;33m\u001b[0m\u001b[1;33m\u001b[0m\u001b[0m\n\u001b[1;32m----> 5\u001b[1;33m \u001b[0mo\u001b[0m\u001b[1;33m.\u001b[0m\u001b[0mgroup\u001b[0m\u001b[1;33m(\u001b[0m\u001b[1;33m)\u001b[0m  \u001b[1;31m# KeyError\u001b[0m\u001b[1;33m\u001b[0m\u001b[1;33m\u001b[0m\u001b[0m\n\u001b[0m\u001b[0;32m      6\u001b[0m \u001b[0mo\u001b[0m\u001b[1;33m.\u001b[0m\u001b[0mapply\u001b[0m\u001b[1;33m(\u001b[0m\u001b[1;33m)\u001b[0m  \u001b[1;31m# 6\u001b[0m\u001b[1;33m\u001b[0m\u001b[1;33m\u001b[0m\u001b[0m\n\u001b[0;32m      7\u001b[0m \u001b[0mo\u001b[0m\u001b[1;33m.\u001b[0m\u001b[0mwreck\u001b[0m\u001b[1;33m(\u001b[0m\u001b[1;33m)\u001b[0m  \u001b[1;31m# 5\u001b[0m\u001b[1;33m\u001b[0m\u001b[1;33m\u001b[0m\u001b[0m\n",
      "\u001b[1;32m<ipython-input-35-ab8d3897a5cc>\u001b[0m in \u001b[0;36mgroup\u001b[1;34m(self)\u001b[0m\n\u001b[0;32m     24\u001b[0m             \u001b[1;32mreturn\u001b[0m \u001b[1;36m4\u001b[0m\u001b[1;33m\u001b[0m\u001b[1;33m\u001b[0m\u001b[0m\n\u001b[0;32m     25\u001b[0m         \u001b[1;32melse\u001b[0m\u001b[1;33m:\u001b[0m\u001b[1;33m\u001b[0m\u001b[1;33m\u001b[0m\u001b[0m\n\u001b[1;32m---> 26\u001b[1;33m             \u001b[1;32mraise\u001b[0m \u001b[0mKeyError\u001b[0m\u001b[1;33m\u001b[0m\u001b[1;33m\u001b[0m\u001b[0m\n\u001b[0m\u001b[0;32m     27\u001b[0m \u001b[1;33m\u001b[0m\u001b[0m\n\u001b[0;32m     28\u001b[0m     \u001b[1;32mdef\u001b[0m \u001b[0mwreck\u001b[0m\u001b[1;33m(\u001b[0m\u001b[0mself\u001b[0m\u001b[1;33m)\u001b[0m\u001b[1;33m:\u001b[0m\u001b[1;33m\u001b[0m\u001b[1;33m\u001b[0m\u001b[0m\n",
      "\u001b[1;31mKeyError\u001b[0m: "
     ]
    }
   ],
   "source": [
    "o = main()\n",
    "o.apply()  # 0\n",
    "o.wreck()  # 3\n",
    "o.forge()  # 1\n",
    "o.group()  # KeyError\n",
    "o.apply()  # 6\n",
    "o.wreck()  # 5\n",
    "o.forge()  # 7\n",
    "o.group()  # KeyError\n",
    "o.forge()  # 8\n",
    "o.wreck()  # 9\n",
    "o.forge()  # KeyError\n",
    "o.wreck()  # 11\n",
    "o.wreck()  # 11\n",
    "o.wreck()  # 11\n",
    "o.wreck()  # 11\n",
    "o.group()  # 10"
   ]
  },
  {
   "cell_type": "markdown",
   "id": "a5a3e4b1",
   "metadata": {},
   "source": [
    "<h3 align=\"center\">Задание 10 (вариант 5, ИНБО-01-20).</h3>\n",
    "\n",
    "![_IMAGE_NOT_FOUND_](./images/10_5.jpg)"
   ]
  },
  {
   "cell_type": "code",
   "execution_count": 37,
   "id": "5983a18d",
   "metadata": {},
   "outputs": [],
   "source": [
    "def change_list(any_list):\n",
    "    any_list[1] = any_list[1][any_list[1].index(')') + 2:any_list[1].index('-') + 3]\\\n",
    "                  + '-' + any_list[1][any_list[1].index('-') + 3:]\n",
    "    any_list[2] = any_list[2][any_list[2].index(']') + 1:]\n",
    "    if any_list[0] == 'Выполнено':\n",
    "        any_list[0] = '1'\n",
    "    else:\n",
    "        any_list[0] = '0'\n",
    "    return any_list\n",
    "\n",
    "\n",
    "def main(old_list):\n",
    "    list_without_repetitions = []\n",
    "    for el in old_list:\n",
    "        if el not in list_without_repetitions:\n",
    "            list_without_repetitions.append(el)\n",
    "    for i in range(len(list_without_repetitions)):\n",
    "        list_without_repetitions[i][0] = None\n",
    "        list_without_repetitions[i] = list(filter(None, list_without_repetitions[i]))\n",
    "    list_without_repetitions = list(filter(None, list_without_repetitions))\n",
    "    for i in range(len(list_without_repetitions)):\n",
    "        list_without_repetitions[i] = change_list(list_without_repetitions[i])\n",
    "    new_list = [[each_list[0] for each_list in list_without_repetitions],\n",
    "                [each_list[1] for each_list in list_without_repetitions],\n",
    "                [each_list[2] for each_list in list_without_repetitions]]\n",
    "    return new_list\n"
   ]
  },
  {
   "cell_type": "code",
   "execution_count": 38,
   "id": "dcbd703d",
   "metadata": {},
   "outputs": [
    {
     "name": "stdout",
     "output_type": "stream",
     "text": [
      "[['1', '0', '0', '0'], ['318-26-28', '235-74-78', '455-65-08', '423-55-96'], ['gmail.com', 'yahoo.com', 'rambler.ru', 'mail.ru']]\n"
     ]
    }
   ],
   "source": [
    "print(main([['Выполнено', 'Выполнено', '(569) 318-2628', 'kotarman82[at]gmail.com'],\n",
    "            ['Не выполнено', 'Не выполнено', '(107) 235-7478', 'cenizan43[at]yahoo.com'],\n",
    "            ['Не выполнено', 'Не выполнено', '(111) 455-6508', 'daniil43[at]rambler.ru'],\n",
    "            ['Не выполнено', 'Не выполнено', '(227) 423-5596', 'robert70[at]mail.ru'],\n",
    "            [None, None, None, None],\n",
    "            ['Не выполнено', 'Не выполнено', '(111) 455-6508', 'daniil43[at]rambler.ru'],\n",
    "            ['Не выполнено', 'Не выполнено', '(111) 455-6508', 'daniil43[at]rambler.ru']]))"
   ]
  },
  {
   "cell_type": "markdown",
   "id": "ce47199c",
   "metadata": {},
   "source": [
    "<h3 align=\"center\">Задание 10 (вариант 26, ИНБО-01-20).</h3>\n",
    "\n",
    "![_IMAGE_NOT_FOUND_](./images/10_26.jpg)"
   ]
  },
  {
   "cell_type": "code",
   "execution_count": 39,
   "id": "1e5ab876",
   "metadata": {},
   "outputs": [],
   "source": [
    "def change(s):\n",
    "    s = list(filter(None, s))\n",
    "    for i in range(len(s)):\n",
    "        if ']' in s[i]:\n",
    "            s[0] = s[i][s[i].index(']') + 1:s[i].index('#')]\n",
    "        if '#' in s[i]:\n",
    "            s[i] = str(round(float(s[i][s[i].index('#') + 1:]), 1))\n",
    "        elif 'да' == s[i]:\n",
    "            s[i] = 'true'\n",
    "        elif 'нет' == s[i]:\n",
    "            s[i] = 'false'\n",
    "        else:\n",
    "            s[i] = s[i].replace('.', '-')\n",
    "    return s\n",
    "\n",
    "\n",
    "def new_lists(s):\n",
    "    ns1 = []\n",
    "    ns2 = []\n",
    "    ns3 = []\n",
    "    ns4 = []\n",
    "    for s_list in s:\n",
    "        ns1.append(s_list[1])\n",
    "        ns2.append(s_list[2])\n",
    "        ns3.append(s_list[3])\n",
    "        ns4.append(s_list[0])\n",
    "    ns = [ns1, ns2, ns3, ns4]\n",
    "    return ns\n",
    "\n",
    "\n",
    "def main(s):\n",
    "    for i in range(len(s)):\n",
    "        s[i] = change(s[i])\n",
    "    s = list(filter(None, s))\n",
    "    return new_lists(s)\n"
   ]
  },
  {
   "cell_type": "code",
   "execution_count": 40,
   "id": "a1af9bb7",
   "metadata": {},
   "outputs": [
    {
     "name": "stdout",
     "output_type": "stream",
     "text": [
      "[['true', 'true', 'false', 'true'], ['0.1', '0.1', '0.6', '0.5'], ['06-02-00', '06-02-00', '06-04-00', '16-04-03'], ['mail.ru', 'mail.ru', 'rambler.ru', 'yahoo.com']]\n"
     ]
    }
   ],
   "source": [
    "print(main([[None, None, None, None, None, None], ['да', None, None, 'да', 'nuzatli23[at]mail.ru#0.05', '06.02.00'], ['да', None, None, 'да', 'nuzatli23[at]mail.ru#0.05', '06.02.00'], ['нет', None, None, 'нет', 'sogisic66[at]rambler.ru#0.60', '06.04.00'], [None, None, None, None, None, None], ['да', None, None, 'да', 'gusunuk64[at]yahoo.com#0.46', '16.04.03']]))"
   ]
  },
  {
   "cell_type": "markdown",
   "id": "72efcc34",
   "metadata": {},
   "source": [
    "<h3 align=\"center\">Задание 10 (вариант 12, ИНБО-01-20).</h3>\n",
    "\n",
    "![_IMAGE_NOT_FOUND_](./images/10_12.jpg)"
   ]
  },
  {
   "cell_type": "code",
   "execution_count": 41,
   "id": "532db5ff",
   "metadata": {},
   "outputs": [],
   "source": [
    "def change(s):\n",
    "    s = list(filter(None, s))\n",
    "    s0 = s1 = s2 = s3 = \"\"\n",
    "    for i in range(len(s)):\n",
    "        if '+' in s[i]:\n",
    "            s0 = s[0][s[0].index('(') + 1:s[0].index(')')]\n",
    "            s0 += ' '\n",
    "            s0 += s[0][s[0].index(')') + 1:s[0].index('&') - 3]\n",
    "            s0 += s[0][s[0].index('&') - 2:s[0].index('&')]\n",
    "            if len(s[0][s[0].index('&') + 1:-1]) == 1:\n",
    "                s1 = \"0.0\" + s[0][s[0].index('&') + 1:-1] + \"00\"\n",
    "            elif len(s[0][s[0].index('&') + 1:-1]) == 2:\n",
    "                s1 = \"0.\" + s[0][s[0].index('&') + 1:-1] + \"00\"\n",
    "            else:\n",
    "                s1 = \"1.0000\"\n",
    "        elif '.' in s[i]:\n",
    "            s2 = s[1].replace('.', '/')\n",
    "            s2 = s2[:-4] + s2[-2:]\n",
    "        else:\n",
    "            s3 = s[2][s[2].index(' ') + 1:] + \" \" + s[2][:s[2].index(' ')]\n",
    "    return [s0, s1, s2, s3]\n",
    "\n",
    "\n",
    "def new_lists(s):\n",
    "    ns1 = []\n",
    "    ns2 = []\n",
    "    ns3 = []\n",
    "    ns4 = []\n",
    "    for s_list in s:\n",
    "        ns1.append(s_list[0])\n",
    "        ns2.append(s_list[1])\n",
    "        ns3.append(s_list[2])\n",
    "        ns4.append(s_list[3])\n",
    "    ns = [ns1, ns2, ns3, ns4]\n",
    "    return ns\n",
    "\n",
    "\n",
    "def sort_key(e):\n",
    "    return int(e[0][:3])\n",
    "\n",
    "\n",
    "def main(s):\n",
    "    norep = []\n",
    "    for el in s:\n",
    "        if el not in norep:\n",
    "            norep.append(el)\n",
    "    for i in range(len(norep)):\n",
    "        norep[i] = list(filter(None, norep[i]))\n",
    "    s = list(filter(None, norep))\n",
    "    for i in range(len(s)):\n",
    "        s[i] = list(filter(None, s[i]))\n",
    "        s[i] = change(s[i])\n",
    "    s = sorted(s, key=sort_key)\n",
    "    return new_lists(s)\n"
   ]
  },
  {
   "cell_type": "code",
   "execution_count": 42,
   "id": "ac02e69e",
   "metadata": {},
   "outputs": [
    {
     "name": "stdout",
     "output_type": "stream",
     "text": [
      "[['226 517-3758', '281 868-7763', '714 291-2445', '769 757-5293'], ['0.1700', '0.9000', '0.6300', '0.4800'], ['25/04/02', '11/08/00', '01/03/00', '20/03/01'], ['Дамир Ноцич', 'Мирон Шутяк', 'Виктор Шефилук', 'Ильдар Дочий']]\n"
     ]
    }
   ],
   "source": [
    "print(main([['+7(226)517-37-58&17%', '25.04.2002', 'Ноцич Дамир', 'Ноцич Дамир'], ['+7(769)757-52-93&48%', '20.03.2001', 'Дочий Ильдар', 'Дочий Ильдар'], ['+7(769)757-52-93&48%', '20.03.2001', 'Дочий Ильдар', 'Дочий Ильдар'], ['+7(281)868-77-63&90%', '11.08.2000', 'Шутяк Мирон', 'Шутяк Мирон'], [None, None, None, None], ['+7(714)291-24-45&63%', '01.03.2000', 'Шефилук Виктор', 'Шефилук Виктор'], ['+7(769)757-52-93&48%', '20.03.2001', 'Дочий Ильдар', 'Дочий Ильдар']]))"
   ]
  },
  {
   "cell_type": "markdown",
   "id": "2dac85b8",
   "metadata": {},
   "source": [
    "<h3 align=\"center\">Задание 10 (вариант 3, ИНБО-05-20).</h3>\n",
    "\n",
    "![_IMAGE_NOT_FOUND_](./images/10_3_inbo5.jpg)"
   ]
  },
  {
   "cell_type": "code",
   "execution_count": 43,
   "id": "611c7c0d",
   "metadata": {},
   "outputs": [],
   "source": [
    "from datetime import datetime\n",
    "\n",
    "\n",
    "def change(s):\n",
    "    s = list(filter(None, s))\n",
    "    for i in range(len(s)):\n",
    "        if '(' in s[i]:\n",
    "            s[i] = s[i][s[i].index('(') + 1:s[i].index(')')] +\\\n",
    "                   s[i][s[i].index(')') + 1:]\n",
    "        elif '.' in s[i]:\n",
    "            s[i] = s[i][s[i].index('.') + 2:] + ' ' + s[i][0] + '.' +\\\n",
    "                   s[i][s[i].index('.') - 1] + '.'\n",
    "        elif '1' == s[i]:\n",
    "            s[i] = 'true'\n",
    "        elif '0' == s[i]:\n",
    "            s[i] = 'false'\n",
    "        elif '/' in s[i]:\n",
    "            s[i] = s[i].replace('/', '.')\n",
    "            a = s[i][s[i].index('.') + 1:][s[i].index('.') + 1:]\n",
    "            b = '.' + s[i][s[i].index('.') + 1:][:s[i].index('.') + 1]\n",
    "            c = s[i][:s[i].index('.')]\n",
    "            s[i] = a + b + c\n",
    "    return s\n",
    "\n",
    "\n",
    "def main(s):\n",
    "    for i in range(len(s)):\n",
    "        s[i] = change(s[i])\n",
    "    s = list(filter(None, s))\n",
    "    s = sorted(s, key=lambda s_list: datetime.strptime(s_list[0].split(\n",
    "    )[-1], '%Y.%m.%d'))\n",
    "    return s\n"
   ]
  },
  {
   "cell_type": "code",
   "execution_count": 44,
   "id": "3c1647cc",
   "metadata": {},
   "outputs": [
    {
     "name": "stdout",
     "output_type": "stream",
     "text": [
      "[['1999.06.24', 'true', '111 266-8133', 'Нагешберг Е.Р.'], ['2001.03.15', 'true', '566 664-3367', 'Цумко Л.О.'], ['2004.04.14', 'true', '224 037-0191', 'Ралко Р.З.']]\n"
     ]
    }
   ],
   "source": [
    "print(main([['14/04/2004', '1', '(224) 037-0191', 'Ростислав З. Ралко'], [None, None, None, None], ['15/03/2001', '1', '(566) 664-3367', 'Леонид О. Цумко'], [None, None, None, None], ['24/06/1999', '1', '(111) 266-8133', 'Егор Р. Нагешберг']]))"
   ]
  },
  {
   "cell_type": "markdown",
   "id": "1d98c1d2",
   "metadata": {},
   "source": [
    "<h3 align=\"center\">Задание 10 (вариант 3, ИКБО-16-20).</h3>\n",
    "\n",
    "![_IMAGE_NOT_FOUND_](./images/10_3_ikbo16.jpg)"
   ]
  },
  {
   "cell_type": "code",
   "execution_count": 45,
   "id": "6660ba0e",
   "metadata": {},
   "outputs": [],
   "source": [
    "def change_list(li):\n",
    "    li.append(li[0][li[0].index(\";\") + 1:li[0].index(\"[\")] + '@' +\n",
    "              li[0][li[0].index(\"]\") + 1:])\n",
    "    li[0] = li[0][:li[0].index(\";\")].replace(\"/\", \"-\")\n",
    "    if len(li[1]) == 2:\n",
    "        li[1] = '0.0' + li[1][0] + '00'\n",
    "    elif len(li[1]) == 3:\n",
    "        li[1] = '0.' + li[1][:2] + '00'\n",
    "    else:\n",
    "        li[1] = '1.0000'\n",
    "    return li\n",
    "\n",
    "\n",
    "def main(old_list):\n",
    "    li = []\n",
    "    for el in old_list:\n",
    "        if el not in li:\n",
    "            li.append(el)\n",
    "    for i in range(len(li)):\n",
    "        li[i] = list(filter(None, li[i]))\n",
    "    li = list(filter(None, li))\n",
    "    for i in range(len(li)):\n",
    "        li[i] = change_list(li[i])\n",
    "    return li\n"
   ]
  },
  {
   "cell_type": "code",
   "execution_count": 46,
   "id": "56ed6e80",
   "metadata": {},
   "outputs": [],
   "source": [
    "# При желании можно сделать проверку, но желания у меня не возникло."
   ]
  },
  {
   "cell_type": "markdown",
   "id": "0ef8d4b3",
   "metadata": {},
   "source": [
    "<h3 align=\"center\">Задание 11 (вариант 3, ИКБО-16-20).</h3>\n",
    "\n",
    "![_IMAGE_NOT_FOUND_](./images/11_3_ikbo16.jpg)"
   ]
  },
  {
   "cell_type": "code",
   "execution_count": 47,
   "id": "def65df8",
   "metadata": {},
   "outputs": [],
   "source": [
    "import struct\n",
    "\n",
    "\n",
    "def d_struct(x, start):\n",
    "    return {\n",
    "        'D1': struct.unpack(\"> d\", x[start:start + 8])[0],\n",
    "        'D2': struct.unpack(\"> b\", x[start + 8:start + 9])[0]\n",
    "    }\n",
    "\n",
    "\n",
    "def uint16uint32uint64(x, start):\n",
    "    size = struct.unpack(\"> H\", x[start: start + 2])[0]\n",
    "    add = struct.unpack(\"> I\", x[start + 2: start + 6])[0]\n",
    "    a = struct.unpack(\"> \" + \"Q\" * size, x[add: add + 8 * size])\n",
    "    return list(a)\n",
    "\n",
    "\n",
    "def c_struct(x, start):\n",
    "    return {\n",
    "        'C1': struct.unpack(\"> f\", x[start:start + 4])[0],\n",
    "        'C2': uint16uint32uint64(x, start + 4),\n",
    "        'C3': struct.unpack(\"> q\", x[start + 10:start + 18])[0],\n",
    "        'C4': struct.unpack(\"> B\", x[start + 18:start + 19])[0],\n",
    "        'C5': struct.unpack(\"> b\", x[start + 19:start + 20])[0],\n",
    "        'C6': struct.unpack(\"> H\", x[start + 20:start + 22])[0],\n",
    "        'C7': struct.unpack(\"> I\", x[start + 22:start + 26])[0]\n",
    "    }\n",
    "\n",
    "\n",
    "def c_address(x, start):\n",
    "    return struct.unpack(\"> H\", x[start:start + 2])[0]\n",
    "\n",
    "\n",
    "def uint16uint32int8(x, start):\n",
    "    size = struct.unpack(\"> H\", x[start: start + 2])[0]\n",
    "    add = struct.unpack(\"> I\", x[start + 2: start + 6])[0]\n",
    "    a = struct.unpack(\"> \" + \"b\" * size, x[add: add + size])\n",
    "    return list(a)\n",
    "\n",
    "\n",
    "def b_struct(x, start):\n",
    "    return {\n",
    "        'B1': struct.unpack(\"> I\", x[start:start + 4])[0],\n",
    "        'B2': struct.unpack(\"> d\", x[start + 4:start + 12])[0],\n",
    "        'B3': struct.unpack(\"> H\", x[start + 12:start + 14])[0],\n",
    "        'B4': uint16uint32int8(x, start + 14),\n",
    "        'B5': c_struct(x, c_address(x, start + 20))\n",
    "    }\n",
    "\n",
    "\n",
    "def uint16uint16char(x, start):\n",
    "    size = struct.unpack(\"> H\", x[start: start + 2])[0]\n",
    "    add = struct.unpack(\"> H\", x[start + 2: start + 4])[0]\n",
    "    return str(x[add: add + size])[2:-1]\n",
    "\n",
    "\n",
    "def uint16uint16uint8(x, start):\n",
    "    size = struct.unpack(\"> H\", x[start: start + 2])[0]\n",
    "    add = struct.unpack(\"> H\", x[start + 2: start + 4])[0]\n",
    "    a = struct.unpack(\"> \" + \"B\" * size, x[add: add + size])\n",
    "    return list(a)\n",
    "\n",
    "\n",
    "def d_address(x, start):\n",
    "    return struct.unpack(\"> I\", x[start:start + 4])[0]\n",
    "\n",
    "\n",
    "def b_address(x, start):\n",
    "    return struct.unpack(\"> H\", x[start:start + 2])[0]\n",
    "\n",
    "\n",
    "def a_struct(x, start):\n",
    "    return {\n",
    "        'A1': struct.unpack(\"> b\", x[start:start + 1])[0],\n",
    "        'A2': struct.unpack(\"> Q\", x[start + 1:start + 9])[0],\n",
    "        'A3': uint16uint16char(x, start + 9),\n",
    "        'A4': struct.unpack(\"> d\", x[start + 13:start + 21])[0],\n",
    "        'A5': [b_struct(x, b_address(x, start + 21)),\n",
    "               b_struct(x, b_address(x, start + 23))],\n",
    "        'A6': struct.unpack(\"> b\", x[start + 25:start + 26])[0],\n",
    "        'A7': d_struct(x, d_address(x, start + 26)),\n",
    "        'A8': uint16uint16uint8(x, start + 30)\n",
    "    }\n",
    "\n",
    "\n",
    "def main(x):\n",
    "    return a_struct(x, 5)\n"
   ]
  },
  {
   "cell_type": "code",
   "execution_count": 48,
   "id": "f0dad081",
   "metadata": {},
   "outputs": [
    {
     "name": "stdout",
     "output_type": "stream",
     "text": [
      "{'A1': 95, 'A2': 1455103465985279788, 'A3': 'uw', 'A4': -0.6282187482995931, 'A5': [{'B1': 810707787, 'B2': 0.14006170157253095, 'B3': 55183, 'B4': [-36, -94, 26, 108, 113, -67], 'B5': {'C1': 0.3028221130371094, 'C2': [12899631657755208187, 14388991414454067125], 'C3': 6607325594269649178, 'C4': 166, 'C5': 86, 'C6': 14955, 'C7': 1885927851}}, {'B1': 2680422591, 'B2': -0.7065252209297317, 'B3': 20784, 'B4': [119, 18, 29], 'B5': {'C1': 0.8338546752929688, 'C2': [10846955514032823121, 1395543914200386058], 'C3': -7832645173821580262, 'C4': 80, 'C5': -70, 'C6': 41059, 'C7': 1811625406}}], 'A6': -76, 'A7': {'D1': 0.38147435564023713, 'D2': 5}, 'A8': [208, 217, 144, 152, 102]}\n"
     ]
    }
   ],
   "source": [
    "print(main(b\"JZGQ\\xf4_\\x141\\x90\\xe4\\x91~\\x07,\\x00\\x02\\x00'\\xbf\\xe4\\x1a^4U\\xc9.\\x00Y\"\n",
    " b'\\x00\\x9c\\xb4\\x00\\x00\\x00\\xb2\\x00\\x05\\x00\\xbbuw\\xdc\\xa2\\x1alq\\xbd\\xb3'\n",
    " b'\\x04\\xb2\\xa5\\xc5\\xe1\\xe9\\xfb\\xc7\\xaf\\xf7t\\x8e\\xae\\x1f\\xb5>\\x9b\\x0b\\x80\\x00'\n",
    " b'\\x02\\x00\\x00\\x00/[\\xb1\\xef\\x9e\\xf1\\xca\\t\\x1a\\xa6V:kph\\xf9\\xab0RkK?\\xc1\\xed'\n",
    " b'\\x8a\\xb5\\xd6\\x8b\\x80\\xd7\\x8f\\x00\\x06\\x00\\x00\\x00)\\x00?w\\x12\\x1d\\x96\\x88'\n",
    " b' \\x92\\x04d\\x1bQ\\x13]\\xf7\\xcb\\xca_J\\n?Uw\\x80\\x00\\x02\\x00\\x00\\x00r'\n",
    " b'\\x93L\\xda\\xb6\\xaa\\xaf\\xdc\\x1aP\\xba\\xa0ck\\xfb5\\xbe\\x9f\\xc4\\x00\\xbf'\n",
    " b\"\\xbf\\xe6\\x9b\\xda\\xc7\\xb6'\\xeaQ0\\x00\\x03\\x00\\x00\\x00o\\x00\\x82?\\xd8j\\x13jo\"\n",
    " b'3\\x10\\x05\\xd0\\xd9\\x90\\x98f'))"
   ]
  },
  {
   "cell_type": "markdown",
   "id": "64178f2a",
   "metadata": {},
   "source": [
    "<h3 align=\"center\">Задание 11 (вариант 2, ИНБО-01-20).</h3>\n",
    "\n",
    "![_IMAGE_NOT_FOUND_](./images/11_2.jpg)"
   ]
  },
  {
   "cell_type": "code",
   "execution_count": 49,
   "id": "560db198",
   "metadata": {},
   "outputs": [],
   "source": [
    "import struct\n",
    "\n",
    "\n",
    "def u32u16u32(x, start):\n",
    "    size = struct.unpack(\"> I\", x[start: start+4])[0]\n",
    "    add = struct.unpack(\"> H\", x[start+4: start+6])[0]\n",
    "    a = struct.unpack(\"> \"+\"I\"*size, x[add: add+4*size])\n",
    "    return list(a)\n",
    "\n",
    "\n",
    "def D(x, start):\n",
    "    return {\n",
    "        'D1': struct.unpack(\"> Q\", x[start:start+8])[0],\n",
    "        'D2': struct.unpack(\"> i\", x[start+8:start+12])[0],\n",
    "        'D3': struct.unpack(\"> h\", x[start+12:start+14])[0],\n",
    "        'D4': u32u16u32(x, start+14),\n",
    "        'D5': [struct.unpack(\"> h\", x[start + 20:start + 22])[0],\n",
    "               struct.unpack(\"> h\", x[start + 22:start + 24])[0],\n",
    "               struct.unpack(\"> h\", x[start + 24:start + 26])[0],\n",
    "               struct.unpack(\"> h\", x[start + 26:start + 28])[0],\n",
    "               struct.unpack(\"> h\", x[start + 28:start + 30])[0],\n",
    "               struct.unpack(\"> h\", x[start + 30:start + 32])[0]],\n",
    "    }\n",
    "\n",
    "\n",
    "def u16u16u8(x, start):\n",
    "    size = struct.unpack(\"> H\", x[start:start+2])[0]\n",
    "    add = struct.unpack(\"> H\", x[start+2:start+4])[0]\n",
    "    a = struct.unpack(\"> \" + \"B\" * size, x[add : add + size])\n",
    "    return list(a)\n",
    "\n",
    "\n",
    "def C(x, start):\n",
    "    return {\n",
    "        'C1': struct.unpack(\"> i\", x[start:start+4])[0],\n",
    "        'C2': u16u16u8(x, start+4),\n",
    "        'C3': struct.unpack(\"> Q\", x[start+8:start+16])[0],\n",
    "        'C4': struct.unpack(\"> b\", x[start+16:start+17])[0],\n",
    "        'C5': struct.unpack(\"> f\", x[start+17:start+21])[0],\n",
    "        'C6': struct.unpack(\"> H\", x[start+21:start+23])[0],\n",
    "    }\n",
    "\n",
    "\n",
    "def u32u16C(x, start):\n",
    "    size = struct.unpack(\"> I\", x[start:start+4])[0]\n",
    "    add = struct.unpack(\"> H\", x[start+4:start+6])[0]\n",
    "    a = []\n",
    "    for i in range(size):\n",
    "        a.append(C(x, add + i*23))\n",
    "    return a\n",
    "\n",
    "\n",
    "def addressD(x, start):\n",
    "    return struct.unpack(\"> I\", x[start:start + 4])[0]\n",
    "\n",
    "\n",
    "def B(x, start):\n",
    "    return {\n",
    "        'B1': struct.unpack(\"> q\", x[start:start+8])[0],\n",
    "        'B2': struct.unpack(\"> I\", x[start+8:start+12])[0],\n",
    "        'B3': u32u16C(x, start+12),\n",
    "        'B4': struct.unpack(\"> Q\", x[start+18:start+26])[0],\n",
    "        'B5': D(x, addressD(x, start+26)),\n",
    "        'B6': struct.unpack(\"> h\", x[start+30:start+32])[0]\n",
    "    }\n",
    "\n",
    "\n",
    "def A(x, start):\n",
    "    return {\n",
    "        'A1': B(x, start),\n",
    "        'A2': struct.unpack(\"> h\", x[start+32:start+34])[0]\n",
    "    }\n",
    "\n",
    "\n",
    "def main(x):\n",
    "    return A(x, 4)\n"
   ]
  },
  {
   "cell_type": "code",
   "execution_count": 50,
   "id": "a63d9a97",
   "metadata": {},
   "outputs": [
    {
     "name": "stdout",
     "output_type": "stream",
     "text": [
      "{'A1': {'B1': 7916244291059834326, 'B2': 3068244697, 'B3': [{'C1': 2030158729, 'C2': [181, 240, 7, 24, 54], 'C3': 8552978614860884985, 'C4': 81, 'C5': -0.31087297201156616, 'C6': 61362}, {'C1': 1711098593, 'C2': [70, 45, 100, 146], 'C3': 14342670755472422250, 'C4': 75, 'C5': 0.25673314929008484, 'C6': 30252}], 'B4': 2586124212818831712, 'B5': {'D1': 9568274412958166206, 'D2': 1833545913, 'D3': 17568, 'D4': [4051066289, 1222366568, 3062096563, 270125849], 'D5': [-26710, 1220, -10255, -26986, -32144, 12189]}, 'B6': 13649}, 'A2': -28763}\n"
     ]
    }
   ],
   "source": [
    "print(main((b'CHHwm\\xdc&=\\x9b\\xd5\\xdd\\xd6\\xb6\\xe1\\xb2\\xd9\\x00\\x00\\x00\\x02\\x00/#\\xe3'\n",
    " b'\\xc2E\\n\\x1ai`\\x00\\x00\\x00m5Q\\x8f\\xa5\\xb5\\xf0\\x07\\x186F-d\\x92y'\n",
    " b'\\x01\\xc3\\x89\\x00\\x05\\x00&v\\xb2H\\xbc\\x0eK\\xab\\xf9Q\\xbe\\x9f*\\xbe\\xef\\xb2e\\xfd'\n",
    " b'J\\xe1\\x00\\x04\\x00+\\xc7\\x0bg\\x0f\\xb6Q5jK>\\x83r\\x87v,\\xf1v]\\xb1H\\xdb\\xd5'\n",
    " b'h\\xb6\\x83\\xe2\\xb3\\x10\\x19\\xcb\\x19\\x84\\xc9V\\xe29\\xd4\\xac\\xbemI\\xb0'\n",
    " b'\\xb9D\\xa0\\x00\\x00\\x00\\x04\\x00]\\x97\\xaa\\x04\\xc4\\xd7\\xf1\\x96\\x96\\x82p/\\x9d')))"
   ]
  },
  {
   "cell_type": "markdown",
   "id": "3b6ecf07",
   "metadata": {},
   "source": [
    "<h3 align=\"center\">Задание 11 (вариант 5, ИНБО-01-20).</h3>\n",
    "\n",
    "![_IMAGE_NOT_FOUND_](./images/11_5.jpg)"
   ]
  },
  {
   "cell_type": "code",
   "execution_count": 51,
   "id": "10b4d783",
   "metadata": {},
   "outputs": [],
   "source": [
    "import struct\n",
    "\n",
    "\n",
    "def uint32uint16float(x, start):\n",
    "    size = struct.unpack(\"> I\", x[start:start + 4])[0]\n",
    "    add = struct.unpack(\"> H\", x[start + 4:start + 6])[0]\n",
    "    a = struct.unpack(\"> \" + \"f\" * size, x[add:add + 4 * size])\n",
    "    return list(a)\n",
    "\n",
    "\n",
    "def e_struct(x, start):\n",
    "    return {\n",
    "        'E1': struct.unpack(\"> b\", x[start:start + 1])[0],\n",
    "        'E2': struct.unpack(\"> f\", x[start + 1:start + 5])[0],\n",
    "        'E3': struct.unpack(\"> H\", x[start + 5:start + 7])[0],\n",
    "        'E4': uint32uint16float(x, start + 7),\n",
    "        'E5': struct.unpack(\"> f\", x[start + 13:start + 17])[0],\n",
    "        'E6': struct.unpack(\"> B\", x[start + 17:start + 18])[0],\n",
    "        'E7': struct.unpack(\"> f\", x[start + 18:start + 22])[0],\n",
    "        'E8': struct.unpack(\"> f\", x[start + 22:start + 26])[0]\n",
    "    }\n",
    "\n",
    "\n",
    "def d_struct(x, start):\n",
    "    return {\n",
    "        'D1': struct.unpack(\"> b\", x[start:start + 1])[0],\n",
    "        'D2': struct.unpack(\"> H\", x[start + 1:start + 3])[0],\n",
    "        'D3': struct.unpack(\"> B\", x[start + 3:start + 4])[0]\n",
    "    }\n",
    "\n",
    "\n",
    "def address_d_uint32(x, start):\n",
    "    return struct.unpack(\"> I\", x[start:start + 4])[0]\n",
    "\n",
    "\n",
    "def c_struct(x, start):\n",
    "    return {\n",
    "        'C1': struct.unpack(\"> b\", x[start:start + 1])[0],\n",
    "        'C2': struct.unpack(\"> b\", x[start + 1:start + 2])[0],\n",
    "        'C3': d_struct(x, address_d_uint32(x, start + 2)),\n",
    "        'C4': struct.unpack(\"> d\", x[start + 6:start + 14])[0],\n",
    "        'C5': struct.unpack(\"> B\", x[start + 14:start + 15])[0],\n",
    "        'C6': struct.unpack(\"> b\", x[start + 15:start + 16])[0],\n",
    "        'C7': struct.unpack(\"> B\", x[start + 16:start + 17])[0]\n",
    "    }\n",
    "\n",
    "\n",
    "def b_struct(x, start):\n",
    "    return {\n",
    "        'B1': struct.unpack(\"> B\", x[start:start + 1])[0],\n",
    "        'B2': struct.unpack(\"> I\", x[start + 1:start + 5])[0]\n",
    "    }\n",
    "\n",
    "\n",
    "def uint16uint32char(x, start):\n",
    "    size = struct.unpack(\"> H\", x[start: start + 2])[0]\n",
    "    add = struct.unpack(\"> I\", x[start + 2: start + 6])[0]\n",
    "    return str(x[add: add + size])[2:-1]\n",
    "\n",
    "\n",
    "def a_struct(x, start):\n",
    "    return {\n",
    "        'A1': uint16uint32char(x, start),\n",
    "        'A2': [b_struct(x, start + 6),\n",
    "               b_struct(x, start + 11),\n",
    "               b_struct(x, start + 16)],\n",
    "        'A3': struct.unpack(\"> d\", x[start + 21:start + 29])[0],\n",
    "        'A4': struct.unpack(\"> h\", x[start + 29:start + 31])[0],\n",
    "        'A5': struct.unpack(\"> f\", x[start + 31:start + 35])[0],\n",
    "        'A6': c_struct(x, start + 35),\n",
    "        'A7': e_struct(x, start + 52),\n",
    "        'A8': [struct.unpack(\"> Q\", x[start + 78:start + 86])[0],\n",
    "               struct.unpack(\"> Q\", x[start + 86:start + 94])[0],\n",
    "               struct.unpack(\"> Q\", x[start + 94:start + 102])[0],\n",
    "               struct.unpack(\"> Q\", x[start + 102:start + 110])[0],\n",
    "               struct.unpack(\"> Q\", x[start + 110:start + 118])[0],\n",
    "               struct.unpack(\"> Q\", x[start + 118:start + 126])[0],\n",
    "               struct.unpack(\"> Q\", x[start + 126:start + 134])[0]]\n",
    "    }\n",
    "\n",
    "\n",
    "def main(x):\n",
    "    return a_struct(x, 5)\n"
   ]
  },
  {
   "cell_type": "code",
   "execution_count": 52,
   "id": "f5be581e",
   "metadata": {},
   "outputs": [
    {
     "name": "stdout",
     "output_type": "stream",
     "text": [
      "{'A1': 'upqv', 'A2': [{'B1': 148, 'B2': 3575532498}, {'B1': 92, 'B2': 509145969}, {'B1': 40, 'B2': 2136039750}], 'A3': -0.1284770512144009, 'A4': 22971, 'A5': -0.9012665748596191, 'A6': {'C1': -92, 'C2': 104, 'C3': {'D1': 76, 'D2': 58888, 'D3': 138}, 'C4': -0.8170134771258142, 'C5': 45, 'C6': 37, 'C7': 28}, 'A7': {'E1': -115, 'E2': 0.6238641142845154, 'E3': 25386, 'E4': [-0.9428030848503113, 0.9776318669319153], 'E5': 0.9557530283927917, 'E6': 23, 'E7': 0.5707383155822754, 'E8': -0.1130540519952774}, 'A8': [11518425448285991375, 13791371245641136730, 13843745350161032254, 409691164536297998, 9897222649454792426, 4469836045035160693, 11322593717557867883]}\n"
     ]
    }
   ],
   "source": [
    "print(main(b'\\xc3ULVZ\\x00\\x04\\x00\\x00\\x00\\x8b\\x94\\xd5\\x1eK\\xd2\\\\\\x1eX\\xf3q(\\x7fQ'\n",
    " b'aF\\xbf\\xc0q\\xef\\x9e\\xa0M\\xa0Y\\xbb\\xbff\\xb9h\\xa4h\\x00\\x00\\x00\\x8f\\xbf\\xea'\n",
    " b'$\\xf9r\\x94\\xb1\\x14-%\\x1c\\x8d?\\x1f\\xb5\\x8fc*\\x00\\x00\\x00\\x02\\x00\\x93?t'\n",
    " b'\\xac;\\x17?\\x12\\x1b\\xe8\\xbd\\xe7\\x88\\xe2\\x9f\\xd9\\xaa\\xeb\\x00\\xe7\\xf1\\xcf\\xbf'\n",
    " b'd\\xcb\\x13\\xfd\\xf9\\xfaZ\\xc0\\x1e\\xdd\\x0cuPd>\\x05\\xaf\\x83\\xf1\\x89\\xcdZ\\x0e\\x89'\n",
    " b'Y\\xff\\x8f\\xdb\\xb4\\x0e\\xea>\\x08\\x0c3d\\x8e\\xc4u\\x9d!\\xee\\xff\\x17\\x1b5kupqvL'\n",
    " b'\\xe6\\x08\\x8a\\xbfq[\\x8b?zF\\x15'))"
   ]
  },
  {
   "cell_type": "markdown",
   "id": "f6f1c4f8",
   "metadata": {},
   "source": [
    "<h3 align=\"center\">Задание 11 (вариант 6, ИНБО-01-20).</h3>\n",
    "\n",
    "![_IMAGE_NOT_FOUND_](./images/11_6.jpg)"
   ]
  },
  {
   "cell_type": "code",
   "execution_count": 53,
   "id": "ba2a58ce",
   "metadata": {},
   "outputs": [],
   "source": [
    "import struct\n",
    "\n",
    "\n",
    "def uint32uint16e(x, start):\n",
    "    size = struct.unpack(\"> I\", x[start: start + 4])[0]\n",
    "    add = struct.unpack(\"> H\", x[start + 4: start + 6])[0]\n",
    "    a = []\n",
    "    for i in range(size):\n",
    "        a.append(E(x, add + i * 11))\n",
    "    return a\n",
    "\n",
    "\n",
    "def uint16uint16char(x, start):\n",
    "    size = struct.unpack(\"> H\", x[start: start + 2])[0]\n",
    "    add = struct.unpack(\"> H\", x[start + 2: start + 4])[0]\n",
    "    return str(x[add: add + size])[2:-1]\n",
    "\n",
    "\n",
    "def E(x, start):\n",
    "    return {\n",
    "        'E1': [struct.unpack(\"> B\", x[start:start + 1])[0],\n",
    "               struct.unpack(\"> B\", x[start + 1:start + 2])[0]],\n",
    "        'E2': struct.unpack(\"> q\", x[start + 2:start + 10])[0],\n",
    "        'E3': struct.unpack(\"> b\", x[start + 10:start + 11])[0]\n",
    "    }\n",
    "\n",
    "\n",
    "def D(x, start):\n",
    "    return {\n",
    "        'D1': struct.unpack(\"> B\", x[start:start + 1])[0],\n",
    "        'D2': [struct.unpack(\"> i\", x[start + 1:start + 5])[0],\n",
    "               struct.unpack(\"> i\", x[start + 5:start + 9])[0],\n",
    "               struct.unpack(\"> i\", x[start + 9:start + 13])[0]]\n",
    "    }\n",
    "\n",
    "\n",
    "def C(x, start):\n",
    "    return {\n",
    "        'C1': uint16uint16char(x, start),\n",
    "        'C2': struct.unpack(\"> d\", x[start + 4:start + 12])[0]\n",
    "    }\n",
    "\n",
    "\n",
    "def B(x, start):\n",
    "    return {\n",
    "        'B1': C(x, start),\n",
    "        'B2': D(x, start + 12),\n",
    "        'B3': struct.unpack(\"> d\", x[start + 25:start + 33])[0]\n",
    "    }\n",
    "\n",
    "\n",
    "def A(x, start):\n",
    "    return {\n",
    "        'A1': struct.unpack(\"> i\", x[start:start + 4])[0],\n",
    "        'A2': B(x, start + 4),\n",
    "        'A3': uint32uint16e(x, start + 37),\n",
    "        'A4': struct.unpack(\"> B\", x[start + 43:start + 44])[0]\n",
    "    }\n",
    "\n",
    "\n",
    "def main(x):\n",
    "    return A(x, 4)\n"
   ]
  },
  {
   "cell_type": "code",
   "execution_count": 54,
   "id": "a7d72f52",
   "metadata": {},
   "outputs": [
    {
     "name": "stdout",
     "output_type": "stream",
     "text": [
      "{'A1': -1744808958, 'A2': {'B1': {'C1': 'ed', 'C2': 0.2661011337970516}, 'B2': {'D1': 149, 'D2': [-1555762021, -707199869, 2138963633]}, 'B3': 0.8921438415434293}, 'A3': [{'E1': [64, 20], 'E2': -8326133113759713539, 'E3': 113}, {'E1': [124, 175], 'E2': -4145848148097135325, 'E3': 91}], 'A4': 150}\n"
     ]
    }
   ],
   "source": [
    "print(main(b'OIKU\\x98\\x00T\\x02\\x00\\x02\\x000?\\xd1\\x07\\xcd\\x0c\\xc5\\x8f\\x10\\x95\\xa3D\\xf4\\x9b\\xd5\\xd8\\xfc\\x83\\x7f}\\xfe\\xb1?\\xec\\x8cq=\\xd87\\xfe\\x00\\x00\\x00\\x02\\x002\\x96ed@\\x14\\x8cs\\xa2\\x0b\\xf9\\xbc6\\xfdq|\\xaf\\xc6v\\xfd\\x13/\\xf5\\x8d#['))"
   ]
  },
  {
   "cell_type": "markdown",
   "id": "c1958d8c",
   "metadata": {},
   "source": [
    "<h3 align=\"center\">Задание 11 (вариант 7, ИНБО-01-20).</h3>\n",
    "\n",
    "![_IMAGE_NOT_FOUND_](./images/11_7.jpg)"
   ]
  },
  {
   "cell_type": "code",
   "execution_count": 55,
   "id": "f8665fba",
   "metadata": {},
   "outputs": [],
   "source": [
    "import struct\n",
    "\n",
    "\n",
    "def uint32uint16float(x, start):\n",
    "    size = struct.unpack(\"> I\", x[start: start + 4])[0]\n",
    "    add = struct.unpack(\"> H\", x[start + 4: start + 6])[0]\n",
    "    a = struct.unpack(\"> \" + \"f\" * size, x[add: add + 4 * size])\n",
    "    return list(a)\n",
    "\n",
    "\n",
    "def D(x, start):\n",
    "    return {\n",
    "        'D1': struct.unpack(\"> q\", x[start:start + 8])[0],\n",
    "        'D2': struct.unpack(\"> b\", x[start + 8:start + 9])[0],\n",
    "        'D3': struct.unpack(\"> q\", x[start + 9:start + 17])[0]\n",
    "    }\n",
    "\n",
    "\n",
    "def C(x, start):\n",
    "    return {\n",
    "        'C1': [D(x, start), D(x, start + 17)],\n",
    "        'C2': struct.unpack(\"> h\", x[start + 34:start + 36])[0],\n",
    "        'C3': struct.unpack(\"> i\", x[start + 36:start + 40])[0]\n",
    "    }\n",
    "\n",
    "\n",
    "def addressB(x, start):\n",
    "    return struct.unpack(\"> H\", x[start:start+2])[0]\n",
    "\n",
    "\n",
    "def addressC(x, start):\n",
    "    return struct.unpack(\"> H\", x[start:start+2])[0]\n",
    "\n",
    "\n",
    "def B(x, start):\n",
    "    return {\n",
    "        'B1': struct.unpack(\"> d\", x[start:start + 8])[0],\n",
    "        'B2': struct.unpack(\"> d\", x[start + 8:start + 16])[0],\n",
    "        'B3': struct.unpack(\"> Q\", x[start + 16:start + 24])[0],\n",
    "        'B4': uint32uint16float(x, start + 24)\n",
    "    }\n",
    "\n",
    "\n",
    "def A(x, start):\n",
    "    return {\n",
    "        'A1': struct.unpack(\"> d\", x[start:start + 8])[0],\n",
    "        'A2': B(x, addressB(x, start + 8)),\n",
    "        'A3': struct.unpack(\"> d\", x[start + 10:start + 18])[0],\n",
    "        'A4': C(x, addressC(x, start + 18)),\n",
    "        'A5': str(x[start + 20:start + 28])[2:-1],\n",
    "        'A6': struct.unpack(\"> I\", x[start + 28:start + 32])[0],\n",
    "        'A7': [struct.unpack(\"> f\", x[start + 32:start + 36])[0],\n",
    "               struct.unpack(\"> f\", x[start + 36:start + 40])[0],\n",
    "               struct.unpack(\"> f\", x[start + 40:start + 44])[0],\n",
    "               struct.unpack(\"> f\", x[start + 44:start + 48])[0],\n",
    "               struct.unpack(\"> f\", x[start + 48:start + 52])[0],\n",
    "               struct.unpack(\"> f\", x[start + 52:start + 56])[0],\n",
    "               struct.unpack(\"> f\", x[start + 56:start + 60])[0]]\n",
    "    }\n",
    "\n",
    "\n",
    "def main(x):\n",
    "    return A(x, 4)\n"
   ]
  },
  {
   "cell_type": "code",
   "execution_count": 56,
   "id": "6e92220a",
   "metadata": {},
   "outputs": [
    {
     "name": "stdout",
     "output_type": "stream",
     "text": [
      "{'A1': -0.7353645544004297, 'A2': {'B1': -0.9005753193852273, 'B2': 0.7508991484801102, 'B3': 9287450899639517312, 'B4': [0.04464483633637428, -0.5089592933654785, 0.663435161113739]}, 'A3': -0.2788988858316346, 'A4': {'C1': [{'D1': -7788083081938383056, 'D2': -95, 'D3': -4409556809911264985}, {'D1': 8444140298481897961, 'D2': 121, 'D3': 6823000438159432330}], 'C2': -2000, 'C3': 2034479444}, 'A5': 'xklblfaf', 'A6': 1498977463, 'A7': [0.3094348609447479, 0.828913688659668, 0.24674810469150543, -0.9906226992607117, 0.7241647839546204, 0.6614691019058228, -0.15874552726745605]}\n"
     ]
    }
   ],
   "source": [
    "print(main(b'SKZ\\x1e\\xbf\\xe7\\x88\\x1b>\\xf92\\xdc\\x00L\\xbf\\xd1\\xd9z\\xb6bi\\xd0\\x00jxklblfaf'\n",
    " b'YX\\x94\\xb7>\\x9en??T3\\xb0>|\\xab\\x89\\xbf}\\x99s?9b\\xdd?)V\\n\\xbe\"\\x8e0=6\\xdd\\x81'\n",
    " b'\\xbf\\x02K(?)\\xd6\\xe3\\xbf\\xec\\xd1\\x83U\\x0b\\x04\\x8e?\\xe8\\x07]\\xa6\\xaa\\x1fN'\n",
    " b'\\x80\\xe3\\xa7b\\xdd\\xe5@\\x80\\x00\\x00\\x00\\x03\\x00@\\x93\\xeb+\\xb33\\xd5O0\\xa1\\xc2'\n",
    " b\"\\xce\\x1bq\\xb8U\\x99'u/\\x9c\\xdc\\xcc\\x93\\x11\\xe9y^\\xb0*\\xbf\\xaa\\xd3\\xda\\x8a\"\n",
    " b'\\xf80yC\\xb1T'))"
   ]
  },
  {
   "cell_type": "markdown",
   "id": "64a7575d",
   "metadata": {},
   "source": [
    "<h3 align=\"center\">Задание 11 (вариант 12, ИНБО-01-20).</h3>\n",
    "\n",
    "![_IMAGE_NOT_FOUND_](./images/11_12.jpg)"
   ]
  },
  {
   "cell_type": "code",
   "execution_count": 57,
   "id": "6ca4a90e",
   "metadata": {},
   "outputs": [],
   "source": [
    "import struct\n",
    "\n",
    "\n",
    "def d_struct(x, pos):\n",
    "    return {\n",
    "        'D1': struct.unpack(\"> d\", x[pos:pos + 8])[0],\n",
    "        'D2': struct.unpack(\"> h\", x[pos + 8:pos + 10])[0]\n",
    "    }\n",
    "\n",
    "\n",
    "def c_struct(x, pos):\n",
    "    return {\n",
    "        'C1': struct.unpack(\"> d\", x[pos:pos + 8])[0],\n",
    "        'C2': str(x[pos + 8:pos + 13])[2:-1],\n",
    "        'C3': struct.unpack(\"> Q\", x[pos + 13:pos + 21])[0]\n",
    "    }\n",
    "\n",
    "\n",
    "def uint32uint32char(x, start):\n",
    "    size = struct.unpack(\"> I\", x[start: start + 4])[0]\n",
    "    add = struct.unpack(\"> I\", x[start + 4: start + 8])[0]\n",
    "    return str(x[add: add + size])[2:-1]\n",
    "\n",
    "\n",
    "def b_struct(x, pos):\n",
    "    return {\n",
    "        'B1': struct.unpack(\"> b\", x[pos:pos + 1])[0],\n",
    "        'B2': c_struct(x, pos + 1),\n",
    "        'B3': struct.unpack(\"> q\", x[pos + 22:pos + 30])[0],\n",
    "        'B4': struct.unpack(\"> d\", x[pos + 30:pos + 38])[0],\n",
    "        'B5': uint32uint32char(x, pos + 38),\n",
    "        'B6': struct.unpack(\"> i\", x[pos + 46:pos + 50])[0]\n",
    "    }\n",
    "\n",
    "\n",
    "def uint32uint32address_b_d_uint16(x, pos):\n",
    "    size = struct.unpack(\"> I\", x[pos: pos + 4])[0]\n",
    "    add = struct.unpack(\"> I\", x[pos + 4: pos + 8])[0]\n",
    "    a = []\n",
    "    for i in range(size):\n",
    "        a.append(d_struct(x, address_b_d_uint16(x, add + i * 2)))\n",
    "    return a\n",
    "\n",
    "\n",
    "def address_b_d_uint16(x, pos):\n",
    "    return struct.unpack(\"> H\", x[pos:pos + 2])[0]\n",
    "\n",
    "\n",
    "def a_struct(x, pos):\n",
    "    return {\n",
    "        'A1': b_struct(x, address_b_d_uint16(x, pos)),\n",
    "        'A2': uint32uint32address_b_d_uint16(x, pos + 2),\n",
    "        'A3': struct.unpack(\"> h\", x[pos + 10:pos + 12])[0],\n",
    "        'A4': [struct.unpack(\"> q\", x[pos + 12:pos + 20])[0],\n",
    "               struct.unpack(\"> q\", x[pos + 20:pos + 28])[0],\n",
    "               struct.unpack(\"> q\", x[pos + 28:pos + 36])[0],\n",
    "               struct.unpack(\"> q\", x[pos + 36:pos + 44])[0],\n",
    "               struct.unpack(\"> q\", x[pos + 44:pos + 52])[0]],\n",
    "        'A5': struct.unpack(\"> b\", x[pos + 52:pos + 53])[0]\n",
    "    }\n",
    "\n",
    "\n",
    "def main(x):\n",
    "    return a_struct(x, 5)\n"
   ]
  },
  {
   "cell_type": "code",
   "execution_count": 58,
   "id": "2413378d",
   "metadata": {},
   "outputs": [
    {
     "name": "stdout",
     "output_type": "stream",
     "text": [
      "{'A1': {'B1': 36, 'B2': {'C1': -0.6741001702760765, 'C2': 'nxodi', 'C3': 11886020198557671148}, 'B3': 4741822306696053409, 'B4': -0.017837746634474794, 'B5': 'cnz', 'B6': 1260125085}, 'A2': [{'D1': -0.017290690526989616, 'D2': -19506}, {'D1': 0.4780315433109694, 'D2': 6538}, {'D1': -0.7678044063022997, 'D2': -9030}, {'D1': -0.9464231670248808, 'D2': 18215}], 'A3': -26709, 'A4': [-8090605299914576740, 4605806186904387493, 1407994798730567310, -4316222669252211599, 7568448995359265260], 'A5': 57}\n"
     ]
    }
   ],
   "source": [
    "print(main(b\"WZVM\\xb9\\x00=\\x00\\x00\\x00\\x04\\x00\\x00\\x00\\x97\\x97\\xab\\x8f\\xb8eXx\\xb2\\xec\\x9c?\\xeb\\x1cS\\n\\xbb\\x7f\\xa5\\x13\\x8a3\\xcf?\\xee\\xde\\x8e\\xc4\\x19\\xb2Y\\xc3\\xbb\\xccqi\\x08\\x88C\\r\\r\\x11\\xec9cnz$\\xbf\\xe5\\x92:\\x852\\n|nxodi\\xa4\\xf3\\xa0eP%\\xde\\xecA\\xceVC\\xc2\\xa4B\\xa1\\xbf\\x92D\\x0e\\xe9\\xb7\\xb5\\x80\\x00\\x00\\x00\\x03\\x00\\x00\\x00:K\\x1b\\xfb\\x9d\\xbf\\x91\\xb4\\xa6\\x99Z\\xce@\\xb3\\xce?\\xde\\x98\\x11\\x9d>\\x87\\x84\\x19\\x8a\\xbf\\xe8\\x91\\xda\\x8b\\xd9`\\xdc\\xdc\\xba\\xbf\\xeeI\\x19<\\xd1\\x8e4G'\\x00o\\x00y\\x00\\x83\\x00\\x8d\"))"
   ]
  },
  {
   "cell_type": "markdown",
   "id": "866e2d12",
   "metadata": {},
   "source": [
    "<h3 align=\"center\">Задание 11 (вариант 13, ИНБО-01-20).</h3>\n",
    "\n",
    "![_IMAGE_NOT_FOUND_](./images/11_13.jpg)"
   ]
  },
  {
   "cell_type": "code",
   "execution_count": 59,
   "id": "07bd2691",
   "metadata": {},
   "outputs": [],
   "source": [
    "import struct\n",
    "\n",
    "\n",
    "def uint16uint16c(x, start):\n",
    "    size = struct.unpack(\"> H\", x[start:start + 2])[0]\n",
    "    add = struct.unpack(\"> H\", x[start + 2:start + 4])[0]\n",
    "    a = []\n",
    "    for i in range(size):\n",
    "        a.append(C(x, add + i * 8))\n",
    "    return a\n",
    "\n",
    "\n",
    "def D(x, start):\n",
    "    return {\n",
    "        'D1': struct.unpack(\"> f\", x[start:start + 4])[0],\n",
    "        'D2': struct.unpack(\"> f\", x[start + 4:start + 8])[0],\n",
    "        'D3': [struct.unpack(\"> b\", x[start + 8:start + 9])[0],\n",
    "               struct.unpack(\"> b\", x[start + 9:start + 10])[0],\n",
    "               struct.unpack(\"> b\", x[start + 10:start + 11])[0],\n",
    "               struct.unpack(\"> b\", x[start + 11:start + 12])[0],\n",
    "               struct.unpack(\"> b\", x[start + 12:start + 13])[0],\n",
    "               struct.unpack(\"> b\", x[start + 13:start + 14])[0],\n",
    "               struct.unpack(\"> b\", x[start + 14:start + 15])[0]],\n",
    "        'D4': struct.unpack(\"> B\", x[start + 15:start + 16])[0],\n",
    "        'D5': [struct.unpack(\"> d\", x[start + 16:start + 24])[0],\n",
    "               struct.unpack(\"> d\", x[start + 24:start + 32])[0],\n",
    "               struct.unpack(\"> d\", x[start + 32:start + 40])[0]]\n",
    "    }\n",
    "\n",
    "\n",
    "def C(x, start):\n",
    "    return {\n",
    "        'C1': struct.unpack(\"> f\", x[start:start + 4])[0],\n",
    "        'C2': struct.unpack(\"> I\", x[start + 4:start + 8])[0]\n",
    "    }\n",
    "\n",
    "\n",
    "def B(x, start):\n",
    "    return {\n",
    "        'B1': struct.unpack(\"> f\", x[start:start + 4])[0],\n",
    "        'B2': struct.unpack(\"> H\", x[start + 4:start + 6])[0],\n",
    "        'B3': str(x[start + 6:start + 11])[2:-1],\n",
    "        'B4': struct.unpack(\"> I\", x[start + 11:start + 15])[0],\n",
    "        'B5': struct.unpack(\"> H\", x[start + 15:start + 17])[0]\n",
    "    }\n",
    "\n",
    "\n",
    "def addressB(x, start):\n",
    "    return struct.unpack(\"> I\", x[start:start + 4])[0]\n",
    "\n",
    "\n",
    "def A(x, start):\n",
    "    return {\n",
    "        'A1': struct.unpack(\"> Q\", x[start:start + 8])[0],\n",
    "        'A2': B(x, addressB(x, start + 8)),\n",
    "        'A3': uint16uint16c(x, start + 12),\n",
    "        'A4': struct.unpack(\"> i\", x[start + 16:start + 20])[0],\n",
    "        'A5': D(x, start + 20)\n",
    "    }\n",
    "\n",
    "\n",
    "def main(x):\n",
    "    return A(x, 4)\n"
   ]
  },
  {
   "cell_type": "code",
   "execution_count": 60,
   "id": "bf8fb703",
   "metadata": {},
   "outputs": [
    {
     "name": "stdout",
     "output_type": "stream",
     "text": [
      "{'A1': 7165323454585810343, 'A2': {'B1': 0.4722290337085724, 'B2': 15382, 'B3': 'ljrig', 'B4': 641668621, 'B5': 44559}, 'A3': [{'C1': -0.14079183340072632, 'C2': 1616268633}, {'C1': 0.9468489289283752, 'C2': 1496124921}, {'C1': -0.47166675329208374, 'C2': 1331189267}], 'A4': 2052678271, 'A5': {'D1': -0.7250430583953857, 'D2': -0.9085114598274231, 'D3': [-26, -70, 21, 40, -121, 10, -58], 'D4': 118, 'D5': [-0.6975272244458448, -0.10779912300550887, -0.8534636948436851]}}\n"
     ]
    }
   ],
   "source": [
    "print(main(b' ZQScpW\\xb7\\xeb\\\\\\xad\\xa7\\x00\\x00\\x00@\\x00\\x03\\x00QzYb\\x7f\\xbf9\\x9cl'\n",
    "           b'\\xbfh\\x945\\xe6\\xba\\x15(\\x87\\n\\xc6v\\xbf\\xe6R$\\x9d\"\\x10\\xd6\\xbf\\xbb\\x98\\xb9'\n",
    "           b'+\\xd8\\x9c\\xc0\\xbf\\xebO\\x93\\x185\\xa9\\x96>\\xf1\\xc8\\x01<\\x16ljrig&?\\x16\\r\\xae'\n",
    "           b'\\x0f\\xbe\\x10+\\xbc`VMY?rd\\xb1Y-\\r\\xf9\\xbe\\xf1~NOXV\\x13'))"
   ]
  },
  {
   "cell_type": "markdown",
   "id": "be2236d7",
   "metadata": {},
   "source": [
    "<h3 align=\"center\">Задание 11 (вариант 16, ИНБО-01-20).</h3>\n",
    "\n",
    "![_IMAGE_NOT_FOUND_](./images/11_16.jpg)"
   ]
  },
  {
   "cell_type": "code",
   "execution_count": 61,
   "id": "28601fbf",
   "metadata": {},
   "outputs": [],
   "source": [
    "import struct\n",
    "\n",
    "\n",
    "def uint16uint32float(x, start):\n",
    "    size = struct.unpack(\"> H\", x[start:start + 2])[0]\n",
    "    add = struct.unpack(\"> I\", x[start + 2:start + 6])[0]\n",
    "    a = struct.unpack(\"> \" + \"f\" * size, x[add:add + 4 * size])\n",
    "    return list(a)\n",
    "\n",
    "\n",
    "def uint32uint32int8(x, start):\n",
    "    size = struct.unpack(\"> I\", x[start:start + 4])[0]\n",
    "    add = struct.unpack(\"> I\", x[start + 4:start + 8])[0]\n",
    "    a = struct.unpack(\"> \" + \"b\" * size, x[add:add + size])\n",
    "    return list(a)\n",
    "\n",
    "\n",
    "def d_struct(x, start):\n",
    "    return {\n",
    "        'D1': uint16uint32float(x, start),\n",
    "        'D2': struct.unpack(\"> b\", x[start + 6:start + 7])[0],\n",
    "        'D3': struct.unpack(\"> I\", x[start + 7:start + 11])[0],\n",
    "        'D4': [struct.unpack(\"> H\", x[start + 11:start + 13])[0],\n",
    "               struct.unpack(\"> H\", x[start + 13:start + 15])[0],\n",
    "               struct.unpack(\"> H\", x[start + 15:start + 17])[0],\n",
    "               struct.unpack(\"> H\", x[start + 17:start + 19])[0],\n",
    "               struct.unpack(\"> H\", x[start + 19:start + 21])[0],\n",
    "               struct.unpack(\"> H\", x[start + 21:start + 23])[0]],\n",
    "        'D5': [struct.unpack(\"> d\", x[start + 23:start + 31])[0],\n",
    "               struct.unpack(\"> d\", x[start + 31:start + 39])[0],\n",
    "               struct.unpack(\"> d\", x[start + 39:start + 47])[0]],\n",
    "        'D6': struct.unpack(\"> h\", x[start + 47:start + 49])[0],\n",
    "    }\n",
    "\n",
    "\n",
    "def c_struct(x, start):\n",
    "    return {\n",
    "        'C1': struct.unpack(\"> f\", x[start:start + 4])[0],\n",
    "        'C2': struct.unpack(\"> H\", x[start + 4:start + 6])[0],\n",
    "        'C3': uint32uint32int8(x, start + 6)\n",
    "    }\n",
    "\n",
    "\n",
    "def uint32uint32c(x, start):\n",
    "    size = struct.unpack(\"> I\", x[start:start + 4])[0]\n",
    "    add = struct.unpack(\"> I\", x[start + 4:start + 8])[0]\n",
    "    a = []\n",
    "    for i in range(size):\n",
    "        a.append(c_struct(x, add + i * 14))\n",
    "    return a\n",
    "\n",
    "\n",
    "def b_struct(x, start):\n",
    "    return {\n",
    "        'B1': struct.unpack(\"> f\", x[start:start + 4])[0],\n",
    "        'B2': uint32uint32c(x, start + 4),\n",
    "        'B3': d_struct(x, start + 12),\n",
    "        'B4': struct.unpack(\"> Q\", x[start + 61:start + 69])[0]\n",
    "    }\n",
    "\n",
    "\n",
    "def a_struct(x, start):\n",
    "    return {\n",
    "        'A1': b_struct(x, start),\n",
    "        'A2': struct.unpack(\"> b\", x[start + 69:start + 70])[0],\n",
    "        'A3': struct.unpack(\"> b\", x[start + 70:start + 71])[0]\n",
    "    }\n",
    "\n",
    "\n",
    "def main(x):\n",
    "    return a_struct(x, 4)"
   ]
  },
  {
   "cell_type": "code",
   "execution_count": 62,
   "id": "eba3822c",
   "metadata": {},
   "outputs": [
    {
     "name": "stdout",
     "output_type": "stream",
     "text": [
      "{'A1': {'B1': 0.5373905897140503, 'B2': [{'C1': -0.03742896392941475, 'C2': 5132, 'C3': [10, 53, -23]}, {'C1': 0.6511350274085999, 'C2': 49772, 'C3': [76, -25]}, {'C1': 0.18591801822185516, 'C2': 58545, 'C3': [-48, 54, 7]}, {'C1': 0.8018472194671631, 'C2': 26715, 'C3': [-57, -42]}, {'C1': 0.22445277869701385, 'C2': 61681, 'C3': [112, -12]}], 'B3': {'D1': [-0.506934404373169, -0.8281095623970032, -0.7764850854873657], 'D2': -7, 'D3': 2429066855, 'D4': [5825, 62003, 52301, 40098, 41409, 27717], 'D5': [-0.9973271845135045, -0.8953426274219949, 0.44316841035315746], 'D6': -7377}, 'B4': 18221174017777989993}, 'A2': 62, 'A3': -62}\n"
     ]
    }
   ],
   "source": [
    "print(main((b'ZHWX?\\t\\x92n\\x00\\x00\\x00\\x05\\x00\\x00\\x00W\\x00\\x03\\x00\\x00\\x00\\x9d\\xf9\\x90'\n",
    " b'\\xc8\\x9eg\\x16\\xc1\\xf23\\xccM\\x9c\\xa2\\xa1\\xc1lE\\xbf\\xef\\xea\\x1a\\xb3'\n",
    " b'\\x1c\\xb6Z\\xbf\\xec\\xa6\\xa5\\x94\\xef\\xbf\\xf2?\\xdc\\\\\\xdf\\tE\\x93\\\\\\xe3'\n",
    " b'/\\xfc\\xde\\x9d:\\xb0;\\xf9i>\\xc2\\n5\\xe9L\\xe7\\xd06\\x07\\xc7\\xd6p\\xf4\\xbd'\n",
    " b'\\x19O\\x1d\\x14\\x0c\\x00\\x00\\x00\\x03\\x00\\x00\\x00K?&\\xb0\\xc9\\xc2l\\x00'\n",
    " b'\\x00\\x00\\x02\\x00\\x00\\x00N>>aK\\xe4\\xb1\\x00\\x00\\x00\\x03\\x00\\x00\\x00P?ME'\n",
    " b'\\xdch[\\x00\\x00\\x00\\x02\\x00\\x00\\x00S>e\\xd6\\xf3\\xf0\\xf1\\x00\\x00\\x00'\n",
    " b'\\x02\\x00\\x00\\x00U\\xbf\\x01\\xc6t\\xbfS\\xfe\\xfd\\xbfF\\xc7\\xba')))"
   ]
  },
  {
   "cell_type": "markdown",
   "id": "a0df56ec",
   "metadata": {},
   "source": [
    "<h3 align=\"center\">Задание 11 (вариант 17, ИНБО-01-20).</h3>\n",
    "\n",
    "![_IMAGE_NOT_FOUND_](./images/11_17.jpg)"
   ]
  },
  {
   "cell_type": "code",
   "execution_count": 63,
   "id": "31ba4307",
   "metadata": {},
   "outputs": [],
   "source": [
    "import struct\n",
    "\n",
    "\n",
    "def d_struct(x, pos):\n",
    "    return {\n",
    "        'D1': struct.unpack(\"< b\", x[pos:pos + 1])[0],\n",
    "        'D2': struct.unpack(\"< i\", x[pos + 1:pos + 5])[0],\n",
    "        'D3': [struct.unpack(\"< B\", x[pos + 5:pos + 6])[0],\n",
    "               struct.unpack(\"< B\", x[pos + 6:pos + 7])[0],\n",
    "               struct.unpack(\"< B\", x[pos + 7:pos + 8])[0],\n",
    "               struct.unpack(\"< B\", x[pos + 8:pos + 9])[0],\n",
    "               struct.unpack(\"< B\", x[pos + 9:pos + 10])[0],\n",
    "               struct.unpack(\"< B\", x[pos + 10:pos + 11])[0]]\n",
    "    }\n",
    "\n",
    "\n",
    "def c_struct(x, pos):\n",
    "    return {\n",
    "        'C1': [struct.unpack(\"< B\", x[pos:pos + 1])[0],\n",
    "               struct.unpack(\"< B\", x[pos + 1:pos + 2])[0],\n",
    "               struct.unpack(\"< B\", x[pos + 2:pos + 3])[0],\n",
    "               struct.unpack(\"< B\", x[pos + 3:pos + 4])[0],\n",
    "               struct.unpack(\"< B\", x[pos + 4:pos + 5])[0]],\n",
    "        'C2': struct.unpack(\"< q\", x[pos + 5:pos + 13])[0],\n",
    "        'C3': struct.unpack(\"< B\", x[pos + 13:pos + 14])[0]\n",
    "    }\n",
    "\n",
    "\n",
    "def uint32uint32uint32(x, start):\n",
    "    size = struct.unpack(\"< I\", x[start: start + 4])[0]\n",
    "    add = struct.unpack(\"< I\", x[start + 4: start + 8])[0]\n",
    "    a = struct.unpack(\"< \" + \"I\" * size, x[add:add + 4 * size])\n",
    "    return list(a)\n",
    "\n",
    "\n",
    "def b_struct(x, pos):\n",
    "    return {\n",
    "        'B1': struct.unpack(\"< H\", x[pos:pos + 2])[0],\n",
    "        'B2': struct.unpack(\"< b\", x[pos + 2:pos + 3])[0],\n",
    "        'B3': struct.unpack(\"< f\", x[pos + 3:pos + 7])[0],\n",
    "        'B4': struct.unpack(\"< I\", x[pos + 7:pos + 11])[0]\n",
    "    }\n",
    "\n",
    "\n",
    "def address_b_uint16(x, pos):\n",
    "    return struct.unpack(\"< H\", x[pos:pos + 2])[0]\n",
    "\n",
    "\n",
    "def a_struct(x, pos):\n",
    "    return {\n",
    "        'A1': struct.unpack(\"< b\", x[pos:pos + 1])[0],\n",
    "        'A2': uint32uint32uint32(x, pos + 1),\n",
    "        'A3': str(x[pos + 9:pos + 13])[2:-1],\n",
    "        'A4': b_struct(x, address_b_uint16(x, pos + 13)),\n",
    "        'A5': [c_struct(x, pos + 15),\n",
    "               c_struct(x, pos + 29),\n",
    "               c_struct(x, pos + 43),\n",
    "               c_struct(x, pos + 57),\n",
    "               c_struct(x, pos + 71),\n",
    "               c_struct(x, pos + 85),\n",
    "               c_struct(x, pos + 99)],\n",
    "        'A6': d_struct(x, pos + 113)\n",
    "    }\n",
    "\n",
    "\n",
    "def main(x):\n",
    "    return a_struct(x, 4)\n"
   ]
  },
  {
   "cell_type": "code",
   "execution_count": 64,
   "id": "46f2884a",
   "metadata": {},
   "outputs": [
    {
     "name": "stdout",
     "output_type": "stream",
     "text": [
      "{'A1': 25, 'A2': [1218442472, 1591637603], 'A3': 'tfvf', 'A4': {'B1': 48171, 'B2': 121, 'B3': 0.7643206715583801, 'B4': 2618311126}, 'A5': [{'C1': [114, 0, 61, 139, 141], 'C2': -9159792712082912042, 'C3': 245}, {'C1': [15, 128, 131, 206, 231], 'C2': 5201165118939178503, 'C3': 72}, {'C1': [116, 50, 87, 144, 125], 'C2': -736688419610706719, 'C3': 34}, {'C1': [186, 232, 99, 43, 137], 'C2': -1849140169761947875, 'C3': 52}, {'C1': [129, 209, 192, 127, 198], 'C2': -3966952549772448266, 'C3': 51}, {'C1': [122, 36, 67, 57, 33], 'C2': -7479326358450152597, 'C3': 68}, {'C1': [121, 8, 45, 19, 64], 'C2': 2345685278120730966, 'C3': 167}], 'A6': {'D1': -44, 'D2': -1397352980, 'D3': [120, 187, 201, 155, 39, 89]}}\n"
     ]
    }
   ],
   "source": [
    "print(main(b'EGB\\xb8\\x19\\x02\\x00\\x00\\x00\\x80\\x00\\x00\\x00tfvf\\x88\\x00r\\x00=\\x8b\\x8d'\n",
    " b'\\xd6\\x0c\\x16\\x1c\\x0f\\xe1\\xe1\\x80\\xf5\\x0f\\x80\\x83\\xce\\xe7\\x07\\xa6\\x85d\\x1e@'\n",
    " b'.HHt2W\\x90}\\xe1\\xbc\\xf5\\x16\\xc9\\xc1\\xc6\\xf5\"\\xba\\xe8c+\\x89\\x1d\\xff'\n",
    " b'n\\x11\\xd0\\x88V\\xe64\\x81\\xd1\\xc0\\x7f\\xc6\\xf6\\xad\\xfb}\\xac\\x8d\\xf2\\xc83z$C'\n",
    " b'9!k\\xdb\\\\\\xddM\\x184\\x98Dy\\x08-\\x13@V\\xe1?\\x1dU\\x8c\\x8d \\xa7\\xd4\\xec\\x15'\n",
    " b\"\\xb6\\xacx\\xbb\\xc9\\x9b'Y\\xe8\\xf4\\x9fHcv\\xde^+\\xbcy\\x85\\xaaC?\\xd6A\\x10\\x9c\"))"
   ]
  },
  {
   "cell_type": "markdown",
   "id": "abfe0f92",
   "metadata": {},
   "source": [
    "<h3 align=\"center\">Задание 11 (вариант 26, ИНБО-01-20).</h3>\n",
    "\n",
    "![_IMAGE_NOT_FOUND_](./images/11_26.jpg)"
   ]
  },
  {
   "cell_type": "code",
   "execution_count": 65,
   "id": "56e1f40c",
   "metadata": {},
   "outputs": [],
   "source": [
    "import struct\n",
    "\n",
    "\n",
    "def uint32uint16uint32(x, start):\n",
    "    size = struct.unpack(\"> I\", x[start: start + 4])[0]\n",
    "    add = struct.unpack(\"> H\", x[start + 4: start + 6])[0]\n",
    "    a = struct.unpack(\"> \" + \"I\" * size, x[add: add + 4 * size])\n",
    "    return list(a)\n",
    "\n",
    "\n",
    "def uint16uint32uint32(x, start):\n",
    "    size = struct.unpack(\"> H\", x[start: start + 2])[0]\n",
    "    add = struct.unpack(\"> I\", x[start + 2: start + 6])[0]\n",
    "    a = struct.unpack(\"> \" + \"I\" * size, x[add: add + 4 * size])\n",
    "    return list(a)\n",
    "\n",
    "\n",
    "def D(x, start):\n",
    "    return {\n",
    "        'D1': struct.unpack(\"> Q\", x[start:start + 8])[0],\n",
    "        'D2': uint32uint16uint32(x, start + 8),\n",
    "        'D3': struct.unpack(\"> d\", x[start + 14:start + 22])[0],\n",
    "        'D4': struct.unpack(\"> H\", x[start + 22:start + 24])[0],\n",
    "        'D5': struct.unpack(\"> I\", x[start + 24:start + 28])[0],\n",
    "        'D6': struct.unpack(\"> b\", x[start + 28:start + 29])[0],\n",
    "    }\n",
    "\n",
    "\n",
    "def C(x, start):\n",
    "    return {\n",
    "        'C1': [D(x, start), D(x, start + 29)],\n",
    "        'C2': uint16uint32uint32(x, start + 58),\n",
    "        'C3': struct.unpack(\"> q\", x[start + 64:start + 72])[0]\n",
    "    }\n",
    "\n",
    "\n",
    "def addressC(x, start):\n",
    "    return struct.unpack(\"> I\", x[start:start+4])[0]\n",
    "\n",
    "\n",
    "def B(x, start):\n",
    "    return {\n",
    "        'B1': C(x, addressC(x, start)),\n",
    "        'B2': struct.unpack(\"> b\", x[start + 4:start + 5])[0],\n",
    "        'B3': struct.unpack(\"> I\", x[start + 5:start + 9])[0],\n",
    "        'B4': struct.unpack(\"> d\", x[start + 9:start + 17])[0],\n",
    "        'B5': [struct.unpack(\"> H\", x[start + 17:start + 19])[0],\n",
    "               struct.unpack(\"> H\", x[start + 19:start + 21])[0],\n",
    "               struct.unpack(\"> H\", x[start + 21:start + 23])[0],\n",
    "               struct.unpack(\"> H\", x[start + 23:start + 25])[0]],\n",
    "        'B6': struct.unpack(\"> d\", x[start + 25:start + 33])[0]\n",
    "    }\n",
    "\n",
    "\n",
    "def A(x, start):\n",
    "    return {\n",
    "        'A1': B(x, start),\n",
    "        'A2': struct.unpack(\"> H\", x[start + 33:start + 35])[0],\n",
    "        'A3': struct.unpack(\"> I\", x[start + 35:start + 39])[0],\n",
    "        'A4': struct.unpack(\"> H\", x[start + 39:start + 41])[0],\n",
    "    }\n",
    "\n",
    "\n",
    "def main(x):\n",
    "    return A(x, 5)\n"
   ]
  },
  {
   "cell_type": "code",
   "execution_count": 66,
   "id": "f621b87e",
   "metadata": {},
   "outputs": [
    {
     "name": "stdout",
     "output_type": "stream",
     "text": [
      "{'A1': {'B1': {'C1': [{'D1': 13863853154724240449, 'D2': [2080304007, 4178325182, 1194098137, 3153328883, 3885108577], 'D3': 0.31352651510376495, 'D4': 37076, 'D5': 761885465, 'D6': -123}, {'D1': 7732177816324070977, 'D2': [2924179799, 2689807822, 258983547, 1468099150], 'D3': 0.19333895360444142, 'D4': 35198, 'D5': 278445354, 'D6': 35}], 'C2': [3796894214, 2640333581, 3505873941], 'C3': 8379811748641707192}, 'B2': 99, 'B3': 2575445670, 'B4': 0.21996768567216574, 'B5': [45175, 30652, 15452, 48596], 'B6': 0.7808629321949319}, 'A2': 62417, 'A3': 1221049856, 'A4': 10275}\n"
     ]
    }
   ],
   "source": [
    "print(main(b\"\\xcbNMEY\\x00\\x00\\x00^c\\x99\\x82.\\xa6?\\xcc'\\xe6\\xb0\\x11\\xc2\\xe0\\xb0ww\\xbc<\\\\\"\n",
    " b'\\xbd\\xd4?\\xe8\\xfc\\xd4B\\x8d\\xf2\\xe0\\xf3\\xd1H\\xc7\\xbe\\x00(#{\\xfe'\n",
    " b'\\xeb\\x87\\xf9\\x0c.\\xbeG,}\\xd9\\xbb\\xf3\\xfa\\xf3\\xe7\\x92\\ra\\xaeKqW\\xa0S'\n",
    " b'5\\xce\\x0fo\\xc6{W\\x81jN\\xe2P\\x02\\x06\\x9d`K\\r\\xd0\\xf7d\\x15\\xc0fL\\xfd\\x89\\x84'\n",
    " b'\\\\A\\x00\\x00\\x00\\x05\\x00.?\\xd4\\x10\\xd1\\x843+X\\x90\\xd4-is\\x19\\x85kN6\\xc1\\xd2'\n",
    " b'&\\xdeA\\x00\\x00\\x00\\x04\\x00B?\\xc8\\xbfT\\xb1c\\x10`\\x89~\\x10\\x98\\xbd*#'\n",
    " b'\\x00\\x03\\x00\\x00\\x00RtK\\x12c\"o\\x14\\xb8'))"
   ]
  },
  {
   "cell_type": "markdown",
   "id": "936a2a9f",
   "metadata": {},
   "source": [
    "<h3 align=\"center\">Задание 11 (вариант 27, ИНБО-01-20).</h3>\n",
    "\n",
    "![_IMAGE_NOT_FOUND_](./images/11_27.jpg)"
   ]
  },
  {
   "cell_type": "code",
   "execution_count": 67,
   "id": "5439e8d5",
   "metadata": {},
   "outputs": [],
   "source": [
    "import struct\n",
    "\n",
    "\n",
    "def E(x, start):\n",
    "    return {\n",
    "        'E1': struct.unpack(\"> H\", x[start:start + 2])[0],\n",
    "        'E2': struct.unpack(\"> H\", x[start + 2:start + 4])[0],\n",
    "        'E3': [struct.unpack(\"> q\", x[start + 4:start + 12])[0],\n",
    "               struct.unpack(\"> q\", x[start + 12:start + 20])[0]],\n",
    "        'E4': struct.unpack(\"> H\", x[start + 20:start + 22])[0],\n",
    "        'E5': struct.unpack(\"> I\", x[start + 22:start + 26])[0],\n",
    "        'E6': struct.unpack(\"> H\", x[start + 26:start + 28])[0],\n",
    "        'E7': struct.unpack(\"> I\", x[start + 28:start + 32])[0]\n",
    "    }\n",
    "\n",
    "\n",
    "def D(x, start):\n",
    "    return {\n",
    "        'D1': [struct.unpack(\"> B\", x[start:start + 1])[0],\n",
    "               struct.unpack(\"> B\", x[start + 1:start + 2])[0],\n",
    "               struct.unpack(\"> B\", x[start + 2:start + 3])[0],\n",
    "               struct.unpack(\"> B\", x[start + 3:start + 4])[0]],\n",
    "        'D2': struct.unpack(\"> f\", x[start + 4:start + 8])[0],\n",
    "        'D3': struct.unpack(\"> i\", x[start + 8:start + 12])[0]\n",
    "    }\n",
    "\n",
    "\n",
    "def addressD(x, start):\n",
    "    return struct.unpack(\"> I\", x[start:start + 4])[0]\n",
    "\n",
    "\n",
    "def C(x, start):\n",
    "    return {\n",
    "        'C1': str(x[start: start + 2])[2:-1],\n",
    "        'C2': struct.unpack(\"> d\", x[start + 2:start + 10])[0],\n",
    "        'C3': struct.unpack(\"> B\", x[start + 10:start + 11])[0],\n",
    "        'C4': [struct.unpack(\"> b\", x[start + 11:start + 12])[0],\n",
    "               struct.unpack(\"> b\", x[start + 12:start + 13])[0],\n",
    "               struct.unpack(\"> b\", x[start + 13:start + 14])[0]],\n",
    "        'C5': D(x, addressD(x, start + 14)),\n",
    "        'C6': struct.unpack(\"> h\", x[start + 18:start + 20])[0]\n",
    "    }\n",
    "\n",
    "\n",
    "def B(x, start):\n",
    "    return {\n",
    "        'B1': struct.unpack(\"> Q\", x[start:start + 8])[0],\n",
    "        'B2': struct.unpack(\"> B\", x[start + 8:start + 9])[0],\n",
    "        'B3': struct.unpack(\"> b\", x[start + 9:start + 10])[0]\n",
    "    }\n",
    "\n",
    "\n",
    "def addressCE(x, start):\n",
    "    return struct.unpack(\"> H\", x[start:start + 2])[0]\n",
    "\n",
    "\n",
    "def A(x, start):\n",
    "    return {\n",
    "        'A1': struct.unpack(\"> B\", x[start:start + 1])[0],\n",
    "        'A2': [B(x, start + 1), B(x, start + 11),\n",
    "               B(x, start + 21), B(x, start + 31),\n",
    "               B(x, start + 41), B(x, start + 51)],\n",
    "        'A3': C(x, addressCE(x, start + 61)),\n",
    "        'A4': E(x, addressCE(x, start + 63)),\n",
    "        'A5': struct.unpack(\"> d\", x[start + 65:start + 73])[0],\n",
    "        'A6': struct.unpack(\"> h\", x[start + 73:start + 75])[0],\n",
    "        'A7': struct.unpack(\"> q\", x[start + 75:start + 83])[0],\n",
    "        'A8': struct.unpack(\"> H\", x[start + 83:start + 85])[0]\n",
    "    }\n",
    "\n",
    "\n",
    "def main(x):\n",
    "    return A(x, 4)\n"
   ]
  },
  {
   "cell_type": "code",
   "execution_count": 68,
   "id": "141ea42f",
   "metadata": {},
   "outputs": [
    {
     "name": "stdout",
     "output_type": "stream",
     "text": [
      "{'A1': 155, 'A2': [{'B1': 4556337322775491427, 'B2': 167, 'B3': 93}, {'B1': 13072801322053742207, 'B2': 3, 'B3': 10}, {'B1': 6864463072608383005, 'B2': 117, 'B3': -32}, {'B1': 15904715068948742783, 'B2': 217, 'B3': 72}, {'B1': 9544313923879437727, 'B2': 6, 'B3': 15}, {'B1': 9580595165716180131, 'B2': 48, 'B3': -25}], 'A3': {'C1': 'ag', 'C2': -0.11505423110225155, 'C3': 136, 'C4': [-59, -114, 78], 'C5': {'D1': [49, 89, 59, 106], 'D2': -0.8520896434783936, 'D3': 1270768325}, 'C6': -12339}, 'A4': {'E1': 33931, 'E2': 19027, 'E3': [8129610757552252536, -3823127644916626938], 'E4': 61969, 'E5': 550138930, 'E6': 17149, 'E7': 2942348059}, 'A5': -0.25075363937266704, 'A6': -14313, 'A7': 2508347500168016514, 'A8': 56933}\n"
     ]
    }
   ],
   "source": [
    "print(main(b'AHD\\xf0\\x9b?;\\\\\\xa7\\x90\\xe33c\\xa7]\\xb5k\\xeb\\x8a,E.\\x7f\\x03\\n_Cx'\n",
    "           b'\\xcb\\x88\\x9b\\xf0\\x1du\\xe0\\xdc\\xb8\\xe6\\x16\\xa2~\\x02\\x7f\\xd9H\\x84t6'\n",
    "           b'\\xf2!\\xa6\\x05\\x9f\\x06\\x0f\\x84\\xf5\\x1c\\x8b\\x05Vl\\xa30\\xe7\\x00e\\x00'\n",
    "           b'y\\xbf\\xd0\\x0cX\\xfe\\x1dYl\\xc8\\x17\"\\xcfp\\xc2\\xf8\\xc0\\xf2\\x82\\xdee1Y;j\\xbfZ\"'\n",
    "           b'\\x8cK\\xbeb\\xc5ag\\xbf\\xbdt1\\xaf\\xd9\\xc0\\xb0\\x88\\xc5\\x8eN\\x00\\x00\\x00Y\\xcf'\n",
    "           b'\\xcd\\x84\\x8bJSp\\xd2-\\xe9V\\x18\\xa6x\\xca\\xf1\\x85\\xa9\\xa9\\xc4\\xca\\x06\\xf2\\x11 '\n",
    "           b'\\xcat2B\\xfd\\xaf`\\xab\\x1b'))"
   ]
  },
  {
   "cell_type": "markdown",
   "id": "73d95825",
   "metadata": {},
   "source": [
    "<h3 align=\"center\">Задание 11 (вариант 4, ИНБО-02-20).</h3>\n",
    "\n",
    "![_IMAGE_NOT_FOUND_](./images/11_4_inbo02.jpg)"
   ]
  },
  {
   "cell_type": "code",
   "execution_count": 69,
   "id": "10031680",
   "metadata": {},
   "outputs": [],
   "source": [
    "import struct\n",
    "\n",
    "\n",
    "def uint16uint16int8(x, start):\n",
    "    size = struct.unpack(\"< H\", x[start: start + 2])[0]\n",
    "    add = struct.unpack(\"< H\", x[start + 2: start + 4])[0]\n",
    "    a = struct.unpack(\"< \" + \"b\" * size, x[add: add + size])\n",
    "    return list(a)\n",
    "\n",
    "\n",
    "def uint16uint32uint16c(x, start):\n",
    "    size = struct.unpack(\"< H\", x[start: start + 2])[0]\n",
    "    add = struct.unpack(\"< I\", x[start + 2: start + 6])[0]\n",
    "    a = []\n",
    "    for i in range(size):\n",
    "        a.append(C(x, addressC(x, add + i * 2)))\n",
    "    return a\n",
    "\n",
    "\n",
    "def uint16uint32b(x, start):\n",
    "    size = struct.unpack(\"< H\", x[start: start + 2])[0]\n",
    "    add = struct.unpack(\"< I\", x[start + 2: start + 6])[0]\n",
    "    a = []\n",
    "    for i in range(size):\n",
    "        a.append(B(x, add + i * 10))\n",
    "    return a\n",
    "\n",
    "\n",
    "def D(x, start):\n",
    "    return {\n",
    "        \"D1\": struct.unpack(\"< h\", x[start:start+2])[0],\n",
    "        \"D2\": struct.unpack(\"< I\", x[start+2:start+6])[0]\n",
    "    }\n",
    "\n",
    "\n",
    "def C(x, start):\n",
    "    return {\n",
    "        'C1': struct.unpack(\"< b\", x[start:start+1])[0],\n",
    "        'C2': struct.unpack(\"< B\", x[start+1:start+2])[0]\n",
    "    }\n",
    "\n",
    "\n",
    "def addressC(x, start):\n",
    "    return struct.unpack(\"< H\", x[start:start+2])[0]\n",
    "\n",
    "\n",
    "def B(x, start):\n",
    "    return {\n",
    "        'B1': uint16uint32uint16c(x, start),\n",
    "        'B2': uint16uint16int8(x, start + 6)\n",
    "    }\n",
    "\n",
    "\n",
    "def A(x, start):\n",
    "    return {\n",
    "        'A1': uint16uint32b(x, start),\n",
    "        'A2': D(x, start + 6),\n",
    "        'A3': [struct.unpack(\"< I\", x[start+12:start+16])[0],\n",
    "               struct.unpack(\"< I\", x[start+16:start+20])[0],\n",
    "               struct.unpack(\"< I\", x[start+20:start+24])[0]]\n",
    "    }\n",
    "\n",
    "\n",
    "def main(x):\n",
    "    return A(x, 5)\n"
   ]
  },
  {
   "cell_type": "code",
   "execution_count": 70,
   "id": "1e9843eb",
   "metadata": {},
   "outputs": [
    {
     "name": "stdout",
     "output_type": "stream",
     "text": [
      "{'A1': [{'B1': [{'C1': -96, 'C2': 36}, {'C1': -30, 'C2': 9}, {'C1': 117, 'C2': 127}], 'B2': [-35, 96, -110, 14]}, {'B1': [{'C1': 79, 'C2': 217}, {'C1': -49, 'C2': 122}, {'C1': 95, 'C2': 41}, {'C1': -70, 'C2': 134}], 'B2': [19, 88, -78, 69, -46]}, {'B1': [{'C1': 95, 'C2': 150}, {'C1': 96, 'C2': 4}, {'C1': -44, 'C2': 175}, {'C1': -109, 'C2': 161}], 'B2': [9, 44, -57, -41, -79]}, {'B1': [{'C1': 7, 'C2': 86}, {'C1': -8, 'C2': 137}, {'C1': -6, 'C2': 174}], 'B2': [9, -104, 32, 53, -78]}, {'B1': [{'C1': -125, 'C2': 205}, {'C1': 124, 'C2': 172}], 'B2': [99, 103]}, {'B1': [{'C1': 27, 'C2': 99}, {'C1': -63, 'C2': 151}], 'B2': [17, -112]}, {'B1': [{'C1': -101, 'C2': 118}, {'C1': 117, 'C2': 43}, {'C1': 16, 'C2': 83}], 'B2': [-18, -32, 85, 109]}, {'B1': [{'C1': 33, 'C2': 249}, {'C1': 71, 'C2': 144}, {'C1': -20, 'C2': 202}], 'B2': [114, 74, 53]}], 'A2': {'D1': 27810, 'D2': 2228575215}, 'A3': [3381086997, 4185308573, 2848063820]}\n"
     ]
    }
   ],
   "source": [
    "print(main(b'$PVTX\\x08\\x00\\x9b\\x00\\x00\\x00\\xa2l\\xef[\\xd5\\x84\\x15K\\x87\\xc9\\x9d\\xbdv'\n",
    " b'\\xf9L\\x01\\xc2\\xa9\\xa0$\\xe2\\tu\\x7f\\x1d\\x00\\x1f\\x00!\\x00\\xdd`\\x92\\x0eO\\xd9\\xcf'\n",
    " b'z_)\\xba\\x86-\\x00/\\x001\\x003\\x00\\x13X\\xb2E\\xd2_\\x96`\\x04\\xd4\\xaf\\x93\\xa1B\\x00'\n",
    " b'D\\x00F\\x00H\\x00\\t,\\xc7\\xd7\\xb1\\x07V\\xf8\\x89\\xfa\\xaeW\\x00Y\\x00[\\x00\\t'\n",
    " b'\\x98 5\\xb2\\x83\\xcd|\\xach\\x00j\\x00cg\\x1bc\\xc1\\x97r\\x00t\\x00\\x11\\x90\\x9bvu+'\n",
    " b'\\x10S|\\x00~\\x00\\x80\\x00\\xee\\xe0Um!\\xf9G\\x90\\xec\\xca\\x8c\\x00\\x8e\\x00\\x90\\x00'\n",
    " b'rJ5\\x03\\x00#\\x00\\x00\\x00\\x04\\x00)\\x00\\x04\\x005\\x00\\x00\\x00\\x05\\x00=\\x00\\x04'\n",
    " b'\\x00J\\x00\\x00\\x00\\x05\\x00R\\x00\\x03\\x00]\\x00\\x00\\x00\\x05\\x00c\\x00\\x02'\n",
    " b'\\x00l\\x00\\x00\\x00\\x02\\x00p\\x00\\x02\\x00v\\x00\\x00\\x00\\x02\\x00z\\x00\\x03'\n",
    " b'\\x00\\x82\\x00\\x00\\x00\\x04\\x00\\x88\\x00\\x03\\x00\\x92\\x00\\x00\\x00\\x03'\n",
    " b'\\x00\\x98\\x00'))"
   ]
  }
 ],
 "metadata": {
  "kernelspec": {
   "display_name": "Python 3",
   "language": "python",
   "name": "python3"
  },
  "language_info": {
   "codemirror_mode": {
    "name": "ipython",
    "version": 3
   },
   "file_extension": ".py",
   "mimetype": "text/x-python",
   "name": "python",
   "nbconvert_exporter": "python",
   "pygments_lexer": "ipython3",
   "version": "3.8.8"
  }
 },
 "nbformat": 4,
 "nbformat_minor": 5
}
