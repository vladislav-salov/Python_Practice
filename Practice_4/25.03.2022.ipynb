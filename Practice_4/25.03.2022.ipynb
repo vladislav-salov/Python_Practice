{
 "cells": [
  {
   "cell_type": "markdown",
   "metadata": {},
   "source": [
    "# Практическое занятие №4\n",
    "\n",
    "П.Н. Советов, РТУ МИРЭА"
   ]
  },
  {
   "cell_type": "markdown",
   "metadata": {},
   "source": [
    "**Задача 2**"
   ]
  },
  {
   "cell_type": "markdown",
   "metadata": {},
   "source": [
    "Использование встроенных функций.\n",
    "\n",
    "1. Напишите код, который выведет на экране все переменные объекта произвольного пользовательского класса.\n",
    "1. Напишите код, который по имени метода, заданному строкой, вызовет этот метод в объекте некоторого пользовательского класса."
   ]
  },
  {
   "cell_type": "code",
   "execution_count": 27,
   "metadata": {},
   "outputs": [
    {
     "name": "stdout",
     "output_type": "stream",
     "text": [
      "5 10\n"
     ]
    },
    {
     "data": {
      "text/plain": [
       "50"
      ]
     },
     "execution_count": 27,
     "metadata": {},
     "output_type": "execute_result"
    }
   ],
   "source": [
    "class Class:\n",
    "    def __init__(self, x, y):\n",
    "        self.x = x\n",
    "        self.y = y\n",
    "    \n",
    "    def method_1(self):\n",
    "        return self.x * self.y\n",
    "        \n",
    "    def method_2(self):\n",
    "        return self.x + self.y\n",
    "\n",
    "\n",
    "obj = Class(5, 10)\n",
    "print(obj.x, obj.y)\n",
    "\n",
    "s = 'method_1'\n",
    "getattr(obj, s)()"
   ]
  },
  {
   "cell_type": "markdown",
   "metadata": {},
   "source": [
    "**Задача 5**"
   ]
  },
  {
   "cell_type": "markdown",
   "metadata": {},
   "source": [
    "Язык HTML-тегов с помощью менеджера контекста.\n",
    "\n",
    "Реализовать классы для выполнения следующего примера:\n",
    "\n",
    "```Python\n",
    "html = HTML()\n",
    "with html.body():\n",
    "    with html.div():\n",
    "        with html.div():\n",
    "            html.p('Первая строка.')\n",
    "            html.p('Вторая строка.')\n",
    "        with html.div():\n",
    "            html.p('Третья строка.')\n",
    "print(html.get_code())\n",
    "```\n",
    "\n",
    "Результат:\n",
    "\n",
    "```HTML\n",
    "<body>\n",
    "<div>\n",
    "<div>\n",
    "<p>Первая строка.</p>\n",
    "<p>Вторая строка.</p>\n",
    "</div>\n",
    "<div>\n",
    "<p>Третья строка.</p>\n",
    "</div>\n",
    "</div>\n",
    "</body>\n",
    "```"
   ]
  },
  {
   "cell_type": "code",
   "execution_count": 1,
   "metadata": {},
   "outputs": [
    {
     "name": "stdout",
     "output_type": "stream",
     "text": [
      "<body>\n",
      "<div>\n",
      "<div>\n",
      "<p>Первая строка.</p>\n",
      "<p>Вторая строка.</p>\n",
      "</div>\n",
      "<div>\n",
      "<p>Третья строка.</p>\n",
      "</div>\n",
      "</div>\n",
      "</body>\n",
      "\n"
     ]
    }
   ],
   "source": [
    "class HTML:\n",
    "    s = \"\"\n",
    "\n",
    "    def get_code(self):\n",
    "        return (self.s)\n",
    "\n",
    "    class body:\n",
    "        def __enter__(self):\n",
    "            HTML.s += \"<body>\\n\"\n",
    "\n",
    "        def __exit__(self, exc_type, exc_val, exc_tb):\n",
    "            HTML.s += \"</body>\\n\"\n",
    "\n",
    "    class div:\n",
    "        def __enter__(self):\n",
    "            HTML.s += \"<div>\\n\"\n",
    "\n",
    "        def __exit__(self, exc_type, exc_val, exc_tb):\n",
    "            HTML.s += \"</div>\\n\"\n",
    "\n",
    "    class p(object):\n",
    "        def __init__(self, ps):\n",
    "            HTML.s += \"<p>\" + ps + \"</p>\\n\"\n",
    "\n",
    "\n",
    "html = HTML()\n",
    "html.div()\n",
    "with html.body():\n",
    "    with html.div():\n",
    "        with html.div():\n",
    "            html.p('Первая строка.')\n",
    "            html.p('Вторая строка.')\n",
    "        with html.div():\n",
    "            html.p('Третья строка.')\n",
    "print(html.get_code())"
   ]
  },
  {
   "cell_type": "markdown",
   "metadata": {},
   "source": [
    "**Задача 8**"
   ]
  },
  {
   "cell_type": "markdown",
   "metadata": {},
   "source": [
    "Визуализатор AGI-графики из старых компьютерных игр комании Sierra.\n",
    "\n",
    "В старых играх от Sierra (например, в [King's Quest](https://www.mobygames.com/game/kings-quest) 1984 года) фоновая графика была представлена в виде последовательности [команд](https://wiki.scummvm.org/index.php?title=AGI/Specifications/Pic). В целом, результат очень напоминал векторную графику. В оригинале использовалось разрешение 160x200 пикселей, но можно попробовать перерисовать картинки из King's Quest в высоком разрешении.\n",
    "\n",
    "1. Реализуйте разбор команд из граф. файлов в каталоге `data/pic.*`.\n",
    "2. Нарисуйте средствами `tkinter` результат в высоком разрешении без заливки экрана. Учитывайте, что игре используется 2 типа экранов: обычный и экран приоритетов.\n",
    "3. (повышенной сложности) Придумайте способ добавить корректную цветовую заливку областей экрана.\n",
    "\n",
    "Заготовка:"
   ]
  },
  {
   "cell_type": "code",
   "execution_count": 36,
   "metadata": {},
   "outputs": [
    {
     "ename": "FileNotFoundError",
     "evalue": "[Errno 2] No such file or directory: 'data\\\\PIC.1'",
     "output_type": "error",
     "traceback": [
      "\u001b[1;31m---------------------------------------------------------------------------\u001b[0m",
      "\u001b[1;31mFileNotFoundError\u001b[0m                         Traceback (most recent call last)",
      "\u001b[1;32m<ipython-input-36-3899be33e17b>\u001b[0m in \u001b[0;36m<module>\u001b[1;34m\u001b[0m\n\u001b[0;32m     34\u001b[0m \u001b[1;33m\u001b[0m\u001b[0m\n\u001b[0;32m     35\u001b[0m \u001b[1;33m\u001b[0m\u001b[0m\n\u001b[1;32m---> 36\u001b[1;33m \u001b[0mpic\u001b[0m \u001b[1;33m=\u001b[0m \u001b[0mPath\u001b[0m\u001b[1;33m(\u001b[0m\u001b[1;34m'data/PIC.1'\u001b[0m\u001b[1;33m)\u001b[0m\u001b[1;33m.\u001b[0m\u001b[0mread_bytes\u001b[0m\u001b[1;33m(\u001b[0m\u001b[1;33m)\u001b[0m\u001b[1;33m\u001b[0m\u001b[1;33m\u001b[0m\u001b[0m\n\u001b[0m\u001b[0;32m     37\u001b[0m \u001b[0mcanvas\u001b[0m \u001b[1;33m=\u001b[0m \u001b[0mtk\u001b[0m\u001b[1;33m.\u001b[0m\u001b[0mCanvas\u001b[0m\u001b[1;33m(\u001b[0m\u001b[0mwidth\u001b[0m\u001b[1;33m=\u001b[0m\u001b[1;36m160\u001b[0m \u001b[1;33m*\u001b[0m \u001b[0mSCALE_X\u001b[0m\u001b[1;33m,\u001b[0m \u001b[0mheight\u001b[0m\u001b[1;33m=\u001b[0m\u001b[1;36m170\u001b[0m \u001b[1;33m*\u001b[0m \u001b[0mSCALE_Y\u001b[0m\u001b[1;33m)\u001b[0m\u001b[1;33m\u001b[0m\u001b[1;33m\u001b[0m\u001b[0m\n\u001b[0;32m     38\u001b[0m \u001b[0mcanvas\u001b[0m\u001b[1;33m.\u001b[0m\u001b[0mpack\u001b[0m\u001b[1;33m(\u001b[0m\u001b[1;33m)\u001b[0m\u001b[1;33m\u001b[0m\u001b[1;33m\u001b[0m\u001b[0m\n",
      "\u001b[1;32mC:\\ProgramData\\Anaconda3\\lib\\pathlib.py\u001b[0m in \u001b[0;36mread_bytes\u001b[1;34m(self)\u001b[0m\n\u001b[0;32m   1226\u001b[0m         \u001b[0mOpen\u001b[0m \u001b[0mthe\u001b[0m \u001b[0mfile\u001b[0m \u001b[1;32min\u001b[0m \u001b[0mbytes\u001b[0m \u001b[0mmode\u001b[0m\u001b[1;33m,\u001b[0m \u001b[0mread\u001b[0m \u001b[0mit\u001b[0m\u001b[1;33m,\u001b[0m \u001b[1;32mand\u001b[0m \u001b[0mclose\u001b[0m \u001b[0mthe\u001b[0m \u001b[0mfile\u001b[0m\u001b[1;33m.\u001b[0m\u001b[1;33m\u001b[0m\u001b[1;33m\u001b[0m\u001b[0m\n\u001b[0;32m   1227\u001b[0m         \"\"\"\n\u001b[1;32m-> 1228\u001b[1;33m         \u001b[1;32mwith\u001b[0m \u001b[0mself\u001b[0m\u001b[1;33m.\u001b[0m\u001b[0mopen\u001b[0m\u001b[1;33m(\u001b[0m\u001b[0mmode\u001b[0m\u001b[1;33m=\u001b[0m\u001b[1;34m'rb'\u001b[0m\u001b[1;33m)\u001b[0m \u001b[1;32mas\u001b[0m \u001b[0mf\u001b[0m\u001b[1;33m:\u001b[0m\u001b[1;33m\u001b[0m\u001b[1;33m\u001b[0m\u001b[0m\n\u001b[0m\u001b[0;32m   1229\u001b[0m             \u001b[1;32mreturn\u001b[0m \u001b[0mf\u001b[0m\u001b[1;33m.\u001b[0m\u001b[0mread\u001b[0m\u001b[1;33m(\u001b[0m\u001b[1;33m)\u001b[0m\u001b[1;33m\u001b[0m\u001b[1;33m\u001b[0m\u001b[0m\n\u001b[0;32m   1230\u001b[0m \u001b[1;33m\u001b[0m\u001b[0m\n",
      "\u001b[1;32mC:\\ProgramData\\Anaconda3\\lib\\pathlib.py\u001b[0m in \u001b[0;36mopen\u001b[1;34m(self, mode, buffering, encoding, errors, newline)\u001b[0m\n\u001b[0;32m   1219\u001b[0m         \u001b[1;32mif\u001b[0m \u001b[0mself\u001b[0m\u001b[1;33m.\u001b[0m\u001b[0m_closed\u001b[0m\u001b[1;33m:\u001b[0m\u001b[1;33m\u001b[0m\u001b[1;33m\u001b[0m\u001b[0m\n\u001b[0;32m   1220\u001b[0m             \u001b[0mself\u001b[0m\u001b[1;33m.\u001b[0m\u001b[0m_raise_closed\u001b[0m\u001b[1;33m(\u001b[0m\u001b[1;33m)\u001b[0m\u001b[1;33m\u001b[0m\u001b[1;33m\u001b[0m\u001b[0m\n\u001b[1;32m-> 1221\u001b[1;33m         return io.open(self, mode, buffering, encoding, errors, newline,\n\u001b[0m\u001b[0;32m   1222\u001b[0m                        opener=self._opener)\n\u001b[0;32m   1223\u001b[0m \u001b[1;33m\u001b[0m\u001b[0m\n",
      "\u001b[1;32mC:\\ProgramData\\Anaconda3\\lib\\pathlib.py\u001b[0m in \u001b[0;36m_opener\u001b[1;34m(self, name, flags, mode)\u001b[0m\n\u001b[0;32m   1075\u001b[0m     \u001b[1;32mdef\u001b[0m \u001b[0m_opener\u001b[0m\u001b[1;33m(\u001b[0m\u001b[0mself\u001b[0m\u001b[1;33m,\u001b[0m \u001b[0mname\u001b[0m\u001b[1;33m,\u001b[0m \u001b[0mflags\u001b[0m\u001b[1;33m,\u001b[0m \u001b[0mmode\u001b[0m\u001b[1;33m=\u001b[0m\u001b[1;36m0o666\u001b[0m\u001b[1;33m)\u001b[0m\u001b[1;33m:\u001b[0m\u001b[1;33m\u001b[0m\u001b[1;33m\u001b[0m\u001b[0m\n\u001b[0;32m   1076\u001b[0m         \u001b[1;31m# A stub for the opener argument to built-in open()\u001b[0m\u001b[1;33m\u001b[0m\u001b[1;33m\u001b[0m\u001b[1;33m\u001b[0m\u001b[0m\n\u001b[1;32m-> 1077\u001b[1;33m         \u001b[1;32mreturn\u001b[0m \u001b[0mself\u001b[0m\u001b[1;33m.\u001b[0m\u001b[0m_accessor\u001b[0m\u001b[1;33m.\u001b[0m\u001b[0mopen\u001b[0m\u001b[1;33m(\u001b[0m\u001b[0mself\u001b[0m\u001b[1;33m,\u001b[0m \u001b[0mflags\u001b[0m\u001b[1;33m,\u001b[0m \u001b[0mmode\u001b[0m\u001b[1;33m)\u001b[0m\u001b[1;33m\u001b[0m\u001b[1;33m\u001b[0m\u001b[0m\n\u001b[0m\u001b[0;32m   1078\u001b[0m \u001b[1;33m\u001b[0m\u001b[0m\n\u001b[0;32m   1079\u001b[0m     \u001b[1;32mdef\u001b[0m \u001b[0m_raw_open\u001b[0m\u001b[1;33m(\u001b[0m\u001b[0mself\u001b[0m\u001b[1;33m,\u001b[0m \u001b[0mflags\u001b[0m\u001b[1;33m,\u001b[0m \u001b[0mmode\u001b[0m\u001b[1;33m=\u001b[0m\u001b[1;36m0o777\u001b[0m\u001b[1;33m)\u001b[0m\u001b[1;33m:\u001b[0m\u001b[1;33m\u001b[0m\u001b[1;33m\u001b[0m\u001b[0m\n",
      "\u001b[1;31mFileNotFoundError\u001b[0m: [Errno 2] No such file or directory: 'data\\\\PIC.1'"
     ]
    }
   ],
   "source": [
    "from pathlib import Path\n",
    "import tkinter as tk\n",
    "\n",
    "SCALE_X = 6\n",
    "SCALE_Y = 4\n",
    "\n",
    "COLORS = [\n",
    "    (0, 0, 0),\n",
    "    (0, 0, 168),\n",
    "    (0, 168, 0),\n",
    "    (0, 168, 168),\n",
    "    (168, 0, 0),\n",
    "    (168, 0, 168),\n",
    "    (168, 84, 0),\n",
    "    (168, 168, 168),\n",
    "    (84, 84, 84),\n",
    "    (84, 84, 252),\n",
    "    (84, 252, 84),\n",
    "    (84, 252, 252),\n",
    "    (252, 84, 84),\n",
    "    (252, 84, 252),\n",
    "    (252, 252, 84),\n",
    "    (252, 252, 252)\n",
    "]\n",
    "\n",
    "\n",
    "def draw_line(coords, color_index):\n",
    "    canvas.create_line(*[(x * SCALE_X, y * SCALE_Y) for x, y in coords],\n",
    "                       fill='#%02x%02x%02x' % COLORS[color_index], width=4)\n",
    "\n",
    "\n",
    "def draw(pic):\n",
    "    pass  # TODO\n",
    "\n",
    "\n",
    "pic = Path('data/PIC.1').read_bytes()\n",
    "canvas = tk.Canvas(width=160 * SCALE_X, height=170 * SCALE_Y)\n",
    "canvas.pack()\n",
    "draw(pic)\n",
    "tk.mainloop()"
   ]
  },
  {
   "cell_type": "code",
   "execution_count": null,
   "metadata": {},
   "outputs": [],
   "source": []
  }
 ],
 "metadata": {
  "kernelspec": {
   "display_name": "Python 3",
   "language": "python",
   "name": "python3"
  },
  "language_info": {
   "codemirror_mode": {
    "name": "ipython",
    "version": 3
   },
   "file_extension": ".py",
   "mimetype": "text/x-python",
   "name": "python",
   "nbconvert_exporter": "python",
   "pygments_lexer": "ipython3",
   "version": "3.8.8"
  }
 },
 "nbformat": 4,
 "nbformat_minor": 4
}
