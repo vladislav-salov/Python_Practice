{
 "cells": [
  {
   "cell_type": "markdown",
   "metadata": {},
   "source": [
    "# Практическое занятие №2\n",
    "\n",
    "П.Н. Советов, РТУ МИРЭА"
   ]
  },
  {
   "cell_type": "markdown",
   "metadata": {},
   "source": [
    "**Задача 1**"
   ]
  },
  {
   "cell_type": "markdown",
   "metadata": {},
   "source": [
    "Напишите программы-однострочники для следующих задач. Начните с наивных решений и постепенно двигайтесь в сторону решений кратких и изящных. Старайтесь попутно создавать автоматические тесты на случайных входных данных.\n",
    "\n",
    "1. Преобразовать элементы списка `s` из строковой в числовую форму.\n",
    "1. Подсчитать количество различных элементов в последовательности `s`.\n",
    "1. Обратить последовательность `s` без использования функций.\n",
    "1. Выдать список индексов, на которых найден элемент x в последовательности `s`.\n",
    "1. Сложить элементы списка `s` с четными индексами.\n",
    "1. Найти строку максимальной длины в списке строк `s`."
   ]
  },
  {
   "cell_type": "code",
   "execution_count": 71,
   "metadata": {},
   "outputs": [
    {
     "name": "stdout",
     "output_type": "stream",
     "text": [
      "[0, -5, 10, -15]\n",
      "4\n",
      "[5, 4, 3, 2, 1]\n",
      "[0, 2, 4]\n",
      "100\n",
      "the_longest\n"
     ]
    }
   ],
   "source": [
    "# 1.\n",
    "s = ['0', '-5', '10', '-15']  # Исходный список.\n",
    "for i in range(len(s)): s[i] = int(s[i])  # Программа в одну строку.\n",
    "print(s)  # Проверка выполнения.\n",
    "\n",
    "# 2.\n",
    "s = ['abc', '123', 'def', '456']  # Исходный список.\n",
    "print(len(set(s)))  # Программа в одну строку.\n",
    "\n",
    "# 3.\n",
    "s = [1, 2, 3, 4, 5]  # Исходная последовательность.\n",
    "print(s[::-1])  # Программа в одну строку.\n",
    "\n",
    "# 4.\n",
    "s = ['x', '2x', 'x', '3x', 'x']  # Исходная последовательность.\n",
    "print([i for i in range(len(s)) if s[i] == 'x'])  # Программа в одну строку.\n",
    "\n",
    "# 5.\n",
    "s = ['1', '-24', '9', '48', '90', '-72']  # Исходный список.\n",
    "print(sum([int(s[i]) for i in range(len(s)) if not i % 2]))  # Программа в одну строку.\n",
    "\n",
    "# 6.\n",
    "s = ['abc', 'ijk', 'the_longest', 'xyz']  # Исходный список.\n",
    "the_longest_string = max(s, key=len)  # Программа в одну строку.\n",
    "print(the_longest_string)  # Проверка выполнения."
   ]
  },
  {
   "cell_type": "markdown",
   "metadata": {},
   "source": [
    "**Задача 2**"
   ]
  },
  {
   "cell_type": "markdown",
   "metadata": {},
   "source": [
    "В следующем фрагменте по индексу `i` выбирается одна из трех строк:"
   ]
  },
  {
   "cell_type": "code",
   "execution_count": 72,
   "metadata": {},
   "outputs": [
    {
     "data": {
      "text/plain": [
       "'much'"
      ]
     },
     "execution_count": 72,
     "metadata": {},
     "output_type": "execute_result"
    }
   ],
   "source": [
    "i = 0\n",
    "['much','code','wow'][i]  # 24 символа"
   ]
  },
  {
   "cell_type": "code",
   "execution_count": 73,
   "metadata": {},
   "outputs": [
    {
     "data": {
      "text/plain": [
       "'much'"
      ]
     },
     "execution_count": 73,
     "metadata": {},
     "output_type": "execute_result"
    }
   ],
   "source": [
    "'muchcodewow'[:4]  # 17 символов"
   ]
  },
  {
   "cell_type": "code",
   "execution_count": 74,
   "metadata": {},
   "outputs": [
    {
     "data": {
      "text/plain": [
       "'much'"
      ]
     },
     "execution_count": 74,
     "metadata": {},
     "output_type": "execute_result"
    }
   ],
   "source": [
    "'mcwuoocdwhe'[i::3]  # 19 символов"
   ]
  },
  {
   "cell_type": "markdown",
   "metadata": {},
   "source": [
    "Сократите код в строке №2 до 19 символов без использования функций."
   ]
  },
  {
   "cell_type": "markdown",
   "metadata": {},
   "source": [
    "**Задача 3**"
   ]
  },
  {
   "cell_type": "markdown",
   "metadata": {},
   "source": [
    "Напишите функцию `generate_groups()`, которая генерирует (не просто выдает готовый) список всех названий групп в том виде, который используется на сайте ЦАП. "
   ]
  },
  {
   "cell_type": "code",
   "execution_count": 75,
   "metadata": {},
   "outputs": [
    {
     "data": {
      "text/plain": [
       "['ИВБО-0-20',\n",
       " 'ИВБО-1-20',\n",
       " 'ИВБО-2-20',\n",
       " 'ИВБО-3-20',\n",
       " 'ИВБО-4-20',\n",
       " 'ИВБО-5-20',\n",
       " 'ИВБО-6-20',\n",
       " 'ИВБО-7-20',\n",
       " 'ИВБО-8-20',\n",
       " 'ИВБО-9-20',\n",
       " 'ИВБО-10-20',\n",
       " 'ИВБО-11-20',\n",
       " 'ИВБО-12-20',\n",
       " 'ИВБО-13-20',\n",
       " 'ИКБО-1-20',\n",
       " 'ИКБО-2-20',\n",
       " 'ИКБО-3-20',\n",
       " 'ИКБО-4-20',\n",
       " 'ИКБО-5-20',\n",
       " 'ИКБО-6-20',\n",
       " 'ИКБО-7-20',\n",
       " 'ИКБО-8-20',\n",
       " 'ИКБО-9-20',\n",
       " 'ИКБО-10-20',\n",
       " 'ИКБО-11-20',\n",
       " 'ИКБО-12-20',\n",
       " 'ИКБО-13-20',\n",
       " 'ИКБО-14-20',\n",
       " 'ИКБО-15-20',\n",
       " 'ИКБО-16-20',\n",
       " 'ИКБО-17-20',\n",
       " 'ИКБО-18-20',\n",
       " 'ИКБО-19-20',\n",
       " 'ИКБО-20-20',\n",
       " 'ИКБО-21-20',\n",
       " 'ИКБО-22-20',\n",
       " 'ИКБО-23-20',\n",
       " 'ИКБО-24-20',\n",
       " 'ИКБО-25-20',\n",
       " 'ИКБО-26-20',\n",
       " 'ИКБО-27-20',\n",
       " 'ИКБО-28-20',\n",
       " 'ИКБО-29-20',\n",
       " 'ИКБО-30-20',\n",
       " 'ИНБО-1-20',\n",
       " 'ИНБО-2-20',\n",
       " 'ИНБО-3-20',\n",
       " 'ИНБО-4-20',\n",
       " 'ИНБО-5-20',\n",
       " 'ИНБО-6-20',\n",
       " 'ИНБО-7-20',\n",
       " 'ИНБО-8-20',\n",
       " 'ИНБО-9-20',\n",
       " 'ИНБО-10-20',\n",
       " 'ИНБО-11-20',\n",
       " 'ИНБО-12-20',\n",
       " 'ИНБО-13-20',\n",
       " 'ИНБО-14-20',\n",
       " 'ИНБО-15-20',\n",
       " 'ИМБО-1-20']"
      ]
     },
     "execution_count": 75,
     "metadata": {},
     "output_type": "execute_result"
    }
   ],
   "source": [
    "def generate_groups():\n",
    "    a = []\n",
    "    for i in range(60):\n",
    "        if i <= 13:\n",
    "            a.append(\"ИВБО-\" + str(i) + \"-20\")\n",
    "        if 13 < i <= 43:\n",
    "            a.append(\"ИКБО-\" + str(i - 13) + \"-20\")\n",
    "        if 43 < i <= 58:\n",
    "            a.append(\"ИНБО-\" + str(i - 43) + \"-20\")\n",
    "        if 58 < i <= 60:\n",
    "            a.append(\"ИМБО-\" + str(i - 58) + \"-20\")\n",
    "    return a\n",
    "\n",
    "\n",
    "generate_groups()"
   ]
  },
  {
   "cell_type": "markdown",
   "metadata": {},
   "source": [
    "**Задача 4**"
   ]
  },
  {
   "cell_type": "markdown",
   "metadata": {},
   "source": [
    "### Объясните, что за странные вещи происходят в этом коде:\n",
    "\n",
    "[0xfor _ in 'abc']"
   ]
  },
  {
   "cell_type": "code",
   "execution_count": 76,
   "metadata": {},
   "outputs": [
    {
     "data": {
      "text/plain": [
       "[15]"
      ]
     },
     "execution_count": 76,
     "metadata": {},
     "output_type": "execute_result"
    }
   ],
   "source": [
    "[0xf or _ in 'abc']"
   ]
  },
  {
   "cell_type": "code",
   "execution_count": 77,
   "metadata": {},
   "outputs": [
    {
     "data": {
      "text/plain": [
       "[15]"
      ]
     },
     "execution_count": 77,
     "metadata": {},
     "output_type": "execute_result"
    }
   ],
   "source": [
    "# Это то же самое, что и следующий код:\n",
    "[15 or _ in 'abc']\n",
    "# Поскольку in имеет больший приоритет, чем or, сначала выполнится блок «_ in 'abc'».\n",
    "# Выполнение блока «_ in 'abc'» выдаст ошибку NameError, и тогда выполнится блок «15».\n",
    "# Так как выполнение блока «15» выдаст True, вывод программы будет следующим:"
   ]
  },
  {
   "cell_type": "markdown",
   "metadata": {},
   "source": [
    "**Задача 5**"
   ]
  },
  {
   "cell_type": "markdown",
   "metadata": {},
   "source": [
    "Реализуйте генератор докладов по цифровой экономике. Данные для генерации извлекаются из таблицы:\n",
    "\n",
    "<table>\n",
    "<tr>\n",
    "<th>1</th>\n",
    "<th>2</th>\n",
    "<th>3</th>\n",
    "<th>4</th>\n",
    "<th>5</th>\n",
    "</tr>\n",
    "<tr>\n",
    "<td>Коллеги,</td>\n",
    "<td>парадигма цифровой экономики</td>\n",
    "<td>открывает новые возможности для</td>\n",
    "<td>дальнейшего углубления</td>\n",
    "<td>знаний и компетенций.</td>\n",
    "</tr>\n",
    "<tr>\n",
    "<td>В то же время,</td>\n",
    "<td>контекст цифровой трансформации</td>\n",
    "<td>выдвигает новые требования</td>\n",
    "<td>бюджетного финансирования</td>\n",
    "<td>непроверенных гипотез.</td>\n",
    "</tr>\n",
    "<tr>\n",
    "<td>Однако,</td>\n",
    "<td>диджитализация бизнес-процессов</td>\n",
    "<td>несёт в себе риски</td>\n",
    "<td>синергетического эффекта</td>\n",
    "<td>волатильных активов.</td>\n",
    "</tr>\n",
    "<tr>\n",
    "<td>Тем не менее,</td>\n",
    "<td>прагматичный подход к цифровым платформам</td>\n",
    "<td>расширяет горизонты</td>\n",
    "<td>компрометации конфиденциальных</td>\n",
    "<td>опасных экспериментов.</td>\n",
    "</tr>\n",
    "<tr>\n",
    "<td>Следовательно,</td>\n",
    "<td>совокупность сквозных технологий</td>\n",
    "<td>заставляет искать варианты</td>\n",
    "<td>универсальной коммодитизации</td>\n",
    "<td>государственно-частных партнёрств.</td>\n",
    "</tr>\n",
    "<tr>\n",
    "<td>Соответственно,</td>\n",
    "<td>программа прорывных исследований</td>\n",
    "<td>не оставляет шанса для</td>\n",
    "<td>несанкционированной кастомизации</td>\n",
    "<td>цифровых следов граждан.</td>\n",
    "</tr>\n",
    "<tr>\n",
    "<td>Вместе с тем,</td>\n",
    "<td>ускорение блокчейн-транзакций</td>\n",
    "<td>повышает вероятность</td>\n",
    "<td>нормативного регулирования</td>\n",
    "<td>нежелательных последствий.</td>\n",
    "</tr>\n",
    "<tr>\n",
    "<td>С другой стороны,</td>\n",
    "<td>экспоненциальный рост Big Data</td>\n",
    "<td>обостряет проблему</td>\n",
    "<td>практического применения</td>\n",
    "<td>внезапных открытий.</td>\n",
    "</tr>\n",
    "</table>\n"
   ]
  },
  {
   "cell_type": "markdown",
   "metadata": {},
   "source": [
    "Пример доклада показан ниже:\n",
    "\n",
    "> Коллеги, совокупность сквозных технологий повышает вероятность нормативного регулирования опасных экспериментов. С другой стороны, совокупность сквозных технологий несёт в себе риски нормативного регулирования внезапных открытий. Тем не менее, совокупность сквозных технологий открывает новые возможности несанкционированной кастомизации опасных экспериментов. \n",
    "\n",
    "> Тем не менее, парадигма цифровой экономики открывает новые возможности практического применения цифровых следов граждан. Соответственно, совокупность сквозных технологий открывает новые возможности универсальной коммодитизации волатильных активов. Следовательно, программа прорывных исследований несёт в себе риски практического применения государственно-частных партнёрств. \n",
    "\n",
    "> Следовательно, ускорение блокчейн-транзакций расширяет горизонты универсальной коммодитизации знаний и компетенций. Вместе с тем, прагматичный подход к цифровым платформам не оставляет шанса для нормативного регулирования непроверенных гипотез. Следовательно, прагматичный подход к цифровым платформам повышает вероятность бюджетного финансирования волатильных активов."
   ]
  },
  {
   "cell_type": "code",
   "execution_count": 87,
   "metadata": {},
   "outputs": [
    {
     "name": "stdout",
     "output_type": "stream",
     "text": [
      "5\n",
      "Коллеги, прагматичный подход к цифровым платформам выдвигает новые требования универсальной коммодитизации опасных экспериментов. В то же время, контекст цифровой трансформации открывает новые возможности для бюджетного финансирования волатильных активов. Тем не менее, диджитализация бизнес-процессов заставляет искать варианты синергетического эффекта волатильных активов.\n",
      "\n",
      "Однако, парадигма цифровой экономики заставляет искать варианты универсальной коммодитизации государственно-частных партнёрств. В то же время, прагматичный подход к цифровым платформам расширяет горизонты универсальной коммодитизации государственно-частных партнёрств. Однако, парадигма цифровой экономики выдвигает новые требования бюджетного финансирования знаний и компетенций.\n",
      "\n",
      "В то же время, диджитализация бизнес-процессов выдвигает новые требования синергетического эффекта волатильных активов. В то же время, диджитализация бизнес-процессов заставляет искать варианты бюджетного финансирования опасных экспериментов. В то же время, совокупность сквозных технологий выдвигает новые требования универсальной коммодитизации опасных экспериментов.\n",
      "\n",
      "Однако, совокупность сквозных технологий открывает новые возможности для дальнейшего углубления государственно-частных партнёрств. Коллеги, совокупность сквозных технологий заставляет искать варианты компрометации конфиденциальных знаний и компетенций. В то же время, контекст цифровой трансформации расширяет горизонты синергетического эффекта государственно-частных партнёрств.\n",
      "\n",
      "В то же время, совокупность сквозных технологий выдвигает новые требования синергетического эффекта волатильных активов. Следовательно, парадигма цифровой экономики выдвигает новые требования компрометации конфиденциальных волатильных активов. В то же время, прагматичный подход к цифровым платформам заставляет искать варианты компрометации конфиденциальных волатильных активов.\n",
      "\n"
     ]
    }
   ],
   "source": [
    "# Спасибо Егору Бугрову (https://github.com/ExTimeGameing) за этот код!\n",
    "\n",
    "import random\n",
    "\n",
    "dataBase = [\n",
    "    (\"Коллеги,\",\t          \"парадигма цифровой экономики\",\t                \"открывает новые возможности для\",\t\"дальнейшего углубления\",\t          \"знаний и компетенций.\"),\n",
    "    (\"В то же время,\",      \"контекст цифровой трансформации\",\t            \"выдвигает новые требования\",\t      \"бюджетного финансирования\",\t      \"непроверенных гипотез.\"),\n",
    "    (\"Однако,\",\t            \"диджитализация бизнес-процессов\",\t            \"несёт в себе риски\",\t              \"синергетического эффекта\",\t        \"волатильных активов.\"),\n",
    "    (\"Тем не менее,\",\t      \"прагматичный подход к цифровым платформам\",\t  \"расширяет горизонты\",\t            \"компрометации конфиденциальных\",\t  \"опасных экспериментов.\"),\n",
    "    (\"Следовательно,\",\t    \"совокупность сквозных технологий\",\t            \"заставляет искать варианты\",\t      \"универсальной коммодитизации\",\t    \"государственно-частных партнёрств.\"),\n",
    "    (\"Соответственно,\",\t    \"программа прорывных исследований\",\t            \"не оставляет шанса для\",\t          \"несанкционированной кастомизации\",\t\"цифровых следов граждан.\"),\n",
    "    (\"Вместе с тем,\",\t      \"ускорение блокчейн-транзакций\",\t              \"повышает вероятность\",\t            \"нормативного регулирования\",\t      \"нежелательных последствий.\"),\n",
    "    (\"С другой стороны,\",\t  \"экспоненциальный рост Big Data\",\t              \"обостряет проблему\",\t              \"практического применения\",\t        \"внезапных открытий.\")\n",
    "]\n",
    "\n",
    "num = int(input())\n",
    "\n",
    "for i in range (num):\n",
    "    print(dataBase[random.randint(0,4)][0], dataBase[random.randint(0,4)][1], dataBase[random.randint(0,4)][2], dataBase[random.randint(0,4)][3], dataBase[random.randint(0,4)][4], end = \" \")\n",
    "    print(dataBase[random.randint(0, 4)][0], dataBase[random.randint(0, 4)][1], dataBase[random.randint(0, 4)][2], dataBase[random.randint(0, 4)][3], dataBase[random.randint(0, 4)][4], end = \" \")\n",
    "    print(dataBase[random.randint(0, 4)][0], dataBase[random.randint(0, 4)][1], dataBase[random.randint(0, 4)][2],dataBase[random.randint(0, 4)][3], dataBase[random.randint(0, 4)][4], end = \"\\n\\n\")\n"
   ]
  },
  {
   "cell_type": "markdown",
   "metadata": {},
   "source": [
    "**Задача 6**"
   ]
  },
  {
   "cell_type": "markdown",
   "metadata": {},
   "source": [
    "Реализуйте свою версию `print()`. Постарайтесь использовать максимум возможностей настоящей `print()`. Для вывода используйте функцию `sys.stdout.write()`."
   ]
  },
  {
   "cell_type": "code",
   "execution_count": 78,
   "metadata": {},
   "outputs": [
    {
     "name": "stdout",
     "output_type": "stream",
     "text": [
      "sum summus mus: это — палиндром;\n",
      "sum summus mus = sum summus mus\n"
     ]
    }
   ],
   "source": [
    "import sys\n",
    "\n",
    "\n",
    "def my_print(*objects, sep=' ', end='\\n'):  # file и flush не задействованы.\n",
    "    if len(objects) > 1:\n",
    "        for i in range(len(objects) - 1):\n",
    "            sys.stdout.write(str(objects[i]))\n",
    "            sys.stdout.write(sep)\n",
    "        sys.stdout.write(str(objects[i + 1]))\n",
    "    else:\n",
    "        sys.stdout.write(str(objects[0]))\n",
    "    sys.stdout.write(end)\n",
    "    \n",
    "    \n",
    "my_print(\"sum\", \"summus\", \"mus\", end=\": \")\n",
    "my_print(\"это\", \"палиндром\", sep=\" — \", end=\";\\n\")\n",
    "my_print(\"sum summus mus\"[::-1], end=\" = \")\n",
    "my_print(\"sum summus mus\")"
   ]
  },
  {
   "cell_type": "markdown",
   "metadata": {},
   "source": [
    "**Задача 7**"
   ]
  },
  {
   "cell_type": "markdown",
   "metadata": {},
   "source": [
    "Реализуйте функцию, которая принимает только именованные аргументы. При передаче позиционного аргумента Питон должен выдать ошибку. Подсказка: вам не нужно ничего специально добавлять в тело функции."
   ]
  },
  {
   "cell_type": "code",
   "execution_count": 79,
   "metadata": {},
   "outputs": [
    {
     "data": {
      "text/plain": [
       "{'key_1': 'value_1'}"
      ]
     },
     "execution_count": 79,
     "metadata": {},
     "output_type": "execute_result"
    }
   ],
   "source": [
    "def procedure(**kwargs):\n",
    "    return kwargs\n",
    "\n",
    "procedure(key_1='value_1')"
   ]
  },
  {
   "cell_type": "code",
   "execution_count": 80,
   "metadata": {},
   "outputs": [
    {
     "ename": "TypeError",
     "evalue": "procedure() takes 0 positional arguments but 1 was given",
     "output_type": "error",
     "traceback": [
      "\u001b[1;31m---------------------------------------------------------------------------\u001b[0m",
      "\u001b[1;31mTypeError\u001b[0m                                 Traceback (most recent call last)",
      "\u001b[1;32m<ipython-input-80-981c47d626c4>\u001b[0m in \u001b[0;36m<module>\u001b[1;34m\u001b[0m\n\u001b[1;32m----> 1\u001b[1;33m \u001b[0mprocedure\u001b[0m\u001b[1;33m(\u001b[0m\u001b[1;34m'value_1'\u001b[0m\u001b[1;33m)\u001b[0m\u001b[1;33m\u001b[0m\u001b[1;33m\u001b[0m\u001b[0m\n\u001b[0m",
      "\u001b[1;31mTypeError\u001b[0m: procedure() takes 0 positional arguments but 1 was given"
     ]
    }
   ],
   "source": [
    "procedure('value_1')"
   ]
  },
  {
   "cell_type": "markdown",
   "metadata": {},
   "source": [
    "**Задача 8**"
   ]
  },
  {
   "cell_type": "markdown",
   "metadata": {},
   "source": [
    "Реализуйте генератор случайных данных ФИО. Список распространенных имен позволяется скачать из интернета. Фамилии необходимо генерировать самостоятельно. Впрочем, можете попробовать генерировать и имена.\n",
    "\n",
    "Пример работы генератора:\n",
    "\n",
    "```\n",
    "Данил А. Фуций\n",
    "Роман Д. Фецачли\n",
    "Лев Ц. Шолодяк\n",
    "Ильдар Ц. Тачасяк\n",
    "Николай Р. Мугодич\n",
    "Данила И. Табян\n",
    "Семен Л. Черев\n",
    "Самир Д. Тифомский\n",
    "Тамерлан О. Гузянц\n",
    "Святослав И. Набян\n",
    "Герман З. Семидяк\n",
    "Тамерлан К. Башко\n",
    "Назар Ш. Кунарий\n",
    "Степан Е. Гидский\n",
    "Леонид Н. Сабин\n",
    "...\n",
    "```"
   ]
  },
  {
   "cell_type": "code",
   "execution_count": 89,
   "metadata": {},
   "outputs": [
    {
     "name": "stdout",
     "output_type": "stream",
     "text": [
      "10\n",
      "Ааразу Д. Сенвзуст\n",
      "Лианнори Б. Нумэйсайд\n",
      "Рисгейт Ч. Чордейх\n",
      "Лианнгейт А. Чорэйсайд\n",
      "Рисаразу Д. Сенвдейх\n",
      "Айнеори Ч. Вондзуст\n",
      "Рисссо Д. Чорад\n",
      "Фионндолл Ч. Вондэйсайд\n",
      "Лианнаразу Д. Сенвзуст\n",
      "Арнадолл Д. Ондедейх\n"
     ]
    }
   ],
   "source": [
    "# Спасибо Егору Бугрову (https://github.com/ExTimeGameing) за этот код!\n",
    "\n",
    "\n",
    "import random\n",
    "\n",
    "\n",
    "namePrefix = [\"А\", \"Айне\", \"Арна\", \"Фионн\", \"Илле\",\"Лианн\", \"Рис\"]\n",
    "namePostfix = [\"долл\", \"ори\", \"аразу\", \"ссо\", \"гейт\"]\n",
    "surnamePrefix = [\"Нум\", \"Онде\", \"Чор\", \"Вонд\", \"Сенв\"]\n",
    "surnamePostfix = [\"ад\", \"дейх\", \"рок\", \"эйсайд\", \"зуст\"]\n",
    "intitial = [\"А.\", \"Б.\", \"Д.\", \"С\", \"Ч.\"]\n",
    "\n",
    "n = int(input())\n",
    "\n",
    "for i in range (n):\n",
    "    print(random.choice(namePrefix) + random.choice(namePostfix),random.choice(intitial), random.choice(surnamePrefix) + random.choice(surnamePostfix))\n"
   ]
  },
  {
   "cell_type": "markdown",
   "metadata": {},
   "source": [
    "**Задача 9**"
   ]
  },
  {
   "cell_type": "markdown",
   "metadata": {},
   "source": [
    "Объясните «странности» в следующих примерах:"
   ]
  },
  {
   "cell_type": "code",
   "execution_count": 81,
   "metadata": {},
   "outputs": [
    {
     "name": "stdout",
     "output_type": "stream",
     "text": [
      "True False True\n"
     ]
    }
   ],
   "source": [
    "a = 1\n",
    "b = 1\n",
    "c = 300000 # проверено в Python 3.10\n",
    "d = 300000\n",
    "print(a is b, c is d, c == d)"
   ]
  },
  {
   "cell_type": "code",
   "execution_count": 82,
   "metadata": {},
   "outputs": [
    {
     "name": "stdout",
     "output_type": "stream",
     "text": [
      "True True False\n"
     ]
    }
   ],
   "source": [
    "a, b = 'py', 'py'\n",
    "c = ''.join(['p', 'y'])\n",
    "print(a is b, a == c, a is c)"
   ]
  },
  {
   "cell_type": "markdown",
   "metadata": {},
   "source": [
    "**Задача 10**"
   ]
  },
  {
   "cell_type": "markdown",
   "metadata": {},
   "source": [
    "Реализуйте функцию `parse_subj(text)` для разбора темы сообщения, поступающего к почтовому роботу. Должны быть разобраны: группа (одна буква, например, «К» для «ИКБО») и номер варианта. Ниже показаны примеры (в количестве 41) присланных тем, которые робот не сумел разобрать. Сможете ли вы реализовать более интеллектуальный разбор?\n",
    "\n",
    "```Python\n",
    "bad_subj = ['main.py', 'k17 14', 'K13 18', 'к02 1', 'ИВБО-11 Вариант№14', 'к02 21', '1.3.py', 'В 11 4', '\\ufeff\\u200b\\u200bк20 21', 'B7 21', 'Фамилия Имя Задача 1.1', 'В03 12', 'к08 24', 'к07 23', '1.2.py, 1.3.py, 1.4.py', '1.1.py', 'K14 23', 'в7 ', 'к6 ', '\\u200b\\u200bк20 21', 'к2 в3', 'В104', 'В1013', 'B3 29', 'v10 15', 'k13 30', 'В 7 10', 'Фамилия И.О. к7 31', '1.2.py', 'К10', 'ПитонН4 н11', 'K13 28', 'К4', 'K17 10', 'и4 11', 'Н1', 'н01 28', 'б3 5', 'Re: в6 28', 'к-11 3', '2_1.py, 2_2.py']\n",
    "```"
   ]
  },
  {
   "cell_type": "code",
   "execution_count": 85,
   "metadata": {},
   "outputs": [
    {
     "data": {
      "text/plain": [
       "['Мусор!',\n",
       " 'ИКБО-17-19, вариант: 14',\n",
       " 'ИКБО-13-19, вариант: 18',\n",
       " 'ИКБО-02-19, вариант: 1',\n",
       " 'ИВБО-11-19, вариант: 14',\n",
       " 'ИКБО-02-19, вариант: 21',\n",
       " 'Мусор!',\n",
       " 'ИВБО-11-19, вариант: 4',\n",
       " 'ИКБО-20-19, вариант: 21',\n",
       " 'Мусор!',\n",
       " 'Мусор!',\n",
       " 'ИВБО-03-19, вариант: 12',\n",
       " 'ИКБО-08-19, вариант: 24',\n",
       " 'ИКБО-07-19, вариант: 23',\n",
       " 'Мусор!',\n",
       " 'Мусор!',\n",
       " 'ИКБО-14-19, вариант: 23',\n",
       " 'ИВБО-7-19, нет варианта',\n",
       " 'ИКБО-6-19, нет варианта',\n",
       " 'ИКБО-20-19, вариант: 21',\n",
       " 'ИКБО-2-19, вариант: 3',\n",
       " 'ИВБО-10-19, вариант: 4',\n",
       " 'ИВБО-10-19, вариант: 13',\n",
       " 'Мусор!',\n",
       " 'ИВБО-10-19, вариант: 15',\n",
       " 'ИКБО-13-19, вариант: 30',\n",
       " 'ИВБО-7-19, вариант: 10',\n",
       " 'ИКБО-7-19, вариант: 31',\n",
       " 'Мусор!',\n",
       " 'ИКБО-10-19, нет варианта',\n",
       " 'ИНБО-4-19, вариант: 11',\n",
       " 'ИКБО-13-19, вариант: 28',\n",
       " 'Мусор!',\n",
       " 'ИКБО-17-19, вариант: 10',\n",
       " 'Мусор!',\n",
       " 'Мусор!',\n",
       " 'ИНБО-01-19, вариант: 28',\n",
       " 'Мусор!',\n",
       " 'ИВБО-6-19, вариант: 28',\n",
       " 'ИКБО-11-19, вариант: 3',\n",
       " 'Мусор!']"
      ]
     },
     "execution_count": 85,
     "metadata": {},
     "output_type": "execute_result"
    }
   ],
   "source": [
    "# Спасибо Лизе (https://github.com/elizflera) за помощь!\n",
    "\n",
    "def parse_subj(text):\n",
    "    groups = []\n",
    "    group_numbers = []\n",
    "    variants = []\n",
    "    part_of_text = []\n",
    "    final_text = []\n",
    "    for element in text:\n",
    "        if \"py\" in element or \"u\" in element:\n",
    "            groups.append(\"\")\n",
    "            continue\n",
    "        added = False\n",
    "        for i in range(len(element)):\n",
    "            if element[i] == \"n\" or element[i] == \"N\" or element[i] == \"н\" or element[i] == \"Н\":\n",
    "                groups.append(\"ИНБО-\")\n",
    "                added = True\n",
    "                break\n",
    "            elif element[i] == \"v\" or element[i] == \"V\" or element[i] == \"в\" or element[i] == \"В\":\n",
    "                groups.append(\"ИВБО-\")\n",
    "                added = True\n",
    "                break\n",
    "            elif element[i] == \"k\" or element[i] == \"K\" or element[i] == \"к\" or element[i] == \"К\":\n",
    "                groups.append(\"ИКБО-\")\n",
    "                added = True\n",
    "                break\n",
    "        if not added:\n",
    "            groups.append(\"\")\n",
    "    for element in text:\n",
    "        for i in range(1, len(element)):\n",
    "            group_number = ''\n",
    "            index = 0\n",
    "            if element[i - 1].isdigit():\n",
    "                group_number += element[i - 1]\n",
    "                index = i - 1\n",
    "                if element[i].isdigit():\n",
    "                    group_number += element[i]\n",
    "                    index = i\n",
    "                break\n",
    "        part_of_text.append(element[(index + 1):])\n",
    "        group_numbers.append(group_number)\n",
    "    for element in part_of_text:\n",
    "        variant = ''\n",
    "        for i in range(len(element)):\n",
    "            if element[i].isdigit():\n",
    "                variant += element[i]\n",
    "        variants.append(variant)\n",
    "    for i in range(len(groups)):\n",
    "        final_text_element = ''\n",
    "        if groups[i] == \"\":\n",
    "            final_text.append(\"Мусор!\")\n",
    "        elif group_numbers[i] == \"\":\n",
    "            final_text.append(\"Мусор!\")\n",
    "        elif variants[i] == \"\":\n",
    "            final_text_element += groups[i] + group_numbers[i] + '-19, нет варианта'\n",
    "        else:\n",
    "            final_text_element += groups[i] + group_numbers[i] + '-19, вариант: ' + variants[i]\n",
    "        final_text.append(final_text_element)\n",
    "    final_text_copy = final_text\n",
    "    final_text = []\n",
    "    for i in range(len(final_text_copy)):\n",
    "        if final_text_copy[i] != \"\":\n",
    "            final_text.append(final_text_copy[i])\n",
    "    return final_text      \n",
    "                    \n",
    "                    \n",
    "                \n",
    "                \n",
    "\n",
    "bad_subj = ['main.py', 'k17 14', 'K13 18', 'к02 1', 'ИВБО-11 Вариант№14', 'к02 21', '1.3.py', 'В 11 4', '\\ufeff\\u200b\\u200bк20 21', 'B7 21', 'Фамилия Имя Задача 1.1', 'В03 12', 'к08 24', 'к07 23', '1.2.py, 1.3.py, 1.4.py', '1.1.py', 'K14 23', 'в7 ', 'к6 ', '\\u200b\\u200bк20 21', 'к2 в3', 'В104', 'В1013', 'B3 29', 'v10 15', 'k13 30', 'В 7 10', 'Фамилия И.О. к7 31', '1.2.py', 'К10', 'ПитонН4 н11', 'K13 28', 'К4', 'K17 10', 'и4 11', 'Н1', 'н01 28', 'б3 5', 'Re: в6 28', 'к-11 3', '2_1.py, 2_2.py']\n",
    "parse_subj(bad_subj)"
   ]
  },
  {
   "cell_type": "markdown",
   "metadata": {},
   "source": [
    "**Задача 11**"
   ]
  },
  {
   "cell_type": "markdown",
   "metadata": {},
   "source": [
    "Преобразование Барроуза-Уилера используется в задачах сжатия данных и в области биоинформатики. Реализуйте прямое и обратное преобразование и оцените результаты с использованием RLE-кодирования.\n",
    "\n",
    "Прямое преобразование:\n",
    "1. Получить все циклические перестановки исходной строки.\n",
    "1. Полученные строки таблицы отсортировать лексикографически.\n",
    "1. Получить последний столбец из п. 2.\n",
    "\n",
    "Обратное преобразование:\n",
    "1. Расположить исходные данные в качестве последнего столбца таблицы.\n",
    "2. Последовательно добавлять в качестве начального столбца исходные данные и сортировать строки таблицы, пока таблица не будет восстановлена.\n",
    "\n",
    "Оцените на примерах текста, какой эффект дает полученное преобразование для RLE-сжатия. Код RLE-сжатия приведен ниже:"
   ]
  },
  {
   "cell_type": "code",
   "execution_count": 84,
   "metadata": {},
   "outputs": [
    {
     "name": "stdout",
     "output_type": "stream",
     "text": [
      "Original data: ABACABAABACABA\n",
      "Result of direct BWT: ABBCCABBAAAAAA\n",
      "Result of inverse BWT: ABACABAABACABA\n",
      "RLE on original: A1B1A1C1A1B1A2B1A1C1A1B1A1\n",
      "RLE on BWT: A1B2C2A1B2A6\n"
     ]
    }
   ],
   "source": [
    "# Спасибо Гоше с Кириллом за весь этот код!\n",
    "\n",
    "\n",
    "from itertools import groupby\n",
    " \n",
    " \n",
    "def bwt_direct(sequence):\n",
    "    sequence += '#'\n",
    "    table = [sequence[index:] + sequence[:index] for index, _ in enumerate(sequence)]\n",
    "    table.sort()\n",
    "    bwt = [rotation[-1] for rotation in table]\n",
    "    bwt = ''.join(bwt)\n",
    "    return bwt\n",
    " \n",
    " \n",
    "def bwt_inv(sequence):\n",
    "    table = [col for col in sequence]\n",
    "    for i in range(len(sequence) - 1):\n",
    "        table.sort()\n",
    "        table = [sequence[i] + table[i] for i in range(len(sequence))]\n",
    " \n",
    "    return table[[row[-1] for row in table].index('#')]\n",
    " \n",
    " \n",
    "data = 'ABACABAABACABA'\n",
    "print('Original data:', data)\n",
    "res1 = bwt_direct(data)\n",
    "data2 = res1.replace('#', '')\n",
    "print('Result of direct BWT:', data2)\n",
    " \n",
    "res2 = bwt_inv(res1)\n",
    "print('Result of inverse BWT:', res2.replace('#', ''))\n",
    " \n",
    " \n",
    "def rle_encode(data):\n",
    "    return ''.join([str(k) + str(len(list(g))) for k, g in groupby(data)])\n",
    " \n",
    " \n",
    "print('RLE on original:', rle_encode(data))\n",
    "print('RLE on BWT:', rle_encode(data2))"
   ]
  },
  {
   "cell_type": "markdown",
   "metadata": {},
   "source": [
    "**Задача 12**"
   ]
  },
  {
   "cell_type": "markdown",
   "metadata": {},
   "source": [
    "Реализуйте утилиту командной строки, которая преобразует в markdown-файле обычные кавычки в кавычки-елочки с учетом их парности. Внутри блоков кода кавычки необходимо оставлять без изменений."
   ]
  },
  {
   "cell_type": "markdown",
   "metadata": {},
   "source": [
    "**Задача 13**"
   ]
  },
  {
   "cell_type": "markdown",
   "metadata": {},
   "source": [
    "Реализуйте утилиту командной строки, формирующую дерево каталогов и файлов с учетом вложенности и начиная с заданного пути. Результат должен быть выдан в виде текста в формате [graphviz](https://dreampuf.github.io/GraphvizOnline/)."
   ]
  },
  {
   "cell_type": "code",
   "execution_count": 100,
   "metadata": {},
   "outputs": [
    {
     "name": "stdout",
     "output_type": "stream",
     "text": [
      "digraph G {\n",
      "Документы->3ds Max 2022\n",
      "3ds Max 2022->archives\n",
      "3ds Max 2022->autoback\n",
      "3ds Max 2022->downloads\n",
      "3ds Max 2022->export\n",
      "3ds Max 2022->express\n",
      "3ds Max 2022->import\n",
      "3ds Max 2022->materiallibraries\n",
      "3ds Max 2022->previews\n",
      "3ds Max 2022->proxies\n",
      "3ds Max 2022->renderoutput\n",
      "3ds Max 2022->renderpresets\n",
      "3ds Max 2022->sceneassets\n",
      "sceneassets->animations\n",
      "sceneassets->images\n",
      "sceneassets->photometric\n",
      "sceneassets->renderassets\n",
      "sceneassets->sounds\n",
      "3ds Max 2022->scenes\n",
      "3ds Max 2022->SimCache\n",
      "3ds Max 2022->startuptemplates\n",
      "3ds Max 2022->vpost\n",
      "}\n"
     ]
    }
   ],
   "source": [
    "# Спасибо Егору Бугрову (https://github.com/ExTimeGameing) за этот код!\n",
    "\n",
    "\n",
    "import os\n",
    "from os.path import join, getsize\n",
    "\n",
    "\n",
    "print (\"digraph G {\")\n",
    "for root, dirs, files in os.walk('C:\\\\Users\\\\svdvl\\\\OneDrive\\\\Документы\\\\3ds Max 2022'):\n",
    "    data = root\n",
    "    str_tr = ''\n",
    "    for item in reversed(data):\n",
    "        if (item != \"\\\\\"):\n",
    "            str_tr += item\n",
    "        else:\n",
    "            break\n",
    "    p = root.split(\"\\\\\")\n",
    "    print(p[len(p) - 2] + \"->\" + str_tr[::-1])\n",
    "print(\"}\")"
   ]
  },
  {
   "cell_type": "markdown",
   "metadata": {},
   "source": [
    "**Задача 14**"
   ]
  },
  {
   "cell_type": "markdown",
   "metadata": {},
   "source": [
    "Существует модуль [tabulate](https://github.com/astanin/python-tabulate) для вывода ASCII-таблиц. Это большой модуль и для практических задач было бы удобно иметь простую функцию в несколько строк, форматирующую данные с помощью ASCII-графики. Реализуйте эту функцию. Проверьте результат на одном из примеров из репозитория tabulate."
   ]
  }
 ],
 "metadata": {
  "kernelspec": {
   "display_name": "Python 3",
   "language": "python",
   "name": "python3"
  },
  "language_info": {
   "codemirror_mode": {
    "name": "ipython",
    "version": 3
   },
   "file_extension": ".py",
   "mimetype": "text/x-python",
   "name": "python",
   "nbconvert_exporter": "python",
   "pygments_lexer": "ipython3",
   "version": "3.8.8"
  }
 },
 "nbformat": 4,
 "nbformat_minor": 4
}
