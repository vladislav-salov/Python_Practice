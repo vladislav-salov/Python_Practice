{
 "cells": [
  {
   "cell_type": "markdown",
   "id": "b6af52bb",
   "metadata": {},
   "source": [
    "Вариант 26."
   ]
  },
  {
   "cell_type": "markdown",
   "id": "24180841",
   "metadata": {},
   "source": [
    "Задание 1. Реализовать функцию."
   ]
  },
  {
   "cell_type": "code",
   "execution_count": 1,
   "id": "acfbdab2",
   "metadata": {},
   "outputs": [],
   "source": [
    "def main(y, z, x):\n",
    "    return ((y ** 3 - z ** 2 - 89) ** 5 - (1 - 52 * x ** 2) ** 6) /\\\n",
    "           (71 * (42 * z ** 3 + x + y ** 2) ** 3 + z ** 5) + \\\n",
    "           (88 * abs(y - z ** 2 - x ** 3) ** 6) ** 0.5\n"
   ]
  },
  {
   "cell_type": "code",
   "execution_count": 2,
   "id": "ccc1fd4b",
   "metadata": {},
   "outputs": [
    {
     "name": "stdout",
     "output_type": "stream",
     "text": [
      "-5.99e+05\n",
      "-8.50e+04\n"
     ]
    }
   ],
   "source": [
    "print('%.2e' % main(0.26, 0.51, 0.92))\n",
    "print('%.2e' % main(-0.96, 0.61, -0.48))"
   ]
  },
  {
   "cell_type": "markdown",
   "id": "0f78dc9f",
   "metadata": {},
   "source": [
    "Задание 2. Реализовать кусочную функцию."
   ]
  },
  {
   "cell_type": "code",
   "execution_count": 3,
   "id": "226a2ffe",
   "metadata": {},
   "outputs": [],
   "source": [
    "import math\n",
    "\n",
    "\n",
    "def main(x):\n",
    "    if x < 91:\n",
    "        return (x ** 3 + x ** 2 + 42 * x) ** 5 - 43 *\\\n",
    "               (41 * x ** 3 + x ** 2 + 50) - x ** 6 / 87\n",
    "    if 91 <= x < 155:\n",
    "        return 24 * math.sin(x ** 2 + 97 + x ** 3) ** 6\\\n",
    "               + math.atan(x ** 2) ** 4\n",
    "    if x >= 155:\n",
    "        return x ** 7 + 87 * math.atan(1 + x ** 3 + x) ** 5\\\n",
    "               + (52 * x ** 2 - 35 - 70 * x) ** 6\n"
   ]
  },
  {
   "cell_type": "code",
   "execution_count": 4,
   "id": "dd8a0957",
   "metadata": {},
   "outputs": [
    {
     "name": "stdout",
     "output_type": "stream",
     "text": [
      "8.56e+00\n",
      "4.90e+36\n"
     ]
    }
   ],
   "source": [
    "print('%.2e' % main(135))\n",
    "print('%.2e' % main(159))"
   ]
  },
  {
   "cell_type": "markdown",
   "id": "802127f9",
   "metadata": {},
   "source": [
    "Задание 3. Реализовать итерационную функцию."
   ]
  },
  {
   "cell_type": "code",
   "execution_count": 5,
   "id": "bd68a267",
   "metadata": {},
   "outputs": [],
   "source": [
    "def main(a, m, b):\n",
    "    result = 0\n",
    "    for i in range(1, b + 1):\n",
    "        s = 0\n",
    "        for j in range(1, m + 1):\n",
    "            p = 1\n",
    "            for c in range(1, a + 1):\n",
    "                p *= c ** 14 + (j ** 2 - 11 * c ** 3 - 79 * i) ** 6 + \\\n",
    "                     j ** 3 / 28\n",
    "            s += p\n",
    "        result += s\n",
    "    return result\n"
   ]
  },
  {
   "cell_type": "code",
   "execution_count": 6,
   "id": "2207feae",
   "metadata": {},
   "outputs": [
    {
     "name": "stdout",
     "output_type": "stream",
     "text": [
      "9.19e+105\n",
      "1.51e+46\n"
     ]
    }
   ],
   "source": [
    "print('%.2e' % main(6, 8, 4))\n",
    "print('%.2e' % main(3, 3, 3))"
   ]
  },
  {
   "cell_type": "markdown",
   "id": "72e60518",
   "metadata": {},
   "source": [
    "Задание 4. Реализовать функцию по рекуррентной формуле."
   ]
  },
  {
   "cell_type": "code",
   "execution_count": 7,
   "id": "7700963a",
   "metadata": {},
   "outputs": [],
   "source": [
    "import math\n",
    "\n",
    "\n",
    "def main(n):\n",
    "    if n == 0:\n",
    "        return 0.58\n",
    "    if n == 1:\n",
    "        return -0.16\n",
    "    if n >= 2:\n",
    "        return math.atan(1 + main(n - 2) ** 2 + 22 * main(n - 1) ** 3) ** 2\n"
   ]
  },
  {
   "cell_type": "code",
   "execution_count": 8,
   "id": "649e6d72",
   "metadata": {},
   "outputs": [
    {
     "name": "stdout",
     "output_type": "stream",
     "text": [
      "2.46e+00\n",
      "2.46e+00\n"
     ]
    }
   ],
   "source": [
    "print('%.2e' % main(8))\n",
    "print('%.2e' % main(6))"
   ]
  },
  {
   "cell_type": "markdown",
   "id": "25470006",
   "metadata": {},
   "source": [
    "Задание 5. Реализовать функцию, оперирующую векторами длины n."
   ]
  },
  {
   "cell_type": "code",
   "execution_count": 9,
   "id": "2a229263",
   "metadata": {},
   "outputs": [],
   "source": [
    "def main(y, z, x):\n",
    "    n = len(y)\n",
    "    result = 0\n",
    "    for i in range(1, n + 1):\n",
    "        result += 51 * 71 * (42 * z[n - i] ** 3 + x[n - i] + y[i - 1] ** 2) \\\n",
    "                  ** 3\n",
    "    return result\n"
   ]
  },
  {
   "cell_type": "code",
   "execution_count": 10,
   "id": "53e134b3",
   "metadata": {},
   "outputs": [
    {
     "name": "stdout",
     "output_type": "stream",
     "text": [
      "1.31e+08\n",
      "4.58e+07\n"
     ]
    }
   ],
   "source": [
    "print('%.2e' % main([0.9, 0.6, 0.24],\n",
    "                    [-0.33, 0.92, 0.07],\n",
    "                    [-0.6, -0.03, -0.75]))\n",
    "print('%.2e' % main([-0.21, 0.95, -0.44],\n",
    "                    [0.47, 0.64, 0.81],\n",
    "                    [0.31, 0.67, -0.43]))"
   ]
  }
 ],
 "metadata": {
  "kernelspec": {
   "display_name": "Python 3",
   "language": "python",
   "name": "python3"
  },
  "language_info": {
   "codemirror_mode": {
    "name": "ipython",
    "version": 3
   },
   "file_extension": ".py",
   "mimetype": "text/x-python",
   "name": "python",
   "nbconvert_exporter": "python",
   "pygments_lexer": "ipython3",
   "version": "3.8.8"
  }
 },
 "nbformat": 4,
 "nbformat_minor": 5
}
