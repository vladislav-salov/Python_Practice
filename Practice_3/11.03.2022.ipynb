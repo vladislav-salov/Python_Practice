{
 "cells": [
  {
   "cell_type": "markdown",
   "metadata": {},
   "source": [
    "# Практическое занятие №3\n",
    "\n",
    "П.Н. Советов, РТУ МИРЭА"
   ]
  },
  {
   "cell_type": "markdown",
   "metadata": {},
   "source": [
    "**Задача 1**"
   ]
  },
  {
   "cell_type": "markdown",
   "metadata": {},
   "source": [
    "Приведите примеры кода, которые соответствуют следующим нарушениям PEP 8:\n",
    "\n",
    "1. whitespace before '('.\n",
    "1. missing whitespace around operator.\n",
    "1. missing whitespace after ','.\n",
    "1. unexpected spaces around keyword / parameter equals.\n",
    "1. expected 2 blank lines, found 1.\n",
    "1. multiple statements on one line (colon).\n",
    "1. multiple statements on one line (semicolon).\n",
    "1. comparison to None should be 'if cond is None:'.\n",
    "1. comparison to True should be 'if cond is True:' or 'if cond:'.\n",
    "\n",
    "Для быстрой проверки используйте сайт [pep8online.com](http://pep8online.com)."
   ]
  },
  {
   "cell_type": "code",
   "execution_count": 1,
   "metadata": {},
   "outputs": [
    {
     "name": "stdout",
     "output_type": "stream",
     "text": [
      "0 0\n",
      "0\n",
      "0\n",
      "0\n",
      "0\n"
     ]
    }
   ],
   "source": [
    "# 1.\n",
    "def function (a):\n",
    "    return a\n",
    "\n",
    "# 5.\n",
    "def function (b):\n",
    "    return b\n",
    "\n",
    "# 2.\n",
    "x =y= 0\n",
    "\n",
    "# 3.\n",
    "print(x,y)\n",
    "\n",
    "# 4.\n",
    "print(x or  y)\n",
    "\n",
    "# 6.\n",
    "if not x: print(x)\n",
    "    \n",
    "# 7.\n",
    "print(x); print(y)\n",
    "\n",
    "# 8.\n",
    "if x == None:\n",
    "    print(x)\n",
    "\n",
    "# 9.\n",
    "if x == True:\n",
    "    print(x)"
   ]
  },
  {
   "cell_type": "markdown",
   "metadata": {},
   "source": [
    "**Задача 2**"
   ]
  },
  {
   "cell_type": "markdown",
   "metadata": {},
   "source": [
    "Как вы думаете, модуль загружается один раз или загружается каждый раз при очередном импорте? Докажите правильность вашей гипотезы кодом."
   ]
  },
  {
   "cell_type": "code",
   "execution_count": 2,
   "metadata": {},
   "outputs": [],
   "source": [
    "# Спасибо Егору П. (https://github.com/eiparfenov) за решение."
   ]
  },
  {
   "cell_type": "code",
   "execution_count": 3,
   "metadata": {},
   "outputs": [
    {
     "name": "stdout",
     "output_type": "stream",
     "text": [
      "imported\n"
     ]
    }
   ],
   "source": [
    "# number.py\n",
    "print(\"imported\")"
   ]
  },
  {
   "cell_type": "raw",
   "metadata": {},
   "source": [
    "# main.py\n",
    "import number\n",
    "# imported\n",
    "import number\n",
    "import number"
   ]
  },
  {
   "cell_type": "markdown",
   "metadata": {},
   "source": [
    "**Задача 9**"
   ]
  },
  {
   "cell_type": "markdown",
   "metadata": {},
   "source": [
    "Реализуйте модель сегрегации Шеллинга в Matplotlib. На двумерной сетке находятся агенты двух групп. На каждой клетке может находиться не более 1 агента. Агент «счастлив», если, как минимум, заданный количество ближайших соседей относится к его группе. В противном случае агент переезжает на иное, свободное место.\n",
    "\n",
    "Ввести следующие параметры: размер популяции, размеры сетки, процентное соотношение агентов двух групп, пороговое значение «толерантности», количество шагов моделирования.\n",
    "\n",
    "1. Реализовать отображение агентов в виде квадратов двух цветов на целочисленной сетке.\n",
    "1. Случайно разместить агентов, учитывая запрет на совпадение координат.\n",
    "1. Реализовать функцию `distance` на основе метрики манхэттенского расстояния.\n",
    "1. Реализовать функцию `is_happy`.\n",
    "1. Изобразить график исходного расположения агентов и график расположения спустя N шагов моделирования.\n",
    "1. Изобразить график изменения состояния «настроения» агентов.\n",
    "1. (повышенной сложности) Реализовать анимацию шагов моделирования."
   ]
  },
  {
   "cell_type": "code",
   "execution_count": 4,
   "metadata": {
    "scrolled": false
   },
   "outputs": [
    {
     "data": {
      "text/plain": [
       "'\\n%matplotlib inline\\nimport random\\nimport matplotlib.pyplot as plt\\nplt.rcParams[\"figure.figsize\"] = (10, 5)  # set default figure size\\n\\n\\nclass Agent:\\n\\n    def __init__(self, type):\\n        self.type = type\\n        self.location = random.randint(0, 10), random.randint(0, 10)\\n\\n    def draw_location(self, agents):\\n        f = True\\n        while f:\\n            f = False\\n            nx, ny = random.randint(0, 10), random.randint(0, 10)\\n            for agent in agents:\\n                if nx == agent.location[0] and ny == agent.location[1]:\\n                    f = True\\n            if not f:\\n                self.location = nx, ny\\n        \\n\\n    def get_distance(self, other):\\n        \"Computes the euclidean distance between self and other agent.\"\\n        a = (self.location[0] - other.location[0])**2\\n        b = (self.location[1] - other.location[1])**2\\n        return (a + b) ** 0.5\\n\\n    def happy(self, agents):\\n        \"True if sufficient number of nearest neighbors are of the same type.\"\\n        mates = 0\\n        for agent in agents:\\n            if self.get_distance(agent) < 2:\\n                if self.type == agent.type:\\n                    mates += 1\\n        \\n        return mates >= 4\\n                \\n\\n    def update(self, agents):\\n        \"If not happy, then randomly choose new locations until happy.\"\\n        \\n        if not self.happy(agents):\\n            self.draw_location(agents)\\n\\n\\ndef plot_distribution(agents, cycle_num):\\n    \"Plot the distribution of agents after cycle_num rounds of the loop.\"\\n    x_values_0, y_values_0 = [], []\\n    x_values_1, y_values_1 = [], []\\n    # == Obtain locations of each type == #\\n    for agent in agents:\\n        x, y = agent.location\\n        if agent.type == 0:\\n            x_values_0.append(x)\\n            y_values_0.append(y)\\n        else:\\n            x_values_1.append(x)\\n            y_values_1.append(y)\\n    fig, ax = plt.subplots(figsize=(9, 9))\\n    plot_args = {\\'markersize\\': 20, \\'alpha\\': 1}\\n    ax.set_facecolor(\\'orange\\')\\n    ax.plot(x_values_0, y_values_0, \\'s\\', markerfacecolor=\\'white\\', **plot_args)\\n    ax.plot(x_values_1, y_values_1, \\'s\\', markerfacecolor=\\'black\\', **plot_args)\\n    ax.set_title(f\\'Cycle {cycle_num-1}\\')\\n    #plt.show()\\n\\n# == Main == #\\n\\nnum_of_type_0 = 30\\nnum_of_type_1 = 40\\n\\n# == Create a list of agents == #\\nagents = [Agent(0) for i in range(num_of_type_0)]\\nagents.extend(Agent(1) for i in range(num_of_type_1))\\n\\nplt.ion()\\n\\nfun = []\\nfor i in range(50):\\n    plot_distribution(agents, i)\\n\\n    for agent in agents:\\n        agent.update(agents)\\n    \\n    f = 0\\n    for agent in agents:\\n        if agent.happy(agents):\\n            f += 1\\n    \\n    fun.append(f)\\n    \\n\\n\\nplt.plot(fun)\\n#plt.show()\\n'"
      ]
     },
     "execution_count": 4,
     "metadata": {},
     "output_type": "execute_result"
    }
   ],
   "source": [
    "# Решение на доработке.\n",
    "\n",
    "\"\"\"\n",
    "%matplotlib inline\n",
    "import random\n",
    "import matplotlib.pyplot as plt\n",
    "plt.rcParams[\"figure.figsize\"] = (10, 5)  # set default figure size\n",
    "\n",
    "\n",
    "class Agent:\n",
    "\n",
    "    def __init__(self, type):\n",
    "        self.type = type\n",
    "        self.location = random.randint(0, 10), random.randint(0, 10)\n",
    "\n",
    "    def draw_location(self, agents):\n",
    "        f = True\n",
    "        while f:\n",
    "            f = False\n",
    "            nx, ny = random.randint(0, 10), random.randint(0, 10)\n",
    "            for agent in agents:\n",
    "                if nx == agent.location[0] and ny == agent.location[1]:\n",
    "                    f = True\n",
    "            if not f:\n",
    "                self.location = nx, ny\n",
    "        \n",
    "\n",
    "    def get_distance(self, other):\n",
    "        \"Computes the euclidean distance between self and other agent.\"\n",
    "        a = (self.location[0] - other.location[0])**2\n",
    "        b = (self.location[1] - other.location[1])**2\n",
    "        return (a + b) ** 0.5\n",
    "\n",
    "    def happy(self, agents):\n",
    "        \"True if sufficient number of nearest neighbors are of the same type.\"\n",
    "        mates = 0\n",
    "        for agent in agents:\n",
    "            if self.get_distance(agent) < 2:\n",
    "                if self.type == agent.type:\n",
    "                    mates += 1\n",
    "        \n",
    "        return mates >= 4\n",
    "                \n",
    "\n",
    "    def update(self, agents):\n",
    "        \"If not happy, then randomly choose new locations until happy.\"\n",
    "        \n",
    "        if not self.happy(agents):\n",
    "            self.draw_location(agents)\n",
    "\n",
    "\n",
    "def plot_distribution(agents, cycle_num):\n",
    "    \"Plot the distribution of agents after cycle_num rounds of the loop.\"\n",
    "    x_values_0, y_values_0 = [], []\n",
    "    x_values_1, y_values_1 = [], []\n",
    "    # == Obtain locations of each type == #\n",
    "    for agent in agents:\n",
    "        x, y = agent.location\n",
    "        if agent.type == 0:\n",
    "            x_values_0.append(x)\n",
    "            y_values_0.append(y)\n",
    "        else:\n",
    "            x_values_1.append(x)\n",
    "            y_values_1.append(y)\n",
    "    fig, ax = plt.subplots(figsize=(9, 9))\n",
    "    plot_args = {'markersize': 20, 'alpha': 1}\n",
    "    ax.set_facecolor('orange')\n",
    "    ax.plot(x_values_0, y_values_0, 's', markerfacecolor='white', **plot_args)\n",
    "    ax.plot(x_values_1, y_values_1, 's', markerfacecolor='black', **plot_args)\n",
    "    ax.set_title(f'Cycle {cycle_num-1}')\n",
    "    #plt.show()\n",
    "\n",
    "# == Main == #\n",
    "\n",
    "num_of_type_0 = 30\n",
    "num_of_type_1 = 40\n",
    "\n",
    "# == Create a list of agents == #\n",
    "agents = [Agent(0) for i in range(num_of_type_0)]\n",
    "agents.extend(Agent(1) for i in range(num_of_type_1))\n",
    "\n",
    "plt.ion()\n",
    "\n",
    "fun = []\n",
    "for i in range(50):\n",
    "    plot_distribution(agents, i)\n",
    "\n",
    "    for agent in agents:\n",
    "        agent.update(agents)\n",
    "    \n",
    "    f = 0\n",
    "    for agent in agents:\n",
    "        if agent.happy(agents):\n",
    "            f += 1\n",
    "    \n",
    "    fun.append(f)\n",
    "    \n",
    "\n",
    "\n",
    "plt.plot(fun)\n",
    "#plt.show()\n",
    "\"\"\""
   ]
  }
 ],
 "metadata": {
  "kernelspec": {
   "display_name": "Python 3",
   "language": "python",
   "name": "python3"
  },
  "language_info": {
   "codemirror_mode": {
    "name": "ipython",
    "version": 3
   },
   "file_extension": ".py",
   "mimetype": "text/x-python",
   "name": "python",
   "nbconvert_exporter": "python",
   "pygments_lexer": "ipython3",
   "version": "3.8.8"
  }
 },
 "nbformat": 4,
 "nbformat_minor": 4
}
