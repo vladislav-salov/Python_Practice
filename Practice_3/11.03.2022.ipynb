{
 "cells": [
  {
   "cell_type": "markdown",
   "metadata": {},
   "source": [
    "# Практическое занятие №3\n",
    "\n",
    "П.Н. Советов, РТУ МИРЭА"
   ]
  },
  {
   "cell_type": "markdown",
   "metadata": {},
   "source": [
    "**Задача 1**"
   ]
  },
  {
   "cell_type": "markdown",
   "metadata": {},
   "source": [
    "Приведите примеры кода, которые соответствуют следующим нарушениям PEP 8:\n",
    "\n",
    "1. whitespace before '('.\n",
    "1. missing whitespace around operator.\n",
    "1. missing whitespace after ','.\n",
    "1. unexpected spaces around keyword / parameter equals.\n",
    "1. expected 2 blank lines, found 1.\n",
    "1. multiple statements on one line (colon).\n",
    "1. multiple statements on one line (semicolon).\n",
    "1. comparison to None should be 'if cond is None:'.\n",
    "1. comparison to True should be 'if cond is True:' or 'if cond:'.\n",
    "\n",
    "Для быстрой проверки используйте сайт [pep8online.com](http://pep8online.com)."
   ]
  },
  {
   "cell_type": "code",
   "execution_count": 1,
   "metadata": {},
   "outputs": [
    {
     "name": "stdout",
     "output_type": "stream",
     "text": [
      "0 0\n",
      "0\n",
      "0\n",
      "0\n",
      "0\n"
     ]
    }
   ],
   "source": [
    "# 1.\n",
    "def function (a):\n",
    "    return a\n",
    "\n",
    "# 5.\n",
    "def function (b):\n",
    "    return b\n",
    "\n",
    "# 2.\n",
    "x =y= 0\n",
    "\n",
    "# 3.\n",
    "print(x,y)\n",
    "\n",
    "# 4.\n",
    "print(x or  y)\n",
    "\n",
    "# 6.\n",
    "if not x: print(x)\n",
    "    \n",
    "# 7.\n",
    "print(x); print(y)\n",
    "\n",
    "# 8.\n",
    "if x == None:\n",
    "    print(x)\n",
    "\n",
    "# 9.\n",
    "if x == True:\n",
    "    print(x)"
   ]
  },
  {
   "cell_type": "markdown",
   "metadata": {},
   "source": [
    "**Задача 2**"
   ]
  },
  {
   "cell_type": "markdown",
   "metadata": {},
   "source": [
    "Как вы думаете, модуль загружается один раз или загружается каждый раз при очередном импорте? Докажите правильность вашей гипотезы кодом."
   ]
  },
  {
   "cell_type": "code",
   "execution_count": 2,
   "metadata": {},
   "outputs": [],
   "source": [
    "# Спасибо Егору П. (https://github.com/eiparfenov) за решение."
   ]
  },
  {
   "cell_type": "code",
   "execution_count": 3,
   "metadata": {},
   "outputs": [
    {
     "name": "stdout",
     "output_type": "stream",
     "text": [
      "imported\n"
     ]
    }
   ],
   "source": [
    "# number.py\n",
    "print(\"imported\")"
   ]
  },
  {
   "cell_type": "raw",
   "metadata": {},
   "source": [
    "# main.py\n",
    "import number\n",
    "# imported\n",
    "import number\n",
    "import number"
   ]
  },
  {
   "cell_type": "markdown",
   "metadata": {},
   "source": [
    "**Задача 9**"
   ]
  },
  {
   "cell_type": "markdown",
   "metadata": {},
   "source": [
    "Реализуйте модель сегрегации Шеллинга в Matplotlib. На двумерной сетке находятся агенты двух групп. На каждой клетке может находиться не более 1 агента. Агент «счастлив», если, как минимум, заданный количество ближайших соседей относится к его группе. В противном случае агент переезжает на иное, свободное место.\n",
    "\n",
    "Ввести следующие параметры: размер популяции, размеры сетки, процентное соотношение агентов двух групп, пороговое значение «толерантности», количество шагов моделирования.\n",
    "\n",
    "1. Реализовать отображение агентов в виде квадратов двух цветов на целочисленной сетке.\n",
    "1. Случайно разместить агентов, учитывая запрет на совпадение координат.\n",
    "1. Реализовать функцию `distance` на основе метрики манхэттенского расстояния.\n",
    "1. Реализовать функцию `is_happy`.\n",
    "1. Изобразить график исходного расположения агентов и график расположения спустя N шагов моделирования.\n",
    "1. Изобразить график изменения состояния «настроения» агентов.\n",
    "1. (повышенной сложности) Реализовать анимацию шагов моделирования."
   ]
  },
  {
   "cell_type": "markdown",
   "metadata": {},
   "source": [
    "См. файл Task_9.py."
   ]
  }
 ],
 "metadata": {
  "kernelspec": {
   "display_name": "Python 3",
   "language": "python",
   "name": "python3"
  },
  "language_info": {
   "codemirror_mode": {
    "name": "ipython",
    "version": 3
   },
   "file_extension": ".py",
   "mimetype": "text/x-python",
   "name": "python",
   "nbconvert_exporter": "python",
   "pygments_lexer": "ipython3",
   "version": "3.8.8"
  }
 },
 "nbformat": 4,
 "nbformat_minor": 4
}
