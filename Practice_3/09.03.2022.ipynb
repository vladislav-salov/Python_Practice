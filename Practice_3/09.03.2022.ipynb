{
 "cells": [
  {
   "cell_type": "markdown",
   "metadata": {},
   "source": [
    "# Практическое занятие №3\n",
    "\n",
    "П.Н. Советов, РТУ МИРЭА"
   ]
  },
  {
   "cell_type": "markdown",
   "metadata": {},
   "source": [
    "**Задача 1**"
   ]
  },
  {
   "cell_type": "markdown",
   "metadata": {},
   "source": [
    "Приведите примеры кода, которые соответствуют следующим нарушениям PEP 8:\n",
    "\n",
    "1. whitespace before '('.\n",
    "1. missing whitespace around operator.\n",
    "1. missing whitespace after ','.\n",
    "1. unexpected spaces around keyword / parameter equals.\n",
    "1. expected 2 blank lines, found 1.\n",
    "1. multiple statements on one line (colon).\n",
    "1. multiple statements on one line (semicolon).\n",
    "1. comparison to None should be 'if cond is None:'.\n",
    "1. comparison to True should be 'if cond is True:' or 'if cond:'.\n",
    "\n",
    "Для быстрой проверки используйте сайт [pep8online.com](http://pep8online.com)."
   ]
  },
  {
   "cell_type": "code",
   "execution_count": 7,
   "metadata": {},
   "outputs": [
    {
     "name": "stdout",
     "output_type": "stream",
     "text": [
      "0 0\n",
      "0\n",
      "0\n",
      "0\n",
      "0\n"
     ]
    }
   ],
   "source": [
    "# 1.\n",
    "def function (a):\n",
    "    return a\n",
    "\n",
    "# 5.\n",
    "def function (b):\n",
    "    return b\n",
    "\n",
    "# 2.\n",
    "x =y= 0\n",
    "\n",
    "# 3.\n",
    "print(x,y)\n",
    "\n",
    "# 4.\n",
    "print(x or  y)\n",
    "\n",
    "# 6.\n",
    "if not x: print(x)\n",
    "    \n",
    "# 7.\n",
    "print(x); print(y)\n",
    "\n",
    "# 8.\n",
    "if x == None:\n",
    "    print(x)\n",
    "\n",
    "# 9.\n",
    "if x == True:\n",
    "    print(x)"
   ]
  },
  {
   "cell_type": "markdown",
   "metadata": {},
   "source": [
    "**Задача 2**"
   ]
  },
  {
   "cell_type": "markdown",
   "metadata": {},
   "source": [
    "Как вы думаете, модуль загружается один раз или загружается каждый раз при очередном импорте? Докажите правильность вашей гипотезы кодом."
   ]
  },
  {
   "cell_type": "code",
   "execution_count": 28,
   "metadata": {},
   "outputs": [
    {
     "name": "stdout",
     "output_type": "stream",
     "text": [
      "Затраченное время при однократной загрузке модуля math: 0.0000607 с.\n",
      "Затраченное время при многократной загрузке модуля math: 0.2156869 с.\n"
     ]
    }
   ],
   "source": [
    "# Спасибо Егору П. (https://github.com/eiparfenov) за решение."
   ]
  },
  {
   "cell_type": "code",
   "execution_count": null,
   "metadata": {},
   "outputs": [],
   "source": [
    "# number.py\n",
    "print(\"imported\")"
   ]
  },
  {
   "cell_type": "code",
   "execution_count": null,
   "metadata": {},
   "outputs": [],
   "source": [
    "# main.py\n",
    "import number\n",
    "# imported\n",
    "import number\n",
    "import number"
   ]
  },
  {
   "cell_type": "markdown",
   "metadata": {},
   "source": [
    "**Задача 3**"
   ]
  },
  {
   "cell_type": "markdown",
   "metadata": {},
   "source": [
    "Предположим, мы хотим изменить значение глобальной переменной модуля, чтобы новое значение отразилось на всех пользователях этого модуля. К чему приведет следующий код? Что можно предложить взамен?\n",
    "\n",
    "```Python\n",
    "from some_module import GLOBAL_VAR\n",
    "GLOBAL_VAR = 42\n",
    "```"
   ]
  },
  {
   "cell_type": "markdown",
   "metadata": {},
   "source": [
    "**Задача 4**"
   ]
  },
  {
   "cell_type": "markdown",
   "metadata": {},
   "source": [
    "Неконтролируемый импорт с помощью `*`, как известно, в Питоне не поощряется. Попробуйте сделать его контролируемым со стороны модуля. Чтобы использование звездочки приводило к импорту пользователю только определенного круга имен вашего модуля."
   ]
  },
  {
   "cell_type": "markdown",
   "metadata": {},
   "source": [
    "**Задача 5**"
   ]
  },
  {
   "cell_type": "markdown",
   "metadata": {},
   "source": [
    "Создайте учебный пакет, состоящий из нескольких модулей и JSON-файла. Получите дистрибутив, готовый для установки с помощью pip. Проверьте результат установки в виртуальном окружении."
   ]
  },
  {
   "cell_type": "markdown",
   "metadata": {},
   "source": [
    "**Задача 6**"
   ]
  },
  {
   "cell_type": "markdown",
   "metadata": {},
   "source": [
    "Напишите функцию, которая добавляет информацию о возникшем исключении (класс, сообщение, трассировка) в лог-файл. Функция не должна обрабатывать исключения. На вход функции, которую необходимо разработать, поступает ссылка на выполняемую пользовательскую функцию:\n",
    "\n",
    "```Python\n",
    "def run_with_log(func):\n",
    "    ...\n",
    "```"
   ]
  },
  {
   "cell_type": "markdown",
   "metadata": {},
   "source": [
    "**Задача 7**"
   ]
  },
  {
   "cell_type": "markdown",
   "metadata": {},
   "source": [
    "Реализуйте процедурную генерацию спрайтов 5x5 пикселей с помощью Matplotlib и функции `imshow`. Используйте свойство симметрии. Ниже показан пример генерации. Попробуйте увеличить разрешение спрайтов, поэкспериментируйте с другими вариантами симметрии, добавьте цвета.\n",
    "\n",
    "![](images/sprites.png)"
   ]
  },
  {
   "cell_type": "markdown",
   "metadata": {},
   "source": [
    "**Задача 8**"
   ]
  },
  {
   "cell_type": "markdown",
   "metadata": {},
   "source": [
    "Изобразите легендарную первую галактику из игры Elite (1984) с помощью Matplotlib. В этой игре целая вселенная описывалась с помощью всего трех чисел. Алгоритм процедурной генерации звезд, а точнее их расположений и имен, можно найти [на этом сайте](http://blog.rabidgremlin.com/2015/01/14/procedural-content-generation-creating-a-universe/). Описание первой галактики можно найти [здесь](https://wiki.alioth.net/index.php/Oolite_planet_list/Galaxy_1).\n",
    "\n",
    "Ниже показан пример визуализации галактики.\n",
    "\n",
    "![](images/stars.png)"
   ]
  },
  {
   "cell_type": "markdown",
   "metadata": {},
   "source": [
    "**Задача 9**"
   ]
  },
  {
   "cell_type": "markdown",
   "metadata": {},
   "source": [
    "Реализуйте модель сегрегации Шеллинга в Matplotlib. На двумерной сетке находятся агенты двух групп. На каждой клетке может находиться не более 1 агента. Агент «счастлив», если, как минимум, заданный количество ближайших соседей относится к его группе. В противном случае агент переезжает на иное, свободное место.\n",
    "\n",
    "Ввести следующие параметры: размер популяции, размеры сетки, процентное соотношение агентов двух групп, пороговое значение «толерантности», количество шагов моделирования.\n",
    "\n",
    "1. Реализовать отображение агентов в виде квадратов двух цветов на целочисленной сетке.\n",
    "1. Случайно разместить агентов, учитывая запрет на совпадение координат.\n",
    "1. Реализовать функцию `distance` на основе метрики манхэттенского расстояния.\n",
    "1. Реализовать функцию `is_happy`.\n",
    "1. Изобразить график исходного расположения агентов и график расположения спустя N шагов моделирования.\n",
    "1. Изобразить график изменения состояния «настроения» агентов.\n",
    "1. (повышенной сложности) Реализовать анимацию шагов моделирования."
   ]
  },
  {
   "cell_type": "markdown",
   "metadata": {},
   "source": [
    "**Задача 10**"
   ]
  },
  {
   "cell_type": "markdown",
   "metadata": {},
   "source": [
    "Проанализируйте данные, полученные от ЦАП. Попробуйте разобраться, что означают колонки в полученных записях."
   ]
  },
  {
   "cell_type": "code",
   "execution_count": 1,
   "metadata": {},
   "outputs": [
    {
     "name": "stdout",
     "output_type": "stream",
     "text": [
      "['1', '0', '4', 'ИКБО-01-20', '2022-02-18 12:58:23.489167']\n",
      "['0', '10', 'ИКБО-01-20', '2022-02-18 13:16:58.637975', '2']\n"
     ]
    }
   ],
   "source": [
    "import csv\n",
    "import datetime\n",
    "\n",
    "def parse_time(text):\n",
    "    return datetime.datetime.strptime(text, \"%Y-%m-%d %H:%M:%S.%f\")\n",
    "    \n",
    "with open('data/messages.csv', encoding='utf8') as f:\n",
    "    messages = list(csv.reader(f, delimiter=','))\n",
    "with open('data/results.csv', encoding='utf8') as f:\n",
    "    results = list(csv.reader(f, delimiter=','))\n",
    "\n",
    "print(messages[0])\n",
    "print(results[0])"
   ]
  },
  {
   "cell_type": "markdown",
   "metadata": {},
   "source": [
    "С помощью графиков ответьте на следующие вопросы:\n",
    "\n",
    "1. Как по времени суток распределяется активность студентов?\n",
    "1. Как по дням недели распределяется активность студентов?\n",
    "1. В каких группах было отправлено больше всего сообщений?\n",
    "1. В каких группах было получено больше всего правильных решений?\n",
    "1. Какие задачи оказались самыми легкими, самыми сложными?"
   ]
  },
  {
   "cell_type": "markdown",
   "metadata": {},
   "source": [
    "**Задача 11**"
   ]
  },
  {
   "cell_type": "markdown",
   "metadata": {},
   "source": [
    "Проанализируйте [базу данных](https://github.com/Newbilius/Old-Games_DOS_Game_Gauntlet/blob/master/GAMES.csv) старых компьютерных игр.\n",
    "\n",
    "С помощью графиков ответьте на следующие вопросы:\n",
    "1. Какие годы были самыми популярными с точки зрения выхода игр?\n",
    "1. Какие жанры были популярны в различные периоды времени?"
   ]
  }
 ],
 "metadata": {
  "kernelspec": {
   "display_name": "Python 3",
   "language": "python",
   "name": "python3"
  },
  "language_info": {
   "codemirror_mode": {
    "name": "ipython",
    "version": 3
   },
   "file_extension": ".py",
   "mimetype": "text/x-python",
   "name": "python",
   "nbconvert_exporter": "python",
   "pygments_lexer": "ipython3",
   "version": "3.8.8"
  }
 },
 "nbformat": 4,
 "nbformat_minor": 4
}
