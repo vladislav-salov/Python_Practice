{
 "cells": [
  {
   "cell_type": "markdown",
   "metadata": {},
   "source": [
    "# Практическое занятие №1\n",
    "\n",
    "П.Н. Советов, РТУ МИРЭА"
   ]
  },
  {
   "cell_type": "markdown",
   "metadata": {},
   "source": [
    "**Задача 3**"
   ]
  },
  {
   "cell_type": "markdown",
   "metadata": {},
   "source": [
    "В реализации Питона спрятано несколько \"пасхальных яиц\". С одним из них мы уже сталкивались, это `import this`.\n",
    "Есть как-то связанное с гравитацией. И еще одно, для тех, кто ленится написать даже самую первую программу. И еще одно -- для любителей языков программирования с непохожим на Питон синтаксисом.\n",
    "\n",
    "Удастся ли вам их обнаружить? Можете гуглить."
   ]
  },
  {
   "cell_type": "code",
   "execution_count": 1,
   "metadata": {},
   "outputs": [
    {
     "name": "stdout",
     "output_type": "stream",
     "text": [
      "The Zen of Python, by Tim Peters\n",
      "\n",
      "Beautiful is better than ugly.\n",
      "Explicit is better than implicit.\n",
      "Simple is better than complex.\n",
      "Complex is better than complicated.\n",
      "Flat is better than nested.\n",
      "Sparse is better than dense.\n",
      "Readability counts.\n",
      "Special cases aren't special enough to break the rules.\n",
      "Although practicality beats purity.\n",
      "Errors should never pass silently.\n",
      "Unless explicitly silenced.\n",
      "In the face of ambiguity, refuse the temptation to guess.\n",
      "There should be one-- and preferably only one --obvious way to do it.\n",
      "Although that way may not be obvious at first unless you're Dutch.\n",
      "Now is better than never.\n",
      "Although never is often better than *right* now.\n",
      "If the implementation is hard to explain, it's a bad idea.\n",
      "If the implementation is easy to explain, it may be a good idea.\n",
      "Namespaces are one honking great idea -- let's do more of those!\n"
     ]
    }
   ],
   "source": [
    "import this"
   ]
  },
  {
   "cell_type": "markdown",
   "metadata": {},
   "source": [
    "**Задача 4**"
   ]
  },
  {
   "cell_type": "markdown",
   "metadata": {},
   "source": [
    "Представим, что в Питоне отсутствует операция умножения. Ее можно заменить сложением. Если мы хотим умножить какое-то число x на 12, то нам понадобится 11 сложений, правильно? Но можно обойтись меньшим числом сложений.\n",
    "\n",
    "Попробуйте составить программы для решения нижеследующих задач.\n",
    "\n",
    "1. Умножение на 12. 4 сложения.\n",
    "1. Умножение на 16. 4 сложения.\n",
    "1. Умножение на 15. 3 сложения и 2 вычитания.\n",
    "1. Умножение на 29. 6 сложений и одно вычитание.\n",
    "\n",
    "Из арифметических операций можно использовать только явно указанные и в указанном количестве. Входным аргументом является переменная x. Унарный минус использовать нельзя.\n",
    "\n",
    "Тело программы должно состоять из линейной последовательности присваиваний. Оформите линейный код решения в виде функции.\n",
    "\n",
    "Приведенные задачи имеют практическое применение в области низкоуровневой оптимизации кода. Даже сегодня существуют процессоры без встроенного блока аппаратного умножения. Кстати, эталонные результаты для всех этих задач были получены автоматически с помощью так называемого синтезатора программ."
   ]
  },
  {
   "cell_type": "code",
   "execution_count": 2,
   "metadata": {},
   "outputs": [
    {
     "name": "stdout",
     "output_type": "stream",
     "text": [
      "4\n",
      "48\n"
     ]
    }
   ],
   "source": [
    "x = int(input())\n",
    "a = x + x\n",
    "b = x + a\n",
    "c = b + b\n",
    "print(c + c)"
   ]
  },
  {
   "cell_type": "code",
   "execution_count": 3,
   "metadata": {},
   "outputs": [
    {
     "name": "stdout",
     "output_type": "stream",
     "text": [
      "4\n",
      "64\n"
     ]
    }
   ],
   "source": [
    "x = int(input())\n",
    "a = x + x\n",
    "b = a + a\n",
    "c = b + b\n",
    "print(c + c)"
   ]
  },
  {
   "cell_type": "code",
   "execution_count": 4,
   "metadata": {},
   "outputs": [
    {
     "name": "stdout",
     "output_type": "stream",
     "text": [
      "1\n",
      "15\n"
     ]
    }
   ],
   "source": [
    "x = int(input())\n",
    "a = x + x\n",
    "b = a + a\n",
    "c = b + b\n",
    "d = x - c\n",
    "print(c - d)"
   ]
  },
  {
   "cell_type": "code",
   "execution_count": 5,
   "metadata": {},
   "outputs": [
    {
     "name": "stdout",
     "output_type": "stream",
     "text": [
      "1\n",
      "29\n"
     ]
    }
   ],
   "source": [
    "x = int(input())\n",
    "a = x + x\n",
    "b = a + a\n",
    "c = b + b\n",
    "d = c - x\n",
    "e = d + d\n",
    "f = e + e\n",
    "g = f + x\n",
    "print(g)"
   ]
  },
  {
   "cell_type": "markdown",
   "metadata": {},
   "source": [
    "**Задача 11**"
   ]
  },
  {
   "cell_type": "markdown",
   "metadata": {},
   "source": [
    "1. Реализуйте генератор программ `fast_mul_gen(y)` для примеров из задачи 4. Воспользуйтесь ранее полученным кодом `fast_mul`. Ваша функция должна выдать текст функции `f(x)` (умножение на ранее заданный `y`), тело которой состоит из некоторого числа присваиваний. Для вывода функции используйте `print`. Добавьте автоматическое тестирование. Объясните, почему в общем случае у вас получается большее количество сложений, чем в примерах из задачи 4.\n",
    "\n",
    "2. Реализуйте аналогичный генератор программ для возведения в степень."
   ]
  },
  {
   "cell_type": "code",
   "execution_count": 6,
   "metadata": {},
   "outputs": [
    {
     "name": "stdout",
     "output_type": "stream",
     "text": [
      "2 12\n",
      "x = 2\n",
      "y = 12\n",
      "result = 0\n",
      "b += b\n",
      "result += b\n",
      "b += b\n",
      "result = 24\n"
     ]
    }
   ],
   "source": [
    "def multiply(a, b):\n",
    "    s = 0\n",
    "    print(\"result = 0\")\n",
    "    while a:\n",
    "        if a % 2 != 0:\n",
    "            print(\"result += b\")\n",
    "            s += b\n",
    "        print(\"b += b\")\n",
    "        a //= 2\n",
    "        b *= 2\n",
    "    print(\"result = \" + str(s))\n",
    "\n",
    "x, y = map(int,input().split())\n",
    "print(\"x =\", x)\n",
    "print(\"y =\", y)\n",
    "multiply(x, y)"
   ]
  },
  {
   "cell_type": "code",
   "execution_count": 7,
   "metadata": {},
   "outputs": [
    {
     "name": "stdout",
     "output_type": "stream",
     "text": [
      "2 4\n"
     ]
    },
    {
     "data": {
      "text/plain": [
       "16"
      ]
     },
     "execution_count": 7,
     "metadata": {},
     "output_type": "execute_result"
    }
   ],
   "source": [
    "def pow_of(a, n):\n",
    "    x = a\n",
    "    for i in range(n - 1):\n",
    "        x *= a\n",
    "    return x\n",
    "\n",
    "a, n = map(int, input().split())\n",
    "pow_of(a, n)"
   ]
  },
  {
   "cell_type": "markdown",
   "metadata": {},
   "source": [
    "**Задача 12**"
   ]
  },
  {
   "cell_type": "markdown",
   "metadata": {},
   "source": [
    "Скачайте игру [DandyBot](https://github.com/true-grue/DandyBot).\n",
    "Код для своего игрока записывается в файле user_bot.py. Игра запускается с помощью main.py.\n",
    "\n",
    "Вот простой пример содержимого user_bot.py:\n",
    "\n",
    "```Python\n",
    "def script(check, x, y):\n",
    "    return 'right'\n",
    "```\n",
    "\n",
    "Игровая логика записывается исключительно в теле функции `script`. В нашем случае игрок будет постоянно двигаться вправо.\n",
    "\n",
    "Полный список действий, которые можно возвращать из функции `script`, задающей \"интеллект\" игрока:\n",
    "\n",
    "* `'up'`. Двигаться вверх на клетку.\n",
    "* `'down'`. Двигаться вниз на клетку.\n",
    "* `'left'`. Двигаться влево на клетку.\n",
    "* `'right'`. Двигаться вправо на клетку.\n",
    "* `'pass'`. Ничего не делать.\n",
    "* `'take'`. Взять золото.\n",
    "\n",
    "Для изучения среды есть функция `check`:\n",
    "\n",
    "* `check('player', x, y)`. `True`, если какой-то игрок в позиции (x, y).\n",
    "* `check('gold', x , y)`. Если золото в позиции (x, y), то вернуть его количество, иначе вернуть 0.\n",
    "* `check('wall', x, y)`. `True`, если стена в позиции (x, y).\n",
    "* `check('level')`. Вернуть номер текущего уровня. \n",
    "\n",
    "Ваша задача — пройти 4 уровня. Дополнительно устанавливаемыми библиотеками и глобальными данными пользоваться нельзя.\n",
    "\n",
    "Если игра Вам показалась слишком простой, то попробуйте ее улучшить: упростите код, добавьте новые функции, уровни."
   ]
  },
  {
   "cell_type": "code",
   "execution_count": null,
   "metadata": {},
   "outputs": [],
   "source": [
    "def script(check, x, y):\n",
    "    if check(\"gold\", x, y):\n",
    "        return \"take\"\n",
    "    if check(\"level\") == 1:\n",
    "        if not check(\"wall\", x + 2, y):\n",
    "            return \"right\"\n",
    "        return \"down\"\n",
    "    if check(\"level\") == 2:\n",
    "        if check(\"gold\", x + 1, y):\n",
    "            return \"right\"\n",
    "        if check(\"gold\", x, y + 1):\n",
    "            return \"down\"\n",
    "        if check(\"gold\", x, y - 1):\n",
    "            return \"up\"\n",
    "        if check(\"gold\", x, y - 2):\n",
    "            return \"up\"\n",
    "        if check(\"gold\", x, y - 3):\n",
    "            return \"up\"\n",
    "        if check(\"gold\", x, y - 4):\n",
    "            return \"up\"\n",
    "        if not check(\"wall\", x + 2, y):\n",
    "            return \"right\"\n",
    "    if check(\"level\") == 3:\n",
    "        if check(\"gold\", x + 1, y - 1) and check(\"gold\", x, y - 1):\n",
    "            return \"up\"\n",
    "        for i in range(10):\n",
    "            if check(\"gold\", x + i, y):\n",
    "                return \"right\"\n",
    "            elif check(\"wall\", x + i, y):\n",
    "                break\n",
    "        if check(\"wall\", x, y + 1):\n",
    "            if check(\"wall\", x - 1, y):\n",
    "                return \"up\"\n",
    "            '''\n",
    "            if check(\"wall\", x + 1, y):\n",
    "                return \"left\"\n",
    "            '''\n",
    "            return \"left\"\n",
    "        if check(\"wall\", x, y - 1):\n",
    "            '''\n",
    "            if check(\"wall\", x - 1, y):\n",
    "                return \"right\"\n",
    "            '''\n",
    "            if check(\"wall\", x + 1, y):\n",
    "                return \"down\"\n",
    "            return \"right\"\n",
    "        if check(\"wall\", x - 1, y):\n",
    "            if check(\"wall\", x, y - 1):\n",
    "                return \"right\"\n",
    "            '''\n",
    "            if check(\"wall\", x, y + 1):\n",
    "                return \"up\"\n",
    "            '''\n",
    "            return \"up\"\n",
    "        if check(\"wall\", x + 1, y):\n",
    "            '''\n",
    "            if check(\"wall\", x, y - 1):\n",
    "                return \"down\"\n",
    "            '''\n",
    "            if check(\"wall\", x, y + 1):\n",
    "                return \"left\"\n",
    "            return \"down\"\n",
    "        if check(\"wall\", x + 1, y + 1):\n",
    "            return \"down\"\n",
    "        if check(\"wall\", x - 1, y + 1):\n",
    "            return \"left\"\n",
    "        if check(\"wall\", x - 1, y - 1):\n",
    "            return \"up\"\n",
    "        if check(\"wall\", x + 1, y - 1):\n",
    "            return \"right\"\n",
    "    if check(\"level\") == 4:\n",
    "        b = False\n",
    "        i = 1\n",
    "        while 1 <= i <= 10:\n",
    "            if check(\"gold\", x + i, y):\n",
    "                for j in range(1, i):\n",
    "                    if not check(\"wall\", x + j, y):\n",
    "                        continue\n",
    "                    else:\n",
    "                        b = True\n",
    "                        break\n",
    "                if b:\n",
    "                    break\n",
    "                return \"right\"\n",
    "            i += 1\n",
    "        b = False\n",
    "        i = 1\n",
    "        while 1 <= i <= 10:\n",
    "            if check(\"gold\", x - i, y):\n",
    "                for j in range(1, i):\n",
    "                    if not check(\"wall\", x - j, y):\n",
    "                        continue\n",
    "                    else:\n",
    "                        b = True\n",
    "                        break\n",
    "                if b:\n",
    "                    break\n",
    "                return \"left\"\n",
    "            i += 1\n",
    "        b = False\n",
    "        i = 1\n",
    "        while 1 <= i <= 10:\n",
    "            if check(\"gold\", x, y + i):\n",
    "                for j in range(1, i):\n",
    "                    if not check(\"wall\", x, y + j):\n",
    "                        continue\n",
    "                    else:\n",
    "                        b = True\n",
    "                        break\n",
    "                if b:\n",
    "                    break\n",
    "                return \"down\"\n",
    "            i += 1\n",
    "        b = False\n",
    "        i = 1\n",
    "        while 1 <= i <= 10:\n",
    "            if check(\"gold\", x, y - i):\n",
    "                for j in range(1, i):\n",
    "                    if not check(\"wall\", x, y - j):\n",
    "                        continue\n",
    "                    else:\n",
    "                        b = True\n",
    "                        break\n",
    "                if b:\n",
    "                    break\n",
    "                return \"up\"\n",
    "            i += 1\n",
    "        if check(\"wall\", x, y - 1):\n",
    "            '''\n",
    "            if check(\"wall\", x - 1, y):\n",
    "                return \"right\"\n",
    "            '''\n",
    "            if check(\"wall\", x + 1, y):\n",
    "                return \"down\"\n",
    "            return \"right\"\n",
    "        if check(\"wall\", x, y + 1):\n",
    "            if check(\"wall\", x - 1, y):\n",
    "                return \"up\"\n",
    "            '''\n",
    "            if check(\"wall\", x + 1, y):\n",
    "                return \"left\"\n",
    "            '''\n",
    "            return \"left\"\n",
    "        if check(\"wall\", x + 1, y):\n",
    "            '''\n",
    "            if check(\"wall\", x, y - 1):\n",
    "                return \"down\"\n",
    "            '''\n",
    "            if check(\"wall\", x, y + 1):\n",
    "                return \"left\"\n",
    "            return \"down\"\n",
    "        if check(\"wall\", x - 1, y):\n",
    "            if check(\"wall\", x, y - 1):\n",
    "                return \"right\"\n",
    "            '''\n",
    "            if check(\"wall\", x, y + 1):\n",
    "                return \"up\"\n",
    "            '''\n",
    "            return \"up\"\n",
    "        if check(\"wall\", x + 1, y - 1):\n",
    "            return \"right\"\n",
    "        if check(\"wall\", x - 1, y + 1):\n",
    "            return \"left\"\n",
    "        if check(\"wall\", x + 1, y + 1):\n",
    "            return \"down\"\n",
    "        if check(\"wall\", x - 1, y - 1):\n",
    "            return \"up\"\n"
   ]
  },
  {
   "cell_type": "markdown",
   "metadata": {},
   "source": [
    "<h3 align=\"center\">Схема движения по стенам для прохождения уровня 3 (также частично использована в уровне 4).</h3>\n",
    "\n",
    "![_IMAGE_NOT_FOUND_](./images/lvl3+.jpg)"
   ]
  }
 ],
 "metadata": {
  "kernelspec": {
   "display_name": "Python 3",
   "language": "python",
   "name": "python3"
  },
  "language_info": {
   "codemirror_mode": {
    "name": "ipython",
    "version": 3
   },
   "file_extension": ".py",
   "mimetype": "text/x-python",
   "name": "python",
   "nbconvert_exporter": "python",
   "pygments_lexer": "ipython3",
   "version": "3.8.8"
  }
 },
 "nbformat": 4,
 "nbformat_minor": 4
}
