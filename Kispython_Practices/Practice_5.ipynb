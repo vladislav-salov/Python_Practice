{
 "cells": [
  {
   "cell_type": "markdown",
   "metadata": {},
   "source": [
    "# Практическое занятие №5\n",
    "\n",
    "П.Н. Советов, РТУ МИРЭА"
   ]
  },
  {
   "cell_type": "markdown",
   "metadata": {},
   "source": [
    "**Задача 3**"
   ]
  },
  {
   "cell_type": "markdown",
   "metadata": {},
   "source": [
    "Использование модуля coverage\n",
    "\n",
    "1. Получите статистику по покрытию операторов.\n",
    "1. Получите статистику по покрытию ветвей.\n",
    "1. Постарайтесь изменить код исходной программы так, чтобы затруднить получение 100% покрытия.\n",
    "1. Реализуйте вывод статистики о покрытии в HTML-представлении."
   ]
  },
  {
   "cell_type": "code",
   "execution_count": 2,
   "metadata": {},
   "outputs": [],
   "source": [
    "def incr(x):\n",
    "    if x != 10:\n",
    "        x += 1\n",
    "    return x\n",
    "\n",
    "\n",
    "def test_incr():\n",
    "    assert incr(0) == 1\n",
    "    assert incr(10) == 10  # Добавленный assert для 100% покрытия."
   ]
  },
  {
   "cell_type": "markdown",
   "metadata": {},
   "source": [
    "pip install coverage"
   ]
  },
  {
   "cell_type": "markdown",
   "metadata": {},
   "source": [
    "coverage run -m pytest inc.py"
   ]
  },
  {
   "cell_type": "markdown",
   "metadata": {},
   "source": [
    "coverage report -m inc.py"
   ]
  },
  {
   "cell_type": "markdown",
   "metadata": {},
   "source": [
    "coverage run --branch -m pytest inc.py"
   ]
  },
  {
   "cell_type": "markdown",
   "metadata": {},
   "source": [
    "coverage report -m inc.py"
   ]
  },
  {
   "cell_type": "markdown",
   "metadata": {},
   "source": [
    "coverage html inc.py"
   ]
  },
  {
   "cell_type": "markdown",
   "metadata": {},
   "source": [
    "<h3 align=\"center\">Вывод статистики о покрытии в HTML-представлении.</h3>\n",
    "\n",
    "![_IMAGE_NOT_FOUND_](./images/Practice_5_3.jpg)"
   ]
  },
  {
   "cell_type": "markdown",
   "metadata": {},
   "source": [
    "**Задача 6**"
   ]
  },
  {
   "cell_type": "markdown",
   "metadata": {},
   "source": [
    "Использование модуля hypothesis\n",
    "\n",
    "1. Реализуйте тестирование для численных входных данных, строк, списков.\n",
    "1. Реализуйте тестирование для словарей, деревьев, графов.\n",
    "1. Используйте при создании свойств как можно больше категорий, перечисленных в лекции.\n",
    "1. Найдите подходящую программу и реализуйте для нее тестирование на основе модели.\n",
    "1. Разберитесь, для чего в библиотеке hypothesis используются bundles и примените их в тестировании на основе моделей."
   ]
  },
  {
   "cell_type": "code",
   "execution_count": null,
   "metadata": {},
   "outputs": [],
   "source": [
    "# Спасибо Егору (https://github.com/ExTimeGameing) за решение!\n",
    "\n",
    "\n",
    "from hypothesis import given, strategies\n",
    "\n",
    "\n",
    "# Тестирование для чисел, строк, списков.\n",
    "\n",
    "def add(x, y):\n",
    "    return x + y\n",
    "\n",
    "def subtracr(x, y):\n",
    "    return x - y\n",
    "\n",
    "@given(x=strategies.integers(min_value=5), y=strategies.integers(min_value=1))\n",
    "def test_add(x, y):\n",
    "    # assert add(x, y) == add(x, y) * (-1)\n",
    "    assert add(x, y) == add(y, x) # Пункт №3 - Свойство \"Разные пути, одна цель\"\n",
    "    assert subtracr(add(x, y), y) == x #Пункт №3 - Свойство \"Туда и обратно\"\n",
    "\n",
    "def check(s, str):\n",
    "    if s in str:\n",
    "        return True\n",
    "    else:\n",
    "        return False\n",
    "\n",
    "\n",
    "@given(s=strategies.text(), str=strategies.text())\n",
    "def test_check(s, str):\n",
    "    assert check(s, str) == True\n",
    "\n",
    "\n",
    "def mode(data):\n",
    "    res = len(data)\n",
    "    data.sort()\n",
    "    res2 = len(data)\n",
    "    return res == res2\n",
    "\n",
    "\n",
    "@given(data=strategies.lists(strategies.integers(min_value=1, max_value=100), min_size=5))\n",
    "def test_mode(data):\n",
    "    print(data)\n",
    "    assert mode(data) == True  # Пункт №3 - Свойство \"Некоторые вещи не меняются\"\n",
    "\n",
    "\n",
    "# test_add()\n",
    "# test_check()\n",
    "test_mode()\n",
    "\n",
    "# Тестирование словарей, деревьев, графов.\n",
    "def dictCount(d):\n",
    "    return len(d)\n",
    "\n",
    "\n",
    "keys = strategies.integers()\n",
    "vals = strategies.text()\n",
    "\n",
    "\n",
    "@given(d=strategies.dictionaries(keys=keys, values=vals))\n",
    "def test_dictCount(d):\n",
    "    assert dictCount(d) < 5\n",
    "\n",
    "\n",
    "def treeKidsCount(t):\n",
    "    return len(t)\n",
    "\n",
    "\n",
    "@given(t=strategies.lists(elements=strategies.lists(elements=strategies.booleans(), min_size=2, max_size=3)))\n",
    "def test_tree(t):\n",
    "    assert treeKidsCount(t) < 4\n",
    "\n",
    "\n",
    "N = [[0, 1, 1, 1, 1, 1, 0, 0],  # a\n",
    "     [0, 0, 1, 0, 1, 0, 0, 0],  # b\n",
    "     [0, 0, 0, 1, 0, 0, 0, 0],  # c\n",
    "     [0, 0, 0, 0, 1, 0, 0, 0],  # d\n",
    "     [0, 0, 0, 0, 0, 1, 0, 0],  # e\n",
    "     [0, 0, 1, 0, 0, 0, 1, 1],  # f\n",
    "     [0, 0, 0, 0, 0, 1, 0, 1],  # g\n",
    "     [0, 0, 0, 0, 0, 1, 1, 0]]  # h\n",
    "\n",
    "\n",
    "def graph_weight(a, b):\n",
    "    if 0 < a < 8 and 0 < b < 8:\n",
    "        if N[a][b] == 1:\n",
    "            return 1\n",
    "        else:\n",
    "            return 0\n",
    "\n",
    "\n",
    "@given(x=strategies.integers(min_value=0, max_value=7), y=strategies.integers(min_value=0, max_value=7))\n",
    "def test_graph(x, y):\n",
    "    print(x, y)\n",
    "    assert graph_weight(x, y) != 0\n",
    "\n",
    "\n",
    "# Сайт с официальной документацией: https://hypothesis.readthedocs.io/en/latest/stateful.html\n",
    "# Bundle — это такая специальная коллекция, позволяющая случайно генерируемые данные модели запоминать и использовать в дальнейшем тестировании."
   ]
  }
 ],
 "metadata": {
  "kernelspec": {
   "display_name": "Python 3",
   "language": "python",
   "name": "python3"
  },
  "language_info": {
   "codemirror_mode": {
    "name": "ipython",
    "version": 3
   },
   "file_extension": ".py",
   "mimetype": "text/x-python",
   "name": "python",
   "nbconvert_exporter": "python",
   "pygments_lexer": "ipython3",
   "version": "3.8.8"
  }
 },
 "nbformat": 4,
 "nbformat_minor": 4
}
