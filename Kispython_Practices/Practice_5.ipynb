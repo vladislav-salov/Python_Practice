{
 "cells": [
  {
   "cell_type": "markdown",
   "metadata": {},
   "source": [
    "# Практическое занятие №5\n",
    "\n",
    "П.Н. Советов, РТУ МИРЭА"
   ]
  },
  {
   "cell_type": "markdown",
   "metadata": {},
   "source": [
    "Решать эту и дальнейшие задачи удобнее в парном составе: один студент занимается написанием кода программы и пытается внести в код такие ошибки, которые будет сложно протестировать другому студенту.\n",
    "\n",
    "Пример программы с ошибкой:\n",
    "\n",
    "```Python\n",
    "def bucketsort(arr, k):\n",
    "    counts = [0] * k\n",
    "    for x in arr:\n",
    "        counts[x] += 1\n",
    "\n",
    "    sorted_arr = []\n",
    "    for i, count in enumerate(arr):\n",
    "        sorted_arr.extend([i] * count)\n",
    "\n",
    "    return sorted_arr\n",
    "```\n",
    "\n",
    "Другие примеры можно взять [отсюда](https://github.com/jkoppel/QuixBugs/tree/master/python_programs)."
   ]
  },
  {
   "cell_type": "markdown",
   "metadata": {},
   "source": [
    "**Задача 1**"
   ]
  },
  {
   "cell_type": "markdown",
   "metadata": {},
   "source": [
    "Использование модуля doctest\n",
    "\n",
    "1. Добавьте документацию к программе в виде docstring-строки.\n",
    "1. Укажите примеры в формате doctest. Примеры должны охватывать граничные случаи.\n",
    "1. Протестируйте программу с помощью вызова модуля doctest.\n",
    "1. Перенесите примеры в отдельный файл и снова протестируйте программу."
   ]
  },
  {
   "cell_type": "code",
   "execution_count": 1,
   "metadata": {},
   "outputs": [],
   "source": [
    "def factorial(n):\n",
    "    \"\"\"Return the factorial of n, an exact integer >= 0.\n",
    "\n",
    "    >>> [factorial(n) for n in range(6)]\n",
    "    [1, 1, 2, 6, 24, 120]\n",
    "    >>> factorial(30)\n",
    "    265252859812191058636308480000000\n",
    "    >>> factorial(-1)\n",
    "    Traceback (most recent call last):\n",
    "        ...\n",
    "    ValueError: n must be >= 0\n",
    "\n",
    "    Factorials of floats are OK, but the float must be an exact integer:\n",
    "    >>> factorial(30.1)\n",
    "    Traceback (most recent call last):\n",
    "        ...\n",
    "    ValueError: n must be exact integer\n",
    "    >>> factorial(30.0)\n",
    "    265252859812191058636308480000000\n",
    "\n",
    "    It must also not be ridiculously large:\n",
    "    >>> factorial(1e100)\n",
    "    Traceback (most recent call last):\n",
    "        ...\n",
    "    OverflowError: n too large\n",
    "    \"\"\"\n",
    "\n",
    "    import math\n",
    "    if not n >= 0:\n",
    "        raise ValueError(\"n must be >= 0\")\n",
    "    if math.floor(n) != n:\n",
    "        raise ValueError(\"n must be exact integer\")\n",
    "    if n+1 == n:  # catch a value like 1e300\n",
    "        raise OverflowError(\"n too large\")\n",
    "    result = 1\n",
    "    factor = 2\n",
    "    while factor <= n:\n",
    "        result *= factor\n",
    "        factor += 1\n",
    "    return result\n",
    "\n",
    "\n",
    "if __name__ == \"__main__\":\n",
    "    import doctest\n",
    "    doctest.testmod()"
   ]
  },
  {
   "cell_type": "markdown",
   "metadata": {},
   "source": [
    "**Задача 2**"
   ]
  },
  {
   "cell_type": "markdown",
   "metadata": {},
   "source": [
    "Использование модуля pytest\n",
    "\n",
    "1. Создайте отдельный файл для тестирования в который поместите тестирующие функции (не менее двух).\n",
    "1. Упростите код с помощью добавления fixture-функций.\n",
    "1. Добавьте параметризацию.\n",
    "1. Добавьте макетный код."
   ]
  },
  {
   "cell_type": "code",
   "execution_count": null,
   "metadata": {},
   "outputs": [],
   "source": []
  },
  {
   "cell_type": "markdown",
   "metadata": {},
   "source": [
    "**Задача 3**"
   ]
  },
  {
   "cell_type": "markdown",
   "metadata": {},
   "source": [
    "Использование модуля coverage\n",
    "\n",
    "1. Получите статистику по покрытию операторов.\n",
    "1. Получите статистику по покрытию ветвей.\n",
    "1. Постарайтесь изменить код исходной программы так, чтобы затруднить получение 100% покрытия.\n",
    "1. Реализуйте вывод статистики о покрытии в HTML-представлении."
   ]
  },
  {
   "cell_type": "code",
   "execution_count": 2,
   "metadata": {},
   "outputs": [],
   "source": [
    "def incr(x):\n",
    "    if x != 10:\n",
    "        x += 1\n",
    "    return x\n",
    "\n",
    "\n",
    "def test_incr():\n",
    "    assert incr(0) == 1\n",
    "    assert incr(10) == 10  # Добавленный assert для 100% покрытия."
   ]
  },
  {
   "cell_type": "markdown",
   "metadata": {},
   "source": [
    "pip install coverage\n",
    "coverage run -m pytest inc.py\n",
    "coverage report -m inc.py\n",
    "coverage run --branch -m pytest inc.py\n",
    "coverage report -m inc.py\n",
    "coverage html inc.py"
   ]
  },
  {
   "cell_type": "markdown",
   "metadata": {},
   "source": [
    "<h3 align=\"center\">Вывод статистики о покрытии в HTML-представлении.</h3>\n",
    "\n",
    "![_IMAGE_NOT_FOUND_](./images/Practice_5_3.jpg)"
   ]
  },
  {
   "cell_type": "markdown",
   "metadata": {},
   "source": [
    "**Задача 5**"
   ]
  },
  {
   "cell_type": "markdown",
   "metadata": {},
   "source": [
    "Использование модуля deal\n",
    "\n",
    "1. Добавьте к программе контракты `pre`, `post`, `ensure`, `raises`, `reason`.\n",
    "1. Найдите программу, для которой контракт `has` будет полезен.\n",
    "1. Для программы с классами используйте инвариант `inv`.\n",
    "1. Для тестирования контрактов используйте pytest.\n",
    "1. Реализуйте контракт, выполнение которого `deal` проверяет статически. Какие ограничения имеют статически проверяемые контракты?"
   ]
  },
  {
   "cell_type": "code",
   "execution_count": null,
   "metadata": {},
   "outputs": [],
   "source": []
  },
  {
   "cell_type": "markdown",
   "metadata": {},
   "source": [
    "**Задача 6**"
   ]
  },
  {
   "cell_type": "markdown",
   "metadata": {},
   "source": [
    "Использование модуля hypothesis\n",
    "\n",
    "1. Реализуйте тестирование для численных входных данных, строк, списков.\n",
    "1. Реализуйте тестирование для словарей, деревьев, графов.\n",
    "1. Используйте при создании свойств как можно больше категорий, перечисленных в лекции.\n",
    "1. Найдите подходящую программу и реализуйте для нее тестирование на основе модели.\n",
    "1. Разберитесь, для чего в библиотеке hypothesis используются bundles и примените их в тестировании на основе моделей."
   ]
  },
  {
   "cell_type": "code",
   "execution_count": null,
   "metadata": {},
   "outputs": [],
   "source": []
  }
 ],
 "metadata": {
  "kernelspec": {
   "display_name": "Python 3",
   "language": "python",
   "name": "python3"
  },
  "language_info": {
   "codemirror_mode": {
    "name": "ipython",
    "version": 3
   },
   "file_extension": ".py",
   "mimetype": "text/x-python",
   "name": "python",
   "nbconvert_exporter": "python",
   "pygments_lexer": "ipython3",
   "version": "3.8.8"
  }
 },
 "nbformat": 4,
 "nbformat_minor": 4
}
