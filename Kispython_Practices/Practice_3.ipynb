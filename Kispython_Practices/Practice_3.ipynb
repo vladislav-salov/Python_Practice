{
 "cells": [
  {
   "cell_type": "markdown",
   "metadata": {},
   "source": [
    "# Практическое занятие №3\n",
    "\n",
    "П.Н. Советов, РТУ МИРЭА"
   ]
  },
  {
   "cell_type": "markdown",
   "metadata": {},
   "source": [
    "**Задача 1**"
   ]
  },
  {
   "cell_type": "markdown",
   "metadata": {},
   "source": [
    "Приведите примеры кода, которые соответствуют следующим нарушениям PEP 8:\n",
    "\n",
    "1. whitespace before '('.\n",
    "1. missing whitespace around operator.\n",
    "1. missing whitespace after ','.\n",
    "1. unexpected spaces around keyword / parameter equals.\n",
    "1. expected 2 blank lines, found 1.\n",
    "1. multiple statements on one line (colon).\n",
    "1. multiple statements on one line (semicolon).\n",
    "1. comparison to None should be 'if cond is None:'.\n",
    "1. comparison to True should be 'if cond is True:' or 'if cond:'.\n",
    "\n",
    "Для быстрой проверки используйте сайт [pep8online.com](http://pep8online.com)."
   ]
  },
  {
   "cell_type": "code",
   "execution_count": 1,
   "metadata": {},
   "outputs": [
    {
     "name": "stdout",
     "output_type": "stream",
     "text": [
      "0 0\n",
      "0\n",
      "0\n",
      "0\n",
      "0\n"
     ]
    }
   ],
   "source": [
    "# 1.\n",
    "def function (a):\n",
    "    return a\n",
    "\n",
    "# 5.\n",
    "def function (b):\n",
    "    return b\n",
    "\n",
    "# 2.\n",
    "x =y= 0\n",
    "\n",
    "# 3.\n",
    "print(x,y)\n",
    "\n",
    "# 4.\n",
    "print(x or  y)\n",
    "\n",
    "# 6.\n",
    "if not x: print(x)\n",
    "    \n",
    "# 7.\n",
    "print(x); print(y)\n",
    "\n",
    "# 8.\n",
    "if x == None:\n",
    "    print(x)\n",
    "\n",
    "# 9.\n",
    "if x == True:\n",
    "    print(x)"
   ]
  },
  {
   "cell_type": "markdown",
   "metadata": {},
   "source": [
    "**Задача 2**"
   ]
  },
  {
   "cell_type": "markdown",
   "metadata": {},
   "source": [
    "Как вы думаете, модуль загружается один раз или загружается каждый раз при очередном импорте? Докажите правильность вашей гипотезы кодом."
   ]
  },
  {
   "cell_type": "code",
   "execution_count": 2,
   "metadata": {},
   "outputs": [],
   "source": [
    "# Спасибо Егору П. (https://github.com/eiparfenov) за решение."
   ]
  },
  {
   "cell_type": "code",
   "execution_count": 3,
   "metadata": {},
   "outputs": [
    {
     "name": "stdout",
     "output_type": "stream",
     "text": [
      "imported\n"
     ]
    }
   ],
   "source": [
    "# number.py\n",
    "print(\"imported\")"
   ]
  },
  {
   "cell_type": "raw",
   "metadata": {},
   "source": [
    "# main.py\n",
    "import number\n",
    "# imported\n",
    "import number\n",
    "import number"
   ]
  },
  {
   "cell_type": "markdown",
   "metadata": {},
   "source": [
    "**Задача 8**"
   ]
  },
  {
   "cell_type": "markdown",
   "metadata": {},
   "source": [
    "Изобразите легендарную первую галактику из игры Elite (1984) с помощью Matplotlib. В этой игре целая вселенная описывалась с помощью всего трех чисел. Алгоритм процедурной генерации звезд, а точнее их расположений и имен, можно найти [на этом сайте](http://blog.rabidgremlin.com/2015/01/14/procedural-content-generation-creating-a-universe/). Описание первой галактики можно найти [здесь](https://wiki.alioth.net/index.php/Oolite_planet_list/Galaxy_1)."
   ]
  },
  {
   "cell_type": "code",
   "execution_count": null,
   "metadata": {},
   "outputs": [],
   "source": [
    "import matplotlib.pyplot as plt\n",
    "\n",
    "\n",
    "BASE_0 = 0x5A4A  # число 23114\n",
    "BASE_1 = 0x0248  # число 584\n",
    "BASE_2 = 0xB753  # число 46931\n",
    "\n",
    "\n",
    "pairs = \"..LEXEGEZACEBISOUSESARMAINDIREA.ERATENBERALAVETIEDORQUANTEISRION\"\n",
    "galaxy = []\n",
    "\n",
    "\n",
    "def tweakseed(s):\n",
    "    temp = s[0] + s[1] + s[2]\n",
    "    s[0] = s[1]\n",
    "    s[1] = s[2]\n",
    "    s[2] = temp\n",
    "    return s\n",
    "\n",
    "\n",
    "def stripout(s, c):\n",
    "    s = s.replace(c, '')\n",
    "    return s\n",
    "\n",
    "\n",
    "def makesystem(s):\n",
    "    longnameflag = s[0] & 64\n",
    "    thissys = [0, 0, '']\n",
    "    thisname = [''] * 12\n",
    "    thissys[0] = (s[1] >> 8) % 256\n",
    "    thissys[1] = (s[0] >> 8) % 256\n",
    "    pair1 = 2 * ((s[2] >> 8) & 31)\n",
    "    s = tweakseed(s)\n",
    "    pair2 = 2 * ((s[2] >> 8) & 31)\n",
    "    s = tweakseed(s)\n",
    "    pair3 = 2 * ((s[2] >> 8) & 31)\n",
    "    s = tweakseed(s)\n",
    "    pair4 = 2 * ((s[2] >> 8) & 31)\n",
    "    s = tweakseed(s)\n",
    "    thisname[0] = pairs[pair1]\n",
    "    thisname[1] = pairs[pair1 + 1]\n",
    "    thisname[2] = pairs[pair2]\n",
    "    thisname[3] = pairs[pair2 + 1]\n",
    "    thisname[4] = pairs[pair3]\n",
    "    thisname[5] = pairs[pair3 + 1]\n",
    "    if longnameflag:\n",
    "        thisname[6] += pairs[pair4]\n",
    "        thisname[7] += pairs[pair4 + 1]\n",
    "    thisname = ''.join(thisname)\n",
    "    thissys[2] = stripout(thisname, '.')\n",
    "    return thissys\n",
    "\n",
    "\n",
    "seed = [BASE_0, BASE_1, BASE_2]\n",
    "for i in range(0, 256):\n",
    "    galaxy.append(makesystem(seed))\n",
    "\n",
    "\n",
    "xs = range(0, 256)\n",
    "plt.title('First Galaxy')\n",
    "for i in range(0, 256):\n",
    "    plt.scatter(galaxy[i][0], 256 - galaxy[i][1], c = 'red')\n",
    "    plt.text(galaxy[i][0], 256 - galaxy[i][1], galaxy[i][2])\n",
    "plt.show()\n"
   ]
  },
  {
   "cell_type": "markdown",
   "metadata": {},
   "source": [
    "**Задача 9**"
   ]
  },
  {
   "cell_type": "markdown",
   "metadata": {},
   "source": [
    "Реализуйте модель сегрегации Шеллинга в Matplotlib. На двумерной сетке находятся агенты двух групп. На каждой клетке может находиться не более 1 агента. Агент «счастлив», если, как минимум, заданный количество ближайших соседей относится к его группе. В противном случае агент переезжает на иное, свободное место.\n",
    "\n",
    "Ввести следующие параметры: размер популяции, размеры сетки, процентное соотношение агентов двух групп, пороговое значение «толерантности», количество шагов моделирования.\n",
    "\n",
    "1. Реализовать отображение агентов в виде квадратов двух цветов на целочисленной сетке.\n",
    "1. Случайно разместить агентов, учитывая запрет на совпадение координат.\n",
    "1. Реализовать функцию `distance` на основе метрики манхэттенского расстояния.\n",
    "1. Реализовать функцию `is_happy`.\n",
    "1. Изобразить график исходного расположения агентов и график расположения спустя N шагов моделирования.\n",
    "1. Изобразить график изменения состояния «настроения» агентов.\n",
    "1. (повышенной сложности) Реализовать анимацию шагов моделирования."
   ]
  },
  {
   "cell_type": "code",
   "execution_count": null,
   "metadata": {},
   "outputs": [],
   "source": [
    "from random import randint, choice\n",
    "import matplotlib.pyplot as plt\n",
    "import time\n",
    "\n",
    "\n",
    "class Agent:\n",
    "    MAX = 20\n",
    "    NEIGHBOURS = 10\n",
    "    PERCENT = 0.8\n",
    "\n",
    "    def __init__(self, group):\n",
    "        self.x = randint(0, self.MAX)\n",
    "        self.y = randint(0, self.MAX)\n",
    "        self.group = group\n",
    "\n",
    "    def distance(self, other: 'Agent') -> float:\n",
    "        return abs(self.x - other.x) + abs(self.y - other.y)\n",
    "\n",
    "    def happy(self, others):\n",
    "        neighbours = 0\n",
    "        ms = []\n",
    "        for other in others:\n",
    "            ms.append((self.distance(other), other))\n",
    "\n",
    "        ms.sort(key=lambda x: x[0])\n",
    "        for i in range(self.NEIGHBOURS):\n",
    "            if ms[i][1].group == self.group:\n",
    "                neighbours += 1\n",
    "\n",
    "        return neighbours >= self.NEIGHBOURS * self.PERCENT\n",
    "\n",
    "    def update(self, others):\n",
    "        if not self.happy(others):\n",
    "            while True:\n",
    "                nx, ny = randint(0, self.MAX), randint(0, self.MAX)\n",
    "                for other in others:\n",
    "                    if other.x == nx and other.y == ny:\n",
    "                        continue\n",
    "                self.x, self.y = nx, ny\n",
    "                break\n",
    "\n",
    "\n",
    "def simulation(grs, field, k, p):\n",
    "\n",
    "    Agent.PERCENT = p\n",
    "    Agent.MAX = field\n",
    "    Agent.NEIGHBOURS = k\n",
    "\n",
    "    groups = ['first', 'second']\n",
    "\n",
    "    agents = [Agent(groups[0]) for i in range(grs[0])] + [Agent(groups[1]) for i in range(grs[1])]\n",
    "    happy = []\n",
    "\n",
    "    plt.ion()\n",
    "\n",
    "    for i in range(20):\n",
    "        c_h = 0\n",
    "        for agent in agents:\n",
    "            agent.update(agents)\n",
    "            if agent.happy(agents):\n",
    "                c_h += 1\n",
    "        if c_h == len(agents):\n",
    "            break\n",
    "        happy.append(c_h / len(agents))\n",
    "        x = [[], []]\n",
    "        y = [[], []]\n",
    "        for agent in agents:\n",
    "            group = groups.index(agent.group)\n",
    "            x[group].append(agent.x)\n",
    "            y[group].append(agent.y)\n",
    "\n",
    "        plt.clf()\n",
    "        print(x[0], y[0])\n",
    "        plt.plot(x[0], y[0], 's', markerfacecolor='darkblue', markersize=10)\n",
    "        plt.plot(x[1], y[1], 's', markerfacecolor='darkgreen', markersize=10)\n",
    "        '''\n",
    "        ax = plt.gca()\n",
    "        ax.set_facecolor('yellow')\n",
    "        '''\n",
    "        plt.draw()\n",
    "        plt.gcf().canvas.flush_events()\n",
    "        time.sleep(0.2)\n",
    "\n",
    "    plt.ioff()\n",
    "    plt.clf()\n",
    "    plt.plot(happy)\n",
    "    plt.show()\n",
    "\n",
    "\n",
    "if __name__ == '__main__':\n",
    "    simulation((80, 80), 20, 10, 0.8)\n"
   ]
  }
 ],
 "metadata": {
  "kernelspec": {
   "display_name": "Python 3",
   "language": "python",
   "name": "python3"
  },
  "language_info": {
   "codemirror_mode": {
    "name": "ipython",
    "version": 3
   },
   "file_extension": ".py",
   "mimetype": "text/x-python",
   "name": "python",
   "nbconvert_exporter": "python",
   "pygments_lexer": "ipython3",
   "version": "3.8.8"
  }
 },
 "nbformat": 4,
 "nbformat_minor": 4
}
